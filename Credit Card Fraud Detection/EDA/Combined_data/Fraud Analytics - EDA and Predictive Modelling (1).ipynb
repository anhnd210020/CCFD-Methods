{
 "cells": [
  {
   "cell_type": "markdown",
   "id": "4479be1b",
   "metadata": {},
   "source": [
    "# Credit Card Fraud Detection\n",
    "## By S.V. Sriram Erramilli"
   ]
  },
  {
   "cell_type": "markdown",
   "id": "0c19f83c",
   "metadata": {},
   "source": [
    "# Problem Statement:\n",
    "Finex is a leading financial service provider based out of Florida, US. It offers a wide range of products and business services to customers through different channels, ranging from in-person banking and ATMs to online banking. Over the last few years, Finex has observed that a significantly large number of unauthorised transactions are being made, due to which the bank has been facing a huge revenue and profitability crisis. Many customers have been complaining about unauthorised transactions being made through their credit/debit cards. It has been reported that fraudsters use stolen/lost cards and hack private systems to access the personal and sensitive data of many cardholders. They also indulge in ATM skimming at various POS terminals such as gas stations, shopping malls, and ATMs that do not send alerts or do not have OTP systems through banks. Such fraudulent activities have been reported to happen during non-peak and odd hours of the day leaving no room for suspicion.\n",
    "\n",
    "In most cases, customers get to know of such unauthorised transactions happening through their cards quite late as they are unaware of such ongoing credit card frauds or they do not monitor their bank account activities closely. This has led to late complaint registration with Finex and by the time the case is flagged fraudulent, the bank incurs heavy losses and ends up paying the lost amount to the cardholders.\n",
    "\n",
    "Now, Finex is also not really equipped with the latest financial technologies, and it is becoming difficult for the bank to track these data breaches on time to prevent further losses. The Branch Manager is worried about the ongoing situation and wants to identify the possible root causes and action areas to come up with a long-term solution that would help the bank generate high revenue with minimal losses.\n",
    "\n"
   ]
  },
  {
   "cell_type": "markdown",
   "id": "2fde51da",
   "metadata": {},
   "source": [
    "# Steps to be performed:\n",
    "1. Data Understanding\n",
    "2. Exploratory Data Analyses (EDA)\n",
    "3. Train-Test split\n",
    "4. Model building and evaluation"
   ]
  },
  {
   "cell_type": "markdown",
   "id": "294a54cc",
   "metadata": {},
   "source": [
    "# 1. Data Understanding"
   ]
  },
  {
   "cell_type": "code",
   "execution_count": 25,
   "id": "d663873b",
   "metadata": {},
   "outputs": [],
   "source": [
    "# importing necessary libraries for data loading and EDA\n",
    "import numpy as np, pandas as pd, matplotlib.pyplot as plt, seaborn as sns\n",
    "import joblib\n",
    "import warnings\n",
    "from sklearn.model_selection import train_test_split\n",
    "warnings.filterwarnings('ignore')"
   ]
  },
  {
   "cell_type": "code",
   "execution_count": null,
   "id": "4dfa8cb3",
   "metadata": {},
   "outputs": [
    {
     "data": {
      "text/html": [
       "<div>\n",
       "<style scoped>\n",
       "    .dataframe tbody tr th:only-of-type {\n",
       "        vertical-align: middle;\n",
       "    }\n",
       "\n",
       "    .dataframe tbody tr th {\n",
       "        vertical-align: top;\n",
       "    }\n",
       "\n",
       "    .dataframe thead th {\n",
       "        text-align: right;\n",
       "    }\n",
       "</style>\n",
       "<table border=\"1\" class=\"dataframe\">\n",
       "  <thead>\n",
       "    <tr style=\"text-align: right;\">\n",
       "      <th></th>\n",
       "      <th>Unnamed: 0</th>\n",
       "      <th>trans_date_trans_time</th>\n",
       "      <th>cc_num</th>\n",
       "      <th>merchant</th>\n",
       "      <th>category</th>\n",
       "      <th>amt</th>\n",
       "      <th>first</th>\n",
       "      <th>last</th>\n",
       "      <th>gender</th>\n",
       "      <th>street</th>\n",
       "      <th>...</th>\n",
       "      <th>lat</th>\n",
       "      <th>long</th>\n",
       "      <th>city_pop</th>\n",
       "      <th>job</th>\n",
       "      <th>dob</th>\n",
       "      <th>trans_num</th>\n",
       "      <th>unix_time</th>\n",
       "      <th>merch_lat</th>\n",
       "      <th>merch_long</th>\n",
       "      <th>is_fraud</th>\n",
       "    </tr>\n",
       "  </thead>\n",
       "  <tbody>\n",
       "    <tr>\n",
       "      <th>0</th>\n",
       "      <td>0</td>\n",
       "      <td>2019-01-01 00:00:18</td>\n",
       "      <td>2703186189652095</td>\n",
       "      <td>fraud_Rippin, Kub and Mann</td>\n",
       "      <td>misc_net</td>\n",
       "      <td>4.97</td>\n",
       "      <td>Jennifer</td>\n",
       "      <td>Banks</td>\n",
       "      <td>F</td>\n",
       "      <td>561 Perry Cove</td>\n",
       "      <td>...</td>\n",
       "      <td>36.0788</td>\n",
       "      <td>-81.1781</td>\n",
       "      <td>3495</td>\n",
       "      <td>Psychologist, counselling</td>\n",
       "      <td>1988-03-09</td>\n",
       "      <td>0b242abb623afc578575680df30655b9</td>\n",
       "      <td>1325376018</td>\n",
       "      <td>36.011293</td>\n",
       "      <td>-82.048315</td>\n",
       "      <td>0</td>\n",
       "    </tr>\n",
       "    <tr>\n",
       "      <th>1</th>\n",
       "      <td>1</td>\n",
       "      <td>2019-01-01 00:00:44</td>\n",
       "      <td>630423337322</td>\n",
       "      <td>fraud_Heller, Gutmann and Zieme</td>\n",
       "      <td>grocery_pos</td>\n",
       "      <td>107.23</td>\n",
       "      <td>Stephanie</td>\n",
       "      <td>Gill</td>\n",
       "      <td>F</td>\n",
       "      <td>43039 Riley Greens Suite 393</td>\n",
       "      <td>...</td>\n",
       "      <td>48.8878</td>\n",
       "      <td>-118.2105</td>\n",
       "      <td>149</td>\n",
       "      <td>Special educational needs teacher</td>\n",
       "      <td>1978-06-21</td>\n",
       "      <td>1f76529f8574734946361c461b024d99</td>\n",
       "      <td>1325376044</td>\n",
       "      <td>49.159047</td>\n",
       "      <td>-118.186462</td>\n",
       "      <td>0</td>\n",
       "    </tr>\n",
       "    <tr>\n",
       "      <th>2</th>\n",
       "      <td>2</td>\n",
       "      <td>2019-01-01 00:00:51</td>\n",
       "      <td>38859492057661</td>\n",
       "      <td>fraud_Lind-Buckridge</td>\n",
       "      <td>entertainment</td>\n",
       "      <td>220.11</td>\n",
       "      <td>Edward</td>\n",
       "      <td>Sanchez</td>\n",
       "      <td>M</td>\n",
       "      <td>594 White Dale Suite 530</td>\n",
       "      <td>...</td>\n",
       "      <td>42.1808</td>\n",
       "      <td>-112.2620</td>\n",
       "      <td>4154</td>\n",
       "      <td>Nature conservation officer</td>\n",
       "      <td>1962-01-19</td>\n",
       "      <td>a1a22d70485983eac12b5b88dad1cf95</td>\n",
       "      <td>1325376051</td>\n",
       "      <td>43.150704</td>\n",
       "      <td>-112.154481</td>\n",
       "      <td>0</td>\n",
       "    </tr>\n",
       "    <tr>\n",
       "      <th>3</th>\n",
       "      <td>3</td>\n",
       "      <td>2019-01-01 00:01:16</td>\n",
       "      <td>3534093764340240</td>\n",
       "      <td>fraud_Kutch, Hermiston and Farrell</td>\n",
       "      <td>gas_transport</td>\n",
       "      <td>45.00</td>\n",
       "      <td>Jeremy</td>\n",
       "      <td>White</td>\n",
       "      <td>M</td>\n",
       "      <td>9443 Cynthia Court Apt. 038</td>\n",
       "      <td>...</td>\n",
       "      <td>46.2306</td>\n",
       "      <td>-112.1138</td>\n",
       "      <td>1939</td>\n",
       "      <td>Patent attorney</td>\n",
       "      <td>1967-01-12</td>\n",
       "      <td>6b849c168bdad6f867558c3793159a81</td>\n",
       "      <td>1325376076</td>\n",
       "      <td>47.034331</td>\n",
       "      <td>-112.561071</td>\n",
       "      <td>0</td>\n",
       "    </tr>\n",
       "    <tr>\n",
       "      <th>4</th>\n",
       "      <td>4</td>\n",
       "      <td>2019-01-01 00:03:06</td>\n",
       "      <td>375534208663984</td>\n",
       "      <td>fraud_Keeling-Crist</td>\n",
       "      <td>misc_pos</td>\n",
       "      <td>41.96</td>\n",
       "      <td>Tyler</td>\n",
       "      <td>Garcia</td>\n",
       "      <td>M</td>\n",
       "      <td>408 Bradley Rest</td>\n",
       "      <td>...</td>\n",
       "      <td>38.4207</td>\n",
       "      <td>-79.4629</td>\n",
       "      <td>99</td>\n",
       "      <td>Dance movement psychotherapist</td>\n",
       "      <td>1986-03-28</td>\n",
       "      <td>a41d7549acf90789359a9aa5346dcb46</td>\n",
       "      <td>1325376186</td>\n",
       "      <td>38.674999</td>\n",
       "      <td>-78.632459</td>\n",
       "      <td>0</td>\n",
       "    </tr>\n",
       "  </tbody>\n",
       "</table>\n",
       "<p>5 rows × 23 columns</p>\n",
       "</div>"
      ],
      "text/plain": [
       "   Unnamed: 0 trans_date_trans_time            cc_num  \\\n",
       "0           0   2019-01-01 00:00:18  2703186189652095   \n",
       "1           1   2019-01-01 00:00:44      630423337322   \n",
       "2           2   2019-01-01 00:00:51    38859492057661   \n",
       "3           3   2019-01-01 00:01:16  3534093764340240   \n",
       "4           4   2019-01-01 00:03:06   375534208663984   \n",
       "\n",
       "                             merchant       category     amt      first  \\\n",
       "0          fraud_Rippin, Kub and Mann       misc_net    4.97   Jennifer   \n",
       "1     fraud_Heller, Gutmann and Zieme    grocery_pos  107.23  Stephanie   \n",
       "2                fraud_Lind-Buckridge  entertainment  220.11     Edward   \n",
       "3  fraud_Kutch, Hermiston and Farrell  gas_transport   45.00     Jeremy   \n",
       "4                 fraud_Keeling-Crist       misc_pos   41.96      Tyler   \n",
       "\n",
       "      last gender                        street  ...      lat      long  \\\n",
       "0    Banks      F                561 Perry Cove  ...  36.0788  -81.1781   \n",
       "1     Gill      F  43039 Riley Greens Suite 393  ...  48.8878 -118.2105   \n",
       "2  Sanchez      M      594 White Dale Suite 530  ...  42.1808 -112.2620   \n",
       "3    White      M   9443 Cynthia Court Apt. 038  ...  46.2306 -112.1138   \n",
       "4   Garcia      M              408 Bradley Rest  ...  38.4207  -79.4629   \n",
       "\n",
       "   city_pop                                job         dob  \\\n",
       "0      3495          Psychologist, counselling  1988-03-09   \n",
       "1       149  Special educational needs teacher  1978-06-21   \n",
       "2      4154        Nature conservation officer  1962-01-19   \n",
       "3      1939                    Patent attorney  1967-01-12   \n",
       "4        99     Dance movement psychotherapist  1986-03-28   \n",
       "\n",
       "                          trans_num   unix_time  merch_lat  merch_long  \\\n",
       "0  0b242abb623afc578575680df30655b9  1325376018  36.011293  -82.048315   \n",
       "1  1f76529f8574734946361c461b024d99  1325376044  49.159047 -118.186462   \n",
       "2  a1a22d70485983eac12b5b88dad1cf95  1325376051  43.150704 -112.154481   \n",
       "3  6b849c168bdad6f867558c3793159a81  1325376076  47.034331 -112.561071   \n",
       "4  a41d7549acf90789359a9aa5346dcb46  1325376186  38.674999  -78.632459   \n",
       "\n",
       "   is_fraud  \n",
       "0         0  \n",
       "1         0  \n",
       "2         0  \n",
       "3         0  \n",
       "4         0  \n",
       "\n",
       "[5 rows x 23 columns]"
      ]
     },
     "execution_count": 26,
     "metadata": {},
     "output_type": "execute_result"
    }
   ],
   "source": [
    "# Loading the train data\n",
    "df_train = pd.read_csv(r'/home/ducanh/Credit Card Transactions Fraud Detection/Datasets/fraudTrain.csv')\n",
    "\n",
    "# check\n",
    "df_train.head()"
   ]
  },
  {
   "cell_type": "code",
   "execution_count": 27,
   "id": "1518bd2f",
   "metadata": {},
   "outputs": [
    {
     "name": "stdout",
     "output_type": "stream",
     "text": [
      "<class 'pandas.core.frame.DataFrame'>\n",
      "RangeIndex: 1296675 entries, 0 to 1296674\n",
      "Data columns (total 23 columns):\n",
      " #   Column                 Non-Null Count    Dtype  \n",
      "---  ------                 --------------    -----  \n",
      " 0   Unnamed: 0             1296675 non-null  int64  \n",
      " 1   trans_date_trans_time  1296675 non-null  object \n",
      " 2   cc_num                 1296675 non-null  int64  \n",
      " 3   merchant               1296675 non-null  object \n",
      " 4   category               1296675 non-null  object \n",
      " 5   amt                    1296675 non-null  float64\n",
      " 6   first                  1296675 non-null  object \n",
      " 7   last                   1296675 non-null  object \n",
      " 8   gender                 1296675 non-null  object \n",
      " 9   street                 1296675 non-null  object \n",
      " 10  city                   1296675 non-null  object \n",
      " 11  state                  1296675 non-null  object \n",
      " 12  zip                    1296675 non-null  int64  \n",
      " 13  lat                    1296675 non-null  float64\n",
      " 14  long                   1296675 non-null  float64\n",
      " 15  city_pop               1296675 non-null  int64  \n",
      " 16  job                    1296675 non-null  object \n",
      " 17  dob                    1296675 non-null  object \n",
      " 18  trans_num              1296675 non-null  object \n",
      " 19  unix_time              1296675 non-null  int64  \n",
      " 20  merch_lat              1296675 non-null  float64\n",
      " 21  merch_long             1296675 non-null  float64\n",
      " 22  is_fraud               1296675 non-null  int64  \n",
      "dtypes: float64(5), int64(6), object(12)\n",
      "memory usage: 227.5+ MB\n"
     ]
    }
   ],
   "source": [
    "# check the columns\n",
    "df_train.info()"
   ]
  },
  {
   "cell_type": "code",
   "execution_count": 28,
   "id": "6b3e0c05",
   "metadata": {},
   "outputs": [
    {
     "data": {
      "text/plain": [
       "np.int64(0)"
      ]
     },
     "execution_count": 28,
     "metadata": {},
     "output_type": "execute_result"
    }
   ],
   "source": [
    "# check if there are any duplicates in the 'trans_num' column\n",
    "df_train['trans_num'].duplicated().sum()"
   ]
  },
  {
   "cell_type": "markdown",
   "id": "21dfc372",
   "metadata": {},
   "source": [
    "There are no duplicates in transaction number column"
   ]
  },
  {
   "cell_type": "code",
   "execution_count": 29,
   "id": "4f13f64b",
   "metadata": {},
   "outputs": [
    {
     "data": {
      "text/plain": [
       "983"
      ]
     },
     "execution_count": 29,
     "metadata": {},
     "output_type": "execute_result"
    }
   ],
   "source": [
    "# how many card holders are there\n",
    "len(df_train['cc_num'].unique())"
   ]
  },
  {
   "cell_type": "markdown",
   "id": "614f633c",
   "metadata": {},
   "source": [
    "There are 983 cardholders in the train data."
   ]
  },
  {
   "cell_type": "code",
   "execution_count": 30,
   "id": "25d47f27",
   "metadata": {},
   "outputs": [
    {
     "data": {
      "text/html": [
       "<div>\n",
       "<style scoped>\n",
       "    .dataframe tbody tr th:only-of-type {\n",
       "        vertical-align: middle;\n",
       "    }\n",
       "\n",
       "    .dataframe tbody tr th {\n",
       "        vertical-align: top;\n",
       "    }\n",
       "\n",
       "    .dataframe thead th {\n",
       "        text-align: right;\n",
       "    }\n",
       "</style>\n",
       "<table border=\"1\" class=\"dataframe\">\n",
       "  <thead>\n",
       "    <tr style=\"text-align: right;\">\n",
       "      <th></th>\n",
       "      <th>trans_date_trans_time</th>\n",
       "      <th>cc_num</th>\n",
       "      <th>merchant</th>\n",
       "      <th>category</th>\n",
       "      <th>amt</th>\n",
       "      <th>first</th>\n",
       "      <th>last</th>\n",
       "      <th>gender</th>\n",
       "      <th>street</th>\n",
       "      <th>city</th>\n",
       "      <th>...</th>\n",
       "      <th>lat</th>\n",
       "      <th>long</th>\n",
       "      <th>city_pop</th>\n",
       "      <th>job</th>\n",
       "      <th>dob</th>\n",
       "      <th>trans_num</th>\n",
       "      <th>unix_time</th>\n",
       "      <th>merch_lat</th>\n",
       "      <th>merch_long</th>\n",
       "      <th>is_fraud</th>\n",
       "    </tr>\n",
       "  </thead>\n",
       "  <tbody>\n",
       "    <tr>\n",
       "      <th>0</th>\n",
       "      <td>2019-01-01 00:00:18</td>\n",
       "      <td>2703186189652095</td>\n",
       "      <td>fraud_Rippin, Kub and Mann</td>\n",
       "      <td>misc_net</td>\n",
       "      <td>4.97</td>\n",
       "      <td>Jennifer</td>\n",
       "      <td>Banks</td>\n",
       "      <td>F</td>\n",
       "      <td>561 Perry Cove</td>\n",
       "      <td>Moravian Falls</td>\n",
       "      <td>...</td>\n",
       "      <td>36.0788</td>\n",
       "      <td>-81.1781</td>\n",
       "      <td>3495</td>\n",
       "      <td>Psychologist, counselling</td>\n",
       "      <td>1988-03-09</td>\n",
       "      <td>0b242abb623afc578575680df30655b9</td>\n",
       "      <td>1325376018</td>\n",
       "      <td>36.011293</td>\n",
       "      <td>-82.048315</td>\n",
       "      <td>0</td>\n",
       "    </tr>\n",
       "    <tr>\n",
       "      <th>1</th>\n",
       "      <td>2019-01-01 00:00:44</td>\n",
       "      <td>630423337322</td>\n",
       "      <td>fraud_Heller, Gutmann and Zieme</td>\n",
       "      <td>grocery_pos</td>\n",
       "      <td>107.23</td>\n",
       "      <td>Stephanie</td>\n",
       "      <td>Gill</td>\n",
       "      <td>F</td>\n",
       "      <td>43039 Riley Greens Suite 393</td>\n",
       "      <td>Orient</td>\n",
       "      <td>...</td>\n",
       "      <td>48.8878</td>\n",
       "      <td>-118.2105</td>\n",
       "      <td>149</td>\n",
       "      <td>Special educational needs teacher</td>\n",
       "      <td>1978-06-21</td>\n",
       "      <td>1f76529f8574734946361c461b024d99</td>\n",
       "      <td>1325376044</td>\n",
       "      <td>49.159047</td>\n",
       "      <td>-118.186462</td>\n",
       "      <td>0</td>\n",
       "    </tr>\n",
       "    <tr>\n",
       "      <th>2</th>\n",
       "      <td>2019-01-01 00:00:51</td>\n",
       "      <td>38859492057661</td>\n",
       "      <td>fraud_Lind-Buckridge</td>\n",
       "      <td>entertainment</td>\n",
       "      <td>220.11</td>\n",
       "      <td>Edward</td>\n",
       "      <td>Sanchez</td>\n",
       "      <td>M</td>\n",
       "      <td>594 White Dale Suite 530</td>\n",
       "      <td>Malad City</td>\n",
       "      <td>...</td>\n",
       "      <td>42.1808</td>\n",
       "      <td>-112.2620</td>\n",
       "      <td>4154</td>\n",
       "      <td>Nature conservation officer</td>\n",
       "      <td>1962-01-19</td>\n",
       "      <td>a1a22d70485983eac12b5b88dad1cf95</td>\n",
       "      <td>1325376051</td>\n",
       "      <td>43.150704</td>\n",
       "      <td>-112.154481</td>\n",
       "      <td>0</td>\n",
       "    </tr>\n",
       "    <tr>\n",
       "      <th>3</th>\n",
       "      <td>2019-01-01 00:01:16</td>\n",
       "      <td>3534093764340240</td>\n",
       "      <td>fraud_Kutch, Hermiston and Farrell</td>\n",
       "      <td>gas_transport</td>\n",
       "      <td>45.00</td>\n",
       "      <td>Jeremy</td>\n",
       "      <td>White</td>\n",
       "      <td>M</td>\n",
       "      <td>9443 Cynthia Court Apt. 038</td>\n",
       "      <td>Boulder</td>\n",
       "      <td>...</td>\n",
       "      <td>46.2306</td>\n",
       "      <td>-112.1138</td>\n",
       "      <td>1939</td>\n",
       "      <td>Patent attorney</td>\n",
       "      <td>1967-01-12</td>\n",
       "      <td>6b849c168bdad6f867558c3793159a81</td>\n",
       "      <td>1325376076</td>\n",
       "      <td>47.034331</td>\n",
       "      <td>-112.561071</td>\n",
       "      <td>0</td>\n",
       "    </tr>\n",
       "    <tr>\n",
       "      <th>4</th>\n",
       "      <td>2019-01-01 00:03:06</td>\n",
       "      <td>375534208663984</td>\n",
       "      <td>fraud_Keeling-Crist</td>\n",
       "      <td>misc_pos</td>\n",
       "      <td>41.96</td>\n",
       "      <td>Tyler</td>\n",
       "      <td>Garcia</td>\n",
       "      <td>M</td>\n",
       "      <td>408 Bradley Rest</td>\n",
       "      <td>Doe Hill</td>\n",
       "      <td>...</td>\n",
       "      <td>38.4207</td>\n",
       "      <td>-79.4629</td>\n",
       "      <td>99</td>\n",
       "      <td>Dance movement psychotherapist</td>\n",
       "      <td>1986-03-28</td>\n",
       "      <td>a41d7549acf90789359a9aa5346dcb46</td>\n",
       "      <td>1325376186</td>\n",
       "      <td>38.674999</td>\n",
       "      <td>-78.632459</td>\n",
       "      <td>0</td>\n",
       "    </tr>\n",
       "  </tbody>\n",
       "</table>\n",
       "<p>5 rows × 22 columns</p>\n",
       "</div>"
      ],
      "text/plain": [
       "  trans_date_trans_time            cc_num                            merchant  \\\n",
       "0   2019-01-01 00:00:18  2703186189652095          fraud_Rippin, Kub and Mann   \n",
       "1   2019-01-01 00:00:44      630423337322     fraud_Heller, Gutmann and Zieme   \n",
       "2   2019-01-01 00:00:51    38859492057661                fraud_Lind-Buckridge   \n",
       "3   2019-01-01 00:01:16  3534093764340240  fraud_Kutch, Hermiston and Farrell   \n",
       "4   2019-01-01 00:03:06   375534208663984                 fraud_Keeling-Crist   \n",
       "\n",
       "        category     amt      first     last gender  \\\n",
       "0       misc_net    4.97   Jennifer    Banks      F   \n",
       "1    grocery_pos  107.23  Stephanie     Gill      F   \n",
       "2  entertainment  220.11     Edward  Sanchez      M   \n",
       "3  gas_transport   45.00     Jeremy    White      M   \n",
       "4       misc_pos   41.96      Tyler   Garcia      M   \n",
       "\n",
       "                         street            city  ...      lat      long  \\\n",
       "0                561 Perry Cove  Moravian Falls  ...  36.0788  -81.1781   \n",
       "1  43039 Riley Greens Suite 393          Orient  ...  48.8878 -118.2105   \n",
       "2      594 White Dale Suite 530      Malad City  ...  42.1808 -112.2620   \n",
       "3   9443 Cynthia Court Apt. 038         Boulder  ...  46.2306 -112.1138   \n",
       "4              408 Bradley Rest        Doe Hill  ...  38.4207  -79.4629   \n",
       "\n",
       "   city_pop                                job        dob  \\\n",
       "0      3495          Psychologist, counselling 1988-03-09   \n",
       "1       149  Special educational needs teacher 1978-06-21   \n",
       "2      4154        Nature conservation officer 1962-01-19   \n",
       "3      1939                    Patent attorney 1967-01-12   \n",
       "4        99     Dance movement psychotherapist 1986-03-28   \n",
       "\n",
       "                          trans_num   unix_time  merch_lat  merch_long  \\\n",
       "0  0b242abb623afc578575680df30655b9  1325376018  36.011293  -82.048315   \n",
       "1  1f76529f8574734946361c461b024d99  1325376044  49.159047 -118.186462   \n",
       "2  a1a22d70485983eac12b5b88dad1cf95  1325376051  43.150704 -112.154481   \n",
       "3  6b849c168bdad6f867558c3793159a81  1325376076  47.034331 -112.561071   \n",
       "4  a41d7549acf90789359a9aa5346dcb46  1325376186  38.674999  -78.632459   \n",
       "\n",
       "   is_fraud  \n",
       "0         0  \n",
       "1         0  \n",
       "2         0  \n",
       "3         0  \n",
       "4         0  \n",
       "\n",
       "[5 rows x 22 columns]"
      ]
     },
     "execution_count": 30,
     "metadata": {},
     "output_type": "execute_result"
    }
   ],
   "source": [
    "# defining a function that performs the basic data cleaning operations\n",
    "def data_clean_1(df):\n",
    "    df = df.iloc[:,1:]\n",
    "    df['trans_date_trans_time'] = pd.to_datetime(df['trans_date_trans_time'])\n",
    "    df['dob'] = pd.to_datetime(df['dob'])\n",
    "    return df\n",
    "                                                 \n",
    "# applying the function on our train dataframe\n",
    "df_train = data_clean_1(df_train)\n",
    "    \n",
    "# check\n",
    "df_train.head()"
   ]
  },
  {
   "cell_type": "code",
   "execution_count": 31,
   "id": "2493d746",
   "metadata": {},
   "outputs": [
    {
     "name": "stdout",
     "output_type": "stream",
     "text": [
      "<class 'pandas.core.frame.DataFrame'>\n",
      "RangeIndex: 1296675 entries, 0 to 1296674\n",
      "Data columns (total 22 columns):\n",
      " #   Column                 Non-Null Count    Dtype         \n",
      "---  ------                 --------------    -----         \n",
      " 0   trans_date_trans_time  1296675 non-null  datetime64[ns]\n",
      " 1   cc_num                 1296675 non-null  int64         \n",
      " 2   merchant               1296675 non-null  object        \n",
      " 3   category               1296675 non-null  object        \n",
      " 4   amt                    1296675 non-null  float64       \n",
      " 5   first                  1296675 non-null  object        \n",
      " 6   last                   1296675 non-null  object        \n",
      " 7   gender                 1296675 non-null  object        \n",
      " 8   street                 1296675 non-null  object        \n",
      " 9   city                   1296675 non-null  object        \n",
      " 10  state                  1296675 non-null  object        \n",
      " 11  zip                    1296675 non-null  int64         \n",
      " 12  lat                    1296675 non-null  float64       \n",
      " 13  long                   1296675 non-null  float64       \n",
      " 14  city_pop               1296675 non-null  int64         \n",
      " 15  job                    1296675 non-null  object        \n",
      " 16  dob                    1296675 non-null  datetime64[ns]\n",
      " 17  trans_num              1296675 non-null  object        \n",
      " 18  unix_time              1296675 non-null  int64         \n",
      " 19  merch_lat              1296675 non-null  float64       \n",
      " 20  merch_long             1296675 non-null  float64       \n",
      " 21  is_fraud               1296675 non-null  int64         \n",
      "dtypes: datetime64[ns](2), float64(5), int64(5), object(10)\n",
      "memory usage: 217.6+ MB\n"
     ]
    }
   ],
   "source": [
    "# check 2\n",
    "df_train.info()"
   ]
  },
  {
   "cell_type": "code",
   "execution_count": 32,
   "id": "88c225d5",
   "metadata": {},
   "outputs": [],
   "source": [
    "# let's do the same operation for test data as well\n",
    "df_test = pd.read_csv(r'/home/ducanh/Credit Card Transactions Fraud Detection/Datasets/fraudTest.csv')\n",
    "\n",
    "# check\n",
    "# df_test.head()"
   ]
  },
  {
   "cell_type": "code",
   "execution_count": 33,
   "id": "16970a03",
   "metadata": {},
   "outputs": [],
   "source": [
    "# info\n",
    "# df_test.info()"
   ]
  },
  {
   "cell_type": "code",
   "execution_count": 34,
   "id": "4ee172c9",
   "metadata": {},
   "outputs": [],
   "source": [
    "# applying the function on our train dataframe\n",
    "df_test = data_clean_1(df_test)\n",
    "\n",
    "# check\n",
    "# df_test.info()"
   ]
  },
  {
   "cell_type": "code",
   "execution_count": 35,
   "id": "ca6f00cd",
   "metadata": {},
   "outputs": [],
   "source": [
    "# let's concat both the train and test dataframes into one dataframe\n",
    "df = pd.concat([df_train, df_test])\n",
    "\n",
    "# check\n",
    "# df.info()"
   ]
  },
  {
   "cell_type": "code",
   "execution_count": 36,
   "id": "690f716c",
   "metadata": {},
   "outputs": [
    {
     "data": {
      "text/plain": [
       "np.int64(0)"
      ]
     },
     "execution_count": 36,
     "metadata": {},
     "output_type": "execute_result"
    }
   ],
   "source": [
    "# cross check\n",
    "df['trans_num'].duplicated().sum()"
   ]
  },
  {
   "cell_type": "code",
   "execution_count": 37,
   "id": "7889ca62",
   "metadata": {},
   "outputs": [
    {
     "name": "stdout",
     "output_type": "stream",
     "text": [
      "The data is at transaction level\n"
     ]
    }
   ],
   "source": [
    "if len(df) == len(df['trans_num'].unique()):\n",
    "    print('The data is at transaction level')\n",
    "else:\n",
    "    print('The data is not at transaction level')"
   ]
  },
  {
   "cell_type": "code",
   "execution_count": 38,
   "id": "76dbb60a",
   "metadata": {},
   "outputs": [],
   "source": [
    "# df.head()"
   ]
  },
  {
   "cell_type": "code",
   "execution_count": 39,
   "id": "c2b7dc81",
   "metadata": {},
   "outputs": [
    {
     "data": {
      "text/plain": [
       "693"
      ]
     },
     "execution_count": 39,
     "metadata": {},
     "output_type": "execute_result"
    }
   ],
   "source": [
    "#how many card holders are there in the data\n",
    "len(df['cc_num'].unique())\n",
    "len(df['merchant'].unique())"
   ]
  },
  {
   "cell_type": "markdown",
   "id": "262b2bf8",
   "metadata": {},
   "source": [
    "#### Card holders = 999, Merchants = 693"
   ]
  },
  {
   "cell_type": "code",
   "execution_count": 40,
   "id": "e213a1dd",
   "metadata": {},
   "outputs": [],
   "source": [
    "# resetting index\n",
    "df.reset_index(inplace=True)"
   ]
  },
  {
   "cell_type": "code",
   "execution_count": 41,
   "id": "3e40d592",
   "metadata": {},
   "outputs": [],
   "source": [
    "# resetting the index\n",
    "df.reset_index(inplace=True)\n",
    "df.drop('index',axis = 1,inplace = True)\n",
    "\n",
    "# check\n",
    "# df.info()"
   ]
  },
  {
   "cell_type": "markdown",
   "id": "a2272f8d",
   "metadata": {},
   "source": [
    "#### Average number of transactions per month"
   ]
  },
  {
   "cell_type": "code",
   "execution_count": 42,
   "id": "a2927b5f",
   "metadata": {},
   "outputs": [
    {
     "data": {
      "text/html": [
       "<div>\n",
       "<style scoped>\n",
       "    .dataframe tbody tr th:only-of-type {\n",
       "        vertical-align: middle;\n",
       "    }\n",
       "\n",
       "    .dataframe tbody tr th {\n",
       "        vertical-align: top;\n",
       "    }\n",
       "\n",
       "    .dataframe thead th {\n",
       "        text-align: right;\n",
       "    }\n",
       "</style>\n",
       "<table border=\"1\" class=\"dataframe\">\n",
       "  <thead>\n",
       "    <tr style=\"text-align: right;\">\n",
       "      <th></th>\n",
       "      <th>trans_date_trans_time</th>\n",
       "      <th>trans_year_month</th>\n",
       "    </tr>\n",
       "  </thead>\n",
       "  <tbody>\n",
       "    <tr>\n",
       "      <th>0</th>\n",
       "      <td>2019-01-01 00:00:18</td>\n",
       "      <td>2019-01</td>\n",
       "    </tr>\n",
       "    <tr>\n",
       "      <th>1</th>\n",
       "      <td>2019-01-01 00:00:44</td>\n",
       "      <td>2019-01</td>\n",
       "    </tr>\n",
       "    <tr>\n",
       "      <th>2</th>\n",
       "      <td>2019-01-01 00:00:51</td>\n",
       "      <td>2019-01</td>\n",
       "    </tr>\n",
       "    <tr>\n",
       "      <th>3</th>\n",
       "      <td>2019-01-01 00:01:16</td>\n",
       "      <td>2019-01</td>\n",
       "    </tr>\n",
       "    <tr>\n",
       "      <th>4</th>\n",
       "      <td>2019-01-01 00:03:06</td>\n",
       "      <td>2019-01</td>\n",
       "    </tr>\n",
       "    <tr>\n",
       "      <th>...</th>\n",
       "      <td>...</td>\n",
       "      <td>...</td>\n",
       "    </tr>\n",
       "    <tr>\n",
       "      <th>1852389</th>\n",
       "      <td>2020-12-31 23:59:07</td>\n",
       "      <td>2020-12</td>\n",
       "    </tr>\n",
       "    <tr>\n",
       "      <th>1852390</th>\n",
       "      <td>2020-12-31 23:59:09</td>\n",
       "      <td>2020-12</td>\n",
       "    </tr>\n",
       "    <tr>\n",
       "      <th>1852391</th>\n",
       "      <td>2020-12-31 23:59:15</td>\n",
       "      <td>2020-12</td>\n",
       "    </tr>\n",
       "    <tr>\n",
       "      <th>1852392</th>\n",
       "      <td>2020-12-31 23:59:24</td>\n",
       "      <td>2020-12</td>\n",
       "    </tr>\n",
       "    <tr>\n",
       "      <th>1852393</th>\n",
       "      <td>2020-12-31 23:59:34</td>\n",
       "      <td>2020-12</td>\n",
       "    </tr>\n",
       "  </tbody>\n",
       "</table>\n",
       "<p>1852394 rows × 2 columns</p>\n",
       "</div>"
      ],
      "text/plain": [
       "        trans_date_trans_time trans_year_month\n",
       "0         2019-01-01 00:00:18          2019-01\n",
       "1         2019-01-01 00:00:44          2019-01\n",
       "2         2019-01-01 00:00:51          2019-01\n",
       "3         2019-01-01 00:01:16          2019-01\n",
       "4         2019-01-01 00:03:06          2019-01\n",
       "...                       ...              ...\n",
       "1852389   2020-12-31 23:59:07          2020-12\n",
       "1852390   2020-12-31 23:59:09          2020-12\n",
       "1852391   2020-12-31 23:59:15          2020-12\n",
       "1852392   2020-12-31 23:59:24          2020-12\n",
       "1852393   2020-12-31 23:59:34          2020-12\n",
       "\n",
       "[1852394 rows x 2 columns]"
      ]
     },
     "execution_count": 42,
     "metadata": {},
     "output_type": "execute_result"
    }
   ],
   "source": [
    "# deriving a unique month column w.r.t each year\n",
    "df['trans_year_month'] = df['trans_date_trans_time'].apply(lambda x: str(x)[:7])\n",
    "\n",
    "# check\n",
    "df[['trans_date_trans_time','trans_year_month']]"
   ]
  },
  {
   "cell_type": "code",
   "execution_count": 43,
   "id": "f76caebd",
   "metadata": {},
   "outputs": [
    {
     "data": {
      "text/plain": [
       "24"
      ]
     },
     "execution_count": 43,
     "metadata": {},
     "output_type": "execute_result"
    }
   ],
   "source": [
    "# how many months of data is available\n",
    "len(df['trans_year_month'].unique())"
   ]
  },
  {
   "cell_type": "code",
   "execution_count": 44,
   "id": "1c6c178d",
   "metadata": {},
   "outputs": [
    {
     "name": "stdout",
     "output_type": "stream",
     "text": [
      "Average number of transactions per month =  77183\n"
     ]
    }
   ],
   "source": [
    "# avg number of transactions per month is computed as\n",
    "avg_nbr_of_txns = len(df['trans_num'].unique())/len(df['trans_year_month'].unique())\n",
    "print('Average number of transactions per month = ',round(avg_nbr_of_txns))"
   ]
  },
  {
   "cell_type": "markdown",
   "id": "98bdd5f5",
   "metadata": {},
   "source": [
    "#### Average number of fradulent transactions per month"
   ]
  },
  {
   "cell_type": "code",
   "execution_count": 45,
   "id": "1fbe6630",
   "metadata": {},
   "outputs": [
    {
     "name": "stdout",
     "output_type": "stream",
     "text": [
      "The total number of Fraudulent transactions in the given 2 years period are 9651\n"
     ]
    }
   ],
   "source": [
    "# number of fradulent transactions\n",
    "print('The total number of Fraudulent transactions in the given 2 years period are',len(df[df['is_fraud'] == 1]['trans_num'].unique()))"
   ]
  },
  {
   "cell_type": "code",
   "execution_count": 46,
   "id": "860b20e8",
   "metadata": {},
   "outputs": [
    {
     "name": "stdout",
     "output_type": "stream",
     "text": [
      "Average number of fraudulent transactions per month =  402\n"
     ]
    }
   ],
   "source": [
    "# avg number of fradulent transactions per month\n",
    "print('Average number of fraudulent transactions per month = ', round(len(df[df['is_fraud'] == 1]['trans_num'].unique())/len(df[df['is_fraud'] == 1]['trans_year_month'].unique())))"
   ]
  },
  {
   "cell_type": "code",
   "execution_count": 47,
   "id": "1f73f441",
   "metadata": {},
   "outputs": [
    {
     "data": {
      "text/plain": [
       "'$5121413.290000001'"
      ]
     },
     "execution_count": 47,
     "metadata": {},
     "output_type": "execute_result"
    }
   ],
   "source": [
    "# Total value of fraudulent transactions in the given period of 2 years\n",
    "'$'+str(np.sum(df[df['is_fraud'] == 1]['amt']))"
   ]
  },
  {
   "cell_type": "code",
   "execution_count": 48,
   "id": "8ff72b28",
   "metadata": {},
   "outputs": [
    {
     "data": {
      "text/plain": [
       "9651"
      ]
     },
     "execution_count": 48,
     "metadata": {},
     "output_type": "execute_result"
    }
   ],
   "source": [
    "len(df[df['is_fraud'] == 1]['trans_num'].unique())"
   ]
  },
  {
   "cell_type": "markdown",
   "id": "5d08e369",
   "metadata": {},
   "source": [
    "# 2. Exploratory Data Analyses (EDA)"
   ]
  },
  {
   "cell_type": "code",
   "execution_count": 49,
   "id": "e0109d72",
   "metadata": {},
   "outputs": [],
   "source": [
    "# check info of the dataframe\n",
    "# df.info()"
   ]
  },
  {
   "cell_type": "code",
   "execution_count": 50,
   "id": "9295426b",
   "metadata": {},
   "outputs": [],
   "source": [
    "# checking the transaction amount column w.r.t fraudulent transactions\n",
    "# df[df['is_fraud'] == 1]['amt'].describe()"
   ]
  },
  {
   "cell_type": "code",
   "execution_count": 51,
   "id": "99cf9ddd",
   "metadata": {},
   "outputs": [],
   "source": [
    "# plt.figure(figsize = (15,3))\n",
    "# sns.displot(df[df['is_fraud'] == 1]['amt'])"
   ]
  },
  {
   "cell_type": "markdown",
   "id": "1c477758",
   "metadata": {},
   "source": [
    "### Analyses w.r.t. customer demographic information"
   ]
  },
  {
   "cell_type": "code",
   "execution_count": 52,
   "id": "35d04651",
   "metadata": {},
   "outputs": [],
   "source": [
    "# deriving age column.\n",
    "# since this data is till 2020 Dec 31, We will compute age of each customer during 2021.\n",
    "df['cust_age'] = df['dob'].dt.year.apply(lambda x: 2021-x)\n",
    "\n",
    "# check\n",
    "# df['cust_age']"
   ]
  },
  {
   "cell_type": "code",
   "execution_count": 53,
   "id": "4bf1031a",
   "metadata": {},
   "outputs": [],
   "source": [
    "# # visualize Age Vs fraudulent transaction amounts\n",
    "# plt.figure(figsize = (12,5))\n",
    "# plt.title('Age Vs Transaction amount')\n",
    "# plt.scatter(df[df['is_fraud'] == 1]['cust_age'],df[df['is_fraud'] == 1]['amt'])\n",
    "# plt.show()"
   ]
  },
  {
   "cell_type": "markdown",
   "id": "d2e2d82a",
   "metadata": {},
   "source": [
    "`Inferences:` There's no specific pattern, let's bucket the age column and see the trend towards transaction amount."
   ]
  },
  {
   "cell_type": "code",
   "execution_count": 54,
   "id": "fbae35c7",
   "metadata": {},
   "outputs": [],
   "source": [
    "# let's bucket the age column\n",
    "df['cust_age_groups'] = df['cust_age'].apply(lambda x: 'below 10' if x<10 else ('10-20' if x>=10 and x<20 else ('20-30' if x>=20 and x<30 else('30-40' if x>=30 and x<40 else('40-50' if x>=40 and x<50 else('50-60' if x>=50 and x<60 else('60-70' if x>=60 and x<70 else ('70-80' if x>=70 and x<80 else 'Above 80'))))))))\n",
    "\n",
    "# check\n",
    "# df.head()"
   ]
  },
  {
   "cell_type": "code",
   "execution_count": 55,
   "id": "b3b9f006",
   "metadata": {},
   "outputs": [],
   "source": [
    "# now let's see which customer age group was more prone towards the number of fraudulent transactions\n",
    "age_piv = pd.pivot_table(data = df,\n",
    "                         index = 'cust_age_groups',\n",
    "                         columns = 'is_fraud',\n",
    "                         values = 'trans_num',\n",
    "                         aggfunc = 'count')\n",
    "\n",
    "# check\n",
    "# age_piv"
   ]
  },
  {
   "cell_type": "code",
   "execution_count": 56,
   "id": "ab57c050",
   "metadata": {},
   "outputs": [],
   "source": [
    "# age_piv.plot(kind = 'bar', title = 'Age group vulnerability', xlabel = 'Age groups',ylabel = 'No. of transactions',figsize = (9,3),rot = 45 )"
   ]
  },
  {
   "cell_type": "code",
   "execution_count": 57,
   "id": "516e0719",
   "metadata": {},
   "outputs": [],
   "source": [
    "# # let's see only fraudlent transactions \n",
    "# plt.figure(figsize = (9,3))\n",
    "# plt.title('Age group vulnerability')\n",
    "# sns.barplot(data = age_piv, x = age_piv.index, y = age_piv[1].values )\n",
    "# plt.xlabel('customer age groups')\n",
    "# plt.ylabel('Number of Fradulent transactions')\n",
    "# plt.show()"
   ]
  },
  {
   "cell_type": "markdown",
   "id": "034cb450",
   "metadata": {},
   "source": [
    "`Inferences:`\n",
    "Customers who are in the 30-40 age group are more vulnerable to the number of fradulent transactions."
   ]
  },
  {
   "cell_type": "markdown",
   "id": "5e4cccba",
   "metadata": {},
   "source": [
    "Let's find how much it costed for the bank on an average for each age group in the case of fradulent transactions."
   ]
  },
  {
   "cell_type": "code",
   "execution_count": 58,
   "id": "96579666",
   "metadata": {},
   "outputs": [],
   "source": [
    "age_piv_2 = pd.pivot_table(data = df,\n",
    "                           index = 'cust_age_groups',\n",
    "                           columns = 'is_fraud',\n",
    "                           values = 'amt',\n",
    "                           aggfunc = np.mean)\n",
    "\n",
    "# check\n",
    "# age_piv_2"
   ]
  },
  {
   "cell_type": "code",
   "execution_count": 59,
   "id": "45c2be83",
   "metadata": {
    "scrolled": false
   },
   "outputs": [],
   "source": [
    "# # let's visualize only the fraudlent transactions \n",
    "# plt.figure(figsize = (15,7.5))\n",
    "# plt.title('Avg Cost incurred to Bank due to the fraudulent transactions')\n",
    "# sns.barplot(data = age_piv_2, x = age_piv_2.index, y = age_piv_2[1].values)\n",
    "# plt.axhline(y = 530.66, color = 'r', linestyle = '-', label = 'Avg amount per fraudulent transaction')\n",
    "# plt.grid()\n",
    "# plt.xlabel('customer age groups')\n",
    "# plt.ylabel('Avg Cost in $ (USD)')\n",
    "# plt.legend()\n",
    "# plt.show()"
   ]
  },
  {
   "cell_type": "markdown",
   "id": "0e31a67d",
   "metadata": {},
   "source": [
    "`Inferences:` \n",
    "Avg cost incurred is greater than the overall average transaction amount per fraudulent transaction, for the customers belonging to the age groups `10-30` and `>=50`"
   ]
  },
  {
   "cell_type": "code",
   "execution_count": 60,
   "id": "c13f5298",
   "metadata": {},
   "outputs": [],
   "source": [
    "# deep dive into gender\n",
    "age_gen_piv = pd.pivot_table(data = df,\n",
    "                           index = ['cust_age_groups','gender'],\n",
    "                           columns = 'is_fraud',\n",
    "                           values = 'amt',\n",
    "                           aggfunc = np.mean)\n",
    "\n",
    "# check\n",
    "# age_gen_piv"
   ]
  },
  {
   "cell_type": "markdown",
   "id": "2507ad10",
   "metadata": {},
   "source": [
    "`Inferences:` Banks average compensation is high for the males belonging to age group `10-20` which is $657.74. Except `60-70` and `Above 80` in all the other age groups, males are dominating more in terms of average compensation received compared to their female counterparts."
   ]
  },
  {
   "cell_type": "markdown",
   "id": "24d0a2a3",
   "metadata": {},
   "source": [
    "#### Analysis w.r.t. Customers Job categories "
   ]
  },
  {
   "cell_type": "code",
   "execution_count": 61,
   "id": "39f9dfe4",
   "metadata": {},
   "outputs": [],
   "source": [
    "# see all the customer job categories in the data\n",
    "# df['job'].value_counts()"
   ]
  },
  {
   "cell_type": "markdown",
   "id": "f601db41",
   "metadata": {},
   "source": [
    "Is there any relationship between Customer's professional information and the fraudulent transactions?"
   ]
  },
  {
   "cell_type": "code",
   "execution_count": 62,
   "id": "b38d5047",
   "metadata": {},
   "outputs": [],
   "source": [
    "job_txn_piv = pd.pivot_table(data = df,\n",
    "                         index = 'job',\n",
    "                         columns = 'is_fraud',\n",
    "                         values = 'trans_num',\n",
    "                         aggfunc = 'count')\n",
    "\n",
    "\n",
    "# job_txn_piv.sort_values(by = 1, ascending = False, inplace = True)"
   ]
  },
  {
   "cell_type": "code",
   "execution_count": 63,
   "id": "0d215860",
   "metadata": {},
   "outputs": [],
   "source": [
    "# check the top 10 job categories of the customers which are more vulnerable towards fradulent transactions\n",
    "# job_txn_piv[:10]"
   ]
  },
  {
   "cell_type": "code",
   "execution_count": 64,
   "id": "f9375906",
   "metadata": {},
   "outputs": [],
   "source": [
    "# avg cost incurred to bank due to fraudulent transactions w.r.t. each customer job category\n",
    "job_txn_piv_2 = pd.pivot_table(data = df,\n",
    "                               index = 'job',\n",
    "                               columns = 'is_fraud',\n",
    "                               values= 'amt',\n",
    "                               aggfunc = np.mean)\n",
    "\n",
    "# check\n",
    "# job_txn_piv_2"
   ]
  },
  {
   "cell_type": "code",
   "execution_count": 65,
   "id": "d941bcaa",
   "metadata": {},
   "outputs": [],
   "source": [
    "# visualizing the top 10 job categories from high avg cost\n",
    "job_txn_piv_2.sort_values(by = 1, ascending = False, inplace = True)\n",
    "\n",
    "# check\n",
    "# job_txn_piv_2[:10]"
   ]
  },
  {
   "cell_type": "markdown",
   "id": "5f04dc6c",
   "metadata": {},
   "source": [
    "`Inferences:`Average cost incurred is highest for those customers who are Health promotion specialists. It is $920.25"
   ]
  },
  {
   "cell_type": "markdown",
   "id": "fe8beb7e",
   "metadata": {},
   "source": [
    "#### Top states having high average cost incurred to bank"
   ]
  },
  {
   "cell_type": "code",
   "execution_count": 66,
   "id": "961f19b7",
   "metadata": {},
   "outputs": [],
   "source": [
    "state_piv = pd.pivot_table(data = df,\n",
    "                           index = 'state',\n",
    "                           columns = 'is_fraud',\n",
    "                           values = 'amt',\n",
    "                           aggfunc = np.mean)\n",
    "# check\n",
    "# state_piv"
   ]
  },
  {
   "cell_type": "code",
   "execution_count": 67,
   "id": "773fc5cd",
   "metadata": {},
   "outputs": [],
   "source": [
    "# state_piv.sort_values(by = 1, ascending = False)"
   ]
  },
  {
   "cell_type": "markdown",
   "id": "1c9e226c",
   "metadata": {},
   "source": [
    "`Inferences:` Average cost per month incurred to bank is highest for those customers who belong to `Rhode Island` state, which is $732.98."
   ]
  },
  {
   "cell_type": "markdown",
   "id": "99b0a60e",
   "metadata": {},
   "source": [
    "#### How city population varies w.r.t. the Fraudulent transaction amount ?"
   ]
  },
  {
   "cell_type": "code",
   "execution_count": 68,
   "id": "13cafaf4",
   "metadata": {
    "scrolled": false
   },
   "outputs": [],
   "source": [
    "# plt.figure(figsize = (12,3))\n",
    "# plt.title('Fraudulent Transaction amount w.r.t City population')\n",
    "# sns.scatterplot(data = df[df['is_fraud'] == 1], x = df[df['is_fraud'] == 1]['city_pop'], y = df[df['is_fraud'] == 1]['amt'])\n",
    "# plt.xlabel('City population')\n",
    "# plt.ylabel('Transaction amount in $ (USD)')\n",
    "# plt.show()"
   ]
  },
  {
   "cell_type": "markdown",
   "id": "62e282be",
   "metadata": {},
   "source": [
    "`Inferences:` There's no specific pattern observed."
   ]
  },
  {
   "cell_type": "code",
   "execution_count": 69,
   "id": "4878efc6",
   "metadata": {},
   "outputs": [],
   "source": [
    "# df.info()"
   ]
  },
  {
   "cell_type": "markdown",
   "id": "8ffeabe0",
   "metadata": {},
   "source": [
    "#### Top cities which are having high avg cost incurred to bank"
   ]
  },
  {
   "cell_type": "code",
   "execution_count": 70,
   "id": "2af1b011",
   "metadata": {},
   "outputs": [],
   "source": [
    "# deriving a column containing city and its respective state\n",
    "df['city-state'] = df['city']+'-'+df['state']\n",
    "\n",
    "# check\n",
    "# df['city-state']"
   ]
  },
  {
   "cell_type": "code",
   "execution_count": 71,
   "id": "1db9285d",
   "metadata": {},
   "outputs": [],
   "source": [
    "# pivoting\n",
    "city_piv = pd.pivot_table(data = df,\n",
    "                          index = 'city-state',\n",
    "                          columns = 'is_fraud',\n",
    "                          values = 'amt',\n",
    "                          aggfunc = np.mean)\n",
    "\n",
    "# check\n",
    "# city_piv"
   ]
  },
  {
   "cell_type": "code",
   "execution_count": 72,
   "id": "b8fd323e",
   "metadata": {},
   "outputs": [],
   "source": [
    "# orderding the cost incurred due to fraudulent transactions in descending order\n",
    "city_piv.sort_values(by = 1, ascending = False, inplace = True)\n",
    "\n",
    "# check the top 10 cities\n",
    "# city_piv[:10]"
   ]
  },
  {
   "cell_type": "markdown",
   "id": "25aa5865",
   "metadata": {},
   "source": [
    "`Inferences:` \n",
    "- Average cost per month incurred to bank is highest for those customers who belong to `De Lancey` city in `Newyork` state, which is `$926.15`.\n",
    "- Cities North East and Karns City, both belonging to Pennsylvania state have recorded only the Fraudulent transactions.  "
   ]
  },
  {
   "cell_type": "markdown",
   "id": "3574630b",
   "metadata": {},
   "source": [
    "#### Top merchant categories which are targeted while performing fraudulent transactions in terms of average transaction amount."
   ]
  },
  {
   "cell_type": "code",
   "execution_count": 73,
   "id": "e4ad5bed",
   "metadata": {},
   "outputs": [],
   "source": [
    "# df[df['is_fraud'] == 1].groupby('category')['amt'].mean().sort_values(ascending = False)\n",
    "merch_piv = pd.pivot_table(data = df,\n",
    "                           index = df['category'],\n",
    "                           columns = 'is_fraud',\n",
    "                           values = 'amt',\n",
    "                           aggfunc = np.mean)\n",
    "\n",
    "# check\n",
    "# merch_piv"
   ]
  },
  {
   "cell_type": "code",
   "execution_count": 74,
   "id": "bcc64a2d",
   "metadata": {},
   "outputs": [],
   "source": [
    "# Merchant categories which costed greater than or equal to the average fraudulent transaction cost\n",
    "# merch_piv[merch_piv[1]>=530.66]"
   ]
  },
  {
   "cell_type": "code",
   "execution_count": 75,
   "id": "fc6e933f",
   "metadata": {},
   "outputs": [],
   "source": [
    "# plt.figure(figsize = (15,5))\n",
    "# plt.title(\"Average transaction amount across all merchant categories\")\n",
    "# sns.barplot(data = merch_piv,\n",
    "#             x = merch_piv.index,\n",
    "#             y = merch_piv[1])\n",
    "# plt.axhline(y = 530.66, color = 'r', linestyle = '-', label = 'Avg amount per fraudulent transaction')\n",
    "# plt.xticks(rotation = 45)\n",
    "# plt.xlabel('Merchant categories')\n",
    "# plt.ylabel('Average transaction amount in $')\n",
    "# plt.legend()\n",
    "# plt.grid()\n",
    "# plt.show()"
   ]
  },
  {
   "cell_type": "markdown",
   "id": "8fa61862",
   "metadata": {},
   "source": [
    "`Inferences:` High value fraudulent transactions happened for the merchant category `shopping_net` which means online shopping."
   ]
  },
  {
   "cell_type": "markdown",
   "id": "8eff2254",
   "metadata": {},
   "source": [
    "#### How is the geographical distance between customer location to merchant location varies with respect to the fradulent transaction amount"
   ]
  },
  {
   "cell_type": "code",
   "execution_count": 76,
   "id": "91d7d435",
   "metadata": {},
   "outputs": [],
   "source": [
    "# function to determine distance between two coordinates\n",
    "# link to this function: - https://www.geeksforgeeks.org/program-distance-two-points-earth/\n",
    "from math import radians, cos, sin, asin, sqrt\n",
    "def distance(df, lat1, lat2, lon1, lon2):\n",
    "     \n",
    "    # The math module contains a function named\n",
    "    # radians which converts from degrees to radians.\n",
    "    df['lon1'] = df[lon1].apply(lambda x: radians(x))\n",
    "    df['lon2'] = df[lon2].apply(lambda x: radians(x))\n",
    "    df['lat1'] = df[lat1].apply(lambda x: radians(x))\n",
    "    df['lat2'] = df[lat2].apply(lambda x: radians(x))\n",
    "      \n",
    "    # Haversine formula\n",
    "    df['dlon'] = df['lon2'] - df['lon1']\n",
    "    df['dlat'] = df['lat2'] - df['lat1']\n",
    "\n",
    "    df['a'] = df['dlat'].apply(lambda x: sin(x/2)**2) + df['lat1'].apply(lambda x: cos(x))*df['lat2'].apply(lambda x: cos(x))*df['dlon'].apply(lambda x: sin(x/2)**2)\n",
    " \n",
    "\n",
    "    df['c'] = df['a'].apply(lambda x: 2*asin(sqrt(x)))\n",
    "    \n",
    "    # Radius of earth in kilometers = 6371. Use 3956 for miles\n",
    "    r = 3956\n",
    "      \n",
    "    # calculate the result\n",
    "    return(df['c'] * r)"
   ]
  },
  {
   "cell_type": "code",
   "execution_count": 77,
   "id": "ca2aab26",
   "metadata": {},
   "outputs": [],
   "source": [
    "df['distance_bw_cust_merch_in_miles'] = distance(df,lat1 = 'lat', lat2 = 'merch_lat', lon1 = 'long', lon2 = 'merch_long')\n",
    "\n",
    "# check\n",
    "# df['distance_bw_cust_merch_in_miles']"
   ]
  },
  {
   "cell_type": "code",
   "execution_count": 78,
   "id": "b95daba9",
   "metadata": {},
   "outputs": [],
   "source": [
    "# check 2\n",
    "# df.head()"
   ]
  },
  {
   "cell_type": "code",
   "execution_count": 79,
   "id": "962c3894",
   "metadata": {},
   "outputs": [],
   "source": [
    "# let's bucket the distance between customer and merchant\n",
    "df['distance_cust_merch'] = df['distance_bw_cust_merch_in_miles'].apply(lambda x: '< 20' if x>0 and x<=20 else('20-40' if x>20 and x<=40 else('40-60' if x>40 and x<=60 else('60-80' if x>60 and x<=80 else '> 80'))))\n",
    "\n",
    "# check\n",
    "# df[['distance_bw_cust_merch_in_miles','distance_cust_merch']]"
   ]
  },
  {
   "cell_type": "code",
   "execution_count": 80,
   "id": "c8f2ec91",
   "metadata": {},
   "outputs": [],
   "source": [
    "# let's see how w.r.t distance transaction amount varies\n",
    "dis_piv = pd.pivot_table(data = df,\n",
    "                         index = 'distance_cust_merch',\n",
    "                         columns = 'is_fraud',\n",
    "                         values = 'amt',\n",
    "                         aggfunc = np.mean)\n",
    "\n",
    "# check\n",
    "# dis_piv"
   ]
  },
  {
   "cell_type": "code",
   "execution_count": 81,
   "id": "13e8828d",
   "metadata": {},
   "outputs": [],
   "source": [
    "# # now let's see how fraudulent transaction amount varies w.r.t. the distance between customer and merchant location\n",
    "# plt.figure(figsize = (12,3))\n",
    "# plt.title('Fraudulent Transaction amount w.r.t distance between customer and merchant')\n",
    "# sns.barplot(data = dis_piv, x = dis_piv.index, y = dis_piv[1])\n",
    "# plt.xlabel('Distance between customer and merchant in miles')\n",
    "# plt.ylabel('Fraudulent transaction amount in $ (USD)')\n",
    "# plt.show()"
   ]
  },
  {
   "cell_type": "markdown",
   "id": "8cea2dfa",
   "metadata": {},
   "source": [
    "`Inferences:` High average cost incurred to bank is from those customers who are just less than 20 miles away from their merchants. But still we are unable to identify the specific pattern w.r.t distance."
   ]
  },
  {
   "cell_type": "markdown",
   "id": "c31e06ea",
   "metadata": {},
   "source": [
    "#### How an average transaction amount varies w.r.t each month"
   ]
  },
  {
   "cell_type": "code",
   "execution_count": 82,
   "id": "42a8d573",
   "metadata": {},
   "outputs": [],
   "source": [
    "time_series_piv = pd.pivot_table(data = df,\n",
    "                                 index = 'trans_year_month',\n",
    "                                 columns = 'is_fraud',\n",
    "                                 values = 'amt',\n",
    "                                 aggfunc = np.mean)\n",
    "\n",
    "# check\n",
    "# time_series_piv"
   ]
  },
  {
   "cell_type": "code",
   "execution_count": 83,
   "id": "49addde4",
   "metadata": {},
   "outputs": [],
   "source": [
    "# # let's visualize this\n",
    "# plt.figure(figsize = (12,3))\n",
    "# plt.title('Avg transaction amount varying w.r.t. time')\n",
    "# plt.plot(time_series_piv.index, time_series_piv[0], color = 'green', label = 'Non Fraudulent transaction')\n",
    "# plt.plot(time_series_piv.index, time_series_piv[1], color = 'red', label = 'Fraudulent transaction')\n",
    "# plt.grid()\n",
    "# plt.xlabel('Months')\n",
    "# plt.ylabel('Avg Transaction amount in $')\n",
    "# plt.xticks(rotation = 45)\n",
    "# plt.legend()\n",
    "# plt.show()"
   ]
  },
  {
   "cell_type": "markdown",
   "id": "bb00e816",
   "metadata": {},
   "source": [
    "`Inferences:` It is irregular and there's no pattern w.r.t. time"
   ]
  },
  {
   "cell_type": "code",
   "execution_count": 84,
   "id": "ad9d6da1",
   "metadata": {},
   "outputs": [],
   "source": [
    "#let's check the frequency of fraudulent transactions w.r.t month and year\n",
    "time_series_piv2 = pd.pivot_table(data = df[df['is_fraud'] == 1],\n",
    "                                 index = 'trans_year_month',\n",
    "                                 columns = 'is_fraud',\n",
    "                                 values = 'trans_num',\n",
    "                                 aggfunc = 'count')\n",
    "\n",
    "# check\n",
    "# time_series_piv2"
   ]
  },
  {
   "cell_type": "code",
   "execution_count": 85,
   "id": "9a94f5a5",
   "metadata": {},
   "outputs": [],
   "source": [
    "# # let's visualize this\n",
    "# plt.figure(figsize = (12,3))\n",
    "# plt.title('Frequency of fraudulent transactions w.r.t. time')\n",
    "# plt.plot(time_series_piv2.index, time_series_piv2[1], color = 'red', label = 'Fraudulent transaction')\n",
    "# plt.grid()\n",
    "# plt.xlabel('Months')\n",
    "# plt.ylabel('Frequency of transactions')\n",
    "# plt.xticks(rotation = 45)\n",
    "# plt.legend()\n",
    "# plt.show()"
   ]
  },
  {
   "cell_type": "code",
   "execution_count": 86,
   "id": "174ecbe1",
   "metadata": {},
   "outputs": [],
   "source": [
    "# # how transaction amount varies w.r.t unix time\n",
    "# plt.figure(figsize = (12,3))\n",
    "# plt.title('Transaction amount w.r.t unix time')\n",
    "# sns.scatterplot(data = df, x = df['unix_time'],y = df['amt'])\n",
    "# plt.show()"
   ]
  },
  {
   "cell_type": "markdown",
   "id": "9755d07f",
   "metadata": {},
   "source": [
    "`Inferences:` There's no specific pattern w.r.t. the unix time."
   ]
  },
  {
   "cell_type": "code",
   "execution_count": 87,
   "id": "edf09009",
   "metadata": {},
   "outputs": [],
   "source": [
    "# deriving hours from the transaction date time column\n",
    "df['trans_hour'] = df['trans_date_trans_time'].dt.time.apply(lambda x: str(x)[:2])\n",
    "\n",
    "# check\n",
    "# df['trans_hour']"
   ]
  },
  {
   "cell_type": "markdown",
   "id": "44daf79c",
   "metadata": {},
   "source": [
    "#### Let's figure out usually at what hour of the time, the frequency of fradulent transactions is high"
   ]
  },
  {
   "cell_type": "code",
   "execution_count": 88,
   "id": "ec040736",
   "metadata": {},
   "outputs": [],
   "source": [
    "time_piv = pd.pivot_table(data = df,\n",
    "                          index = 'trans_hour',\n",
    "                          columns = ['is_fraud'],\n",
    "                          values = 'trans_num',\n",
    "                          aggfunc = 'count')\n",
    "\n",
    "# check\n",
    "# time_piv"
   ]
  },
  {
   "cell_type": "code",
   "execution_count": 89,
   "id": "3ff9817e",
   "metadata": {},
   "outputs": [],
   "source": [
    "#  # let's visualize\n",
    "# plt.figure(figsize = (15,3))\n",
    "# plt.title('Frequency of fraudulent transactions w.r.t Hour')\n",
    "# sns.barplot(data = time_piv, x = time_piv.index, y = time_piv[1])\n",
    "# plt.xlabel('Hours')\n",
    "# plt.ylabel('Fraudulent transactions')\n",
    "# plt.grid()\n",
    "# plt.show()"
   ]
  },
  {
   "cell_type": "markdown",
   "id": "fe6e5e51",
   "metadata": {},
   "source": [
    "`Inferences:` In the two years span, high number of transactions happened during night time, i.e., from 10 PM to 3 AM."
   ]
  },
  {
   "cell_type": "markdown",
   "id": "0cf9095a",
   "metadata": {},
   "source": [
    "#### Let's figure out at what hour of the time, average cost incurred to bank is high"
   ]
  },
  {
   "cell_type": "code",
   "execution_count": 90,
   "id": "04385f6e",
   "metadata": {},
   "outputs": [],
   "source": [
    "time_piv_amt = pd.pivot_table(data = df,\n",
    "                              index = 'trans_hour',\n",
    "                              columns = ['is_fraud'],\n",
    "                              values = 'amt',\n",
    "                              aggfunc = np.mean)\n",
    "\n",
    "# check\n",
    "# time_piv_amt"
   ]
  },
  {
   "cell_type": "code",
   "execution_count": 91,
   "id": "1ae31732",
   "metadata": {},
   "outputs": [],
   "source": [
    "#  # let's visualize\n",
    "# plt.figure(figsize = (15,3))\n",
    "# plt.title('Avg cost incurred due to fraudulent transactions w.r.t. each hour')\n",
    "# sns.barplot(data = time_piv_amt, x = time_piv_amt.index, y = time_piv_amt[1])\n",
    "# plt.axhline(y = 530.66, color = 'r', linestyle = '-', label = 'Avg amount per fraudulent transaction')\n",
    "# plt.grid()\n",
    "# plt.xlabel('Hours')\n",
    "# plt.ylabel('Avg cost incurred in $')\n",
    "# plt.legend()\n",
    "# plt.show()"
   ]
  },
  {
   "cell_type": "markdown",
   "id": "2a307be8",
   "metadata": {},
   "source": [
    "`Inferences:` Average cost incurred to bank is highest during 2 PM, i.e., $ 709.07. "
   ]
  },
  {
   "cell_type": "markdown",
   "id": "fb92470b",
   "metadata": {},
   "source": [
    "It is in the range between $(600-750) from 12 PM to 11 PM."
   ]
  },
  {
   "cell_type": "code",
   "execution_count": 92,
   "id": "66c886ef",
   "metadata": {},
   "outputs": [],
   "source": [
    "merch_txn_hr_piv = pd.pivot_table(data = df,\n",
    "                                  index = ['trans_hour','category'],\n",
    "                                  columns = 'is_fraud',\n",
    "                                  values = 'amt',\n",
    "                                  aggfunc = np.mean)\n",
    "\n",
    "# check\n",
    "# merch_txn_hr_piv"
   ]
  },
  {
   "cell_type": "markdown",
   "id": "bc04bc76",
   "metadata": {},
   "source": [
    "Save this file to disk and visualize it in Power BI."
   ]
  },
  {
   "cell_type": "code",
   "execution_count": 93,
   "id": "c2c4d203",
   "metadata": {},
   "outputs": [],
   "source": [
    "#merch_txn_hr_piv.to_csv('merchant_txn_hours.csv', index = True)"
   ]
  },
  {
   "cell_type": "markdown",
   "id": "2b9ff781",
   "metadata": {},
   "source": [
    "### For model building, let's remove all the redundant columns from the dataframe"
   ]
  },
  {
   "cell_type": "code",
   "execution_count": 94,
   "id": "3a21d59b",
   "metadata": {},
   "outputs": [],
   "source": [
    "# all Columns\n",
    "# df.columns"
   ]
  },
  {
   "cell_type": "code",
   "execution_count": 95,
   "id": "2ea76426",
   "metadata": {},
   "outputs": [],
   "source": [
    "# columns to be dropped, except trans_num, which we will be dealing further\n",
    "drop_col = ['trans_date_trans_time', 'cc_num', 'merchant','first', 'last', 'street', 'city', 'state', 'lat',\n",
    "       'long','dob', 'unix_time', 'merch_lat',\n",
    "       'merch_long', 'trans_year_month', 'cust_age','city_pop',\n",
    "       'city-state', 'lon1', 'lon2', 'lat1', 'lat2', 'dlon',\n",
    "       'dlat', 'a', 'c', 'distance_bw_cust_merch_in_miles',\n",
    "       'distance_cust_merch']\n",
    "\n",
    "# dropping above columns from the dataframe\n",
    "df.drop(drop_col, axis = 1, inplace = True)\n",
    "\n",
    "# check\n",
    "# df.head()"
   ]
  },
  {
   "cell_type": "markdown",
   "id": "38f4b6db",
   "metadata": {},
   "source": [
    "#### Let's convert the categorical columns (except gender) into numerical columns based on the avg fraudulent txn amount w.r.t. each category"
   ]
  },
  {
   "cell_type": "code",
   "execution_count": 96,
   "id": "3578b265",
   "metadata": {},
   "outputs": [],
   "source": [
    "# let's label encode age column w.r.t the avg fraudulent txn amount\n",
    "age_piv_2.sort_values(by = 1, ascending = True, inplace = True)\n",
    "\n",
    "# age_piv_2"
   ]
  },
  {
   "cell_type": "code",
   "execution_count": 97,
   "id": "069f7e50",
   "metadata": {},
   "outputs": [],
   "source": [
    "# get dictionary\n",
    "age_dic = {k:v for (k,v) in zip(age_piv_2.index.values, age_piv_2.reset_index().index.values)}\n",
    "\n",
    "# check\n",
    "# age_dic"
   ]
  },
  {
   "cell_type": "code",
   "execution_count": 98,
   "id": "d6735a1c",
   "metadata": {},
   "outputs": [],
   "source": [
    "# label encoding the age groups column\n",
    "df['cust_age_groups'] = df['cust_age_groups'].map(age_dic)\n",
    "\n",
    "# check\n",
    "# df['cust_age_groups']"
   ]
  },
  {
   "cell_type": "code",
   "execution_count": 99,
   "id": "48621a39",
   "metadata": {},
   "outputs": [],
   "source": [
    "# now let's encode merchant category\n",
    "merch_cat = df[df['is_fraud'] == 1].groupby('category')['amt'].mean().sort_values(ascending = True)\n",
    "\n",
    "# check\n",
    "# merch_cat"
   ]
  },
  {
   "cell_type": "code",
   "execution_count": 100,
   "id": "9882daa3",
   "metadata": {},
   "outputs": [],
   "source": [
    "merch_cat_dic = {k:v for (k,v) in zip(merch_cat.index.values,merch_cat.reset_index().index.values)}\n",
    "\n",
    "# check\n",
    "# merch_cat_dic"
   ]
  },
  {
   "cell_type": "code",
   "execution_count": 101,
   "id": "d2be46c7",
   "metadata": {},
   "outputs": [],
   "source": [
    "# encoding the merchant_category column\n",
    "df['category'] = df['category'].map(merch_cat_dic)\n",
    "\n",
    "# check\n",
    "# df['category']"
   ]
  },
  {
   "cell_type": "code",
   "execution_count": 102,
   "id": "3cc577d0",
   "metadata": {},
   "outputs": [],
   "source": [
    "job_txn_piv_2.sort_values(by = 1, ascending = True, inplace = True)\n",
    "\n",
    "# check\n",
    "# job_txn_piv_2"
   ]
  },
  {
   "cell_type": "code",
   "execution_count": 103,
   "id": "7f104ef5",
   "metadata": {},
   "outputs": [],
   "source": [
    "job_txn_piv_2[1].fillna(0, inplace = True)\n",
    "\n",
    "# check\n",
    "# job_txn_piv_2"
   ]
  },
  {
   "cell_type": "code",
   "execution_count": 104,
   "id": "0f6c9872",
   "metadata": {},
   "outputs": [],
   "source": [
    "job_txn_piv_2.sort_values(by = 1, ascending = True, inplace = True)\n",
    "\n",
    "# job_txn_piv_2"
   ]
  },
  {
   "cell_type": "code",
   "execution_count": 105,
   "id": "0c3d1343",
   "metadata": {},
   "outputs": [],
   "source": [
    "# job categories\n",
    "job_cat_dic = {k:v for (k,v) in zip(job_txn_piv_2.index.values, job_txn_piv_2.reset_index().index.values)}\n",
    "\n",
    "# check\n",
    "# job_cat_dic"
   ]
  },
  {
   "cell_type": "code",
   "execution_count": 106,
   "id": "ab0e5adc",
   "metadata": {},
   "outputs": [],
   "source": [
    "# label encoding the job column\n",
    "df['job'] = df['job'].map(job_cat_dic)\n",
    "\n",
    "# check\n",
    "# df['job']"
   ]
  },
  {
   "cell_type": "code",
   "execution_count": 107,
   "id": "7f7200f7",
   "metadata": {},
   "outputs": [],
   "source": [
    "# check\n",
    "# df.head()\n",
    "# check 2\n",
    "# df.info()"
   ]
  },
  {
   "cell_type": "code",
   "execution_count": 108,
   "id": "14ecd167",
   "metadata": {},
   "outputs": [],
   "source": [
    "# check 2\n",
    "# df.info()"
   ]
  },
  {
   "cell_type": "code",
   "execution_count": 109,
   "id": "1f18af8d",
   "metadata": {},
   "outputs": [],
   "source": [
    "# let's convert trans_hour into numerical format\n",
    "df['trans_hour'] = df['trans_hour'].astype('int')\n",
    "\n",
    "# check\n",
    "# df['trans_hour']"
   ]
  },
  {
   "cell_type": "code",
   "execution_count": 110,
   "id": "56189b66",
   "metadata": {},
   "outputs": [],
   "source": [
    "# df.info()"
   ]
  },
  {
   "cell_type": "code",
   "execution_count": 111,
   "id": "2f4b615d",
   "metadata": {},
   "outputs": [],
   "source": [
    "# create dummies for 'gender' column\n",
    "df = pd.get_dummies(data  = df, columns = ['gender'], drop_first = True, dtype = 'int')\n",
    "\n",
    "# # check\n",
    "# df.head()"
   ]
  },
  {
   "cell_type": "markdown",
   "id": "61d4b4cf",
   "metadata": {},
   "source": [
    "# 3. Train-Test split"
   ]
  },
  {
   "cell_type": "code",
   "execution_count": 112,
   "id": "14f52509",
   "metadata": {},
   "outputs": [
    {
     "name": "stdout",
     "output_type": "stream",
     "text": [
      "(1241103, 10)\n",
      "(611291, 10)\n"
     ]
    }
   ],
   "source": [
    "train,test = train_test_split(df, test_size=0.33, random_state=42, stratify = df['is_fraud'])\n",
    "# visualizing class imbalance\n",
    "df['is_fraud'].value_counts()\n",
    "# check\n",
    "print(train.shape)\n",
    "print(test.shape)"
   ]
  },
  {
   "cell_type": "code",
   "execution_count": 113,
   "id": "9b011034",
   "metadata": {},
   "outputs": [],
   "source": [
    "# # check\n",
    "# train.head()\n",
    "# # check\n",
    "# test.head()"
   ]
  },
  {
   "cell_type": "code",
   "execution_count": 114,
   "id": "3eddcceb",
   "metadata": {},
   "outputs": [
    {
     "name": "stdout",
     "output_type": "stream",
     "text": [
      "is_fraud\n",
      "0    1234637\n",
      "1       6466\n",
      "Name: count, dtype: int64\n",
      "is_fraud\n",
      "0    608106\n",
      "1      3185\n",
      "Name: count, dtype: int64\n"
     ]
    }
   ],
   "source": [
    "# check class proportions in train and test datasets\n",
    "print(train['is_fraud'].value_counts())\n",
    "print(test['is_fraud'].value_counts())"
   ]
  },
  {
   "cell_type": "code",
   "execution_count": 115,
   "id": "9653a8f0",
   "metadata": {},
   "outputs": [
    {
     "data": {
      "text/plain": [
       "level_0            0\n",
       "category           0\n",
       "amt                0\n",
       "zip                0\n",
       "job                0\n",
       "trans_num          0\n",
       "is_fraud           0\n",
       "cust_age_groups    0\n",
       "trans_hour         0\n",
       "gender_M           0\n",
       "dtype: int64"
      ]
     },
     "execution_count": 115,
     "metadata": {},
     "output_type": "execute_result"
    }
   ],
   "source": [
    "# check for missing values in train data\n",
    "train.isna().sum()\n",
    "# check for missing values in test data\n",
    "test.isna().sum()"
   ]
  },
  {
   "cell_type": "code",
   "execution_count": 116,
   "id": "953f1ceb",
   "metadata": {},
   "outputs": [],
   "source": [
    "# # storing the transaction numbers from both train and test data into separate dataframes respectively\n",
    "# txn_train = pd.DataFrame(train[['trans_num','amt']].values, columns = ['txn_num','amt'])\n",
    "# txn_test = pd.DataFrame(test[['trans_num','amt']].values, columns = ['txn_num','amt'])"
   ]
  },
  {
   "cell_type": "code",
   "execution_count": 117,
   "id": "63ee3856",
   "metadata": {},
   "outputs": [
    {
     "name": "stdout",
     "output_type": "stream",
     "text": [
      "Shape of training data:  ((1241103, 8), (1241103,))\n",
      "Shape of testing data:  ((611291, 8), (611291,))\n"
     ]
    }
   ],
   "source": [
    "# let's drop transaction number columns from both the training and testing data\n",
    "train.drop('trans_num',axis = 1, inplace = True)\n",
    "test.drop('trans_num',axis = 1, inplace = True)\n",
    "# splitting data into dependent and independent features respectively\n",
    "y_train = train['is_fraud']\n",
    "X_train = train.drop('is_fraud',axis = 1)\n",
    "\n",
    "y_test = test['is_fraud']\n",
    "X_test = test.drop('is_fraud',axis = 1)\n",
    "\n",
    "print('Shape of training data: ',(X_train.shape,y_train.shape))\n",
    "print('Shape of testing data: ',(X_test.shape,y_test.shape))"
   ]
  },
  {
   "cell_type": "code",
   "execution_count": 118,
   "id": "ac37c71d",
   "metadata": {},
   "outputs": [],
   "source": [
    "# let's delete all the reduntant data frames\n",
    "del df_train\n",
    "del df_test\n",
    "del age_piv\n",
    "del age_piv_2\n",
    "del age_gen_piv\n",
    "del job_txn_piv\n",
    "del job_txn_piv_2\n",
    "del state_piv\n",
    "del city_piv\n",
    "del time_series_piv"
   ]
  },
  {
   "cell_type": "code",
   "execution_count": 119,
   "id": "e6209a30",
   "metadata": {},
   "outputs": [],
   "source": [
    "# # let's see how the numerical columns are distributed\n",
    "# sns.displot(X_train['amt'])"
   ]
  },
  {
   "cell_type": "code",
   "execution_count": 120,
   "id": "f8e87b21",
   "metadata": {},
   "outputs": [],
   "source": [
    "# applying log transformations\n",
    "X_train['amt'] = np.log(X_train['amt']+1)\n",
    "X_test['amt'] = np.log(X_test['amt']+1)\n"
   ]
  },
  {
   "cell_type": "code",
   "execution_count": 121,
   "id": "e60fcdd8",
   "metadata": {},
   "outputs": [],
   "source": [
    "# # Visualizing for train data\n",
    "# sns.distplot(X_train['amt'])\n",
    "# # visualizing for test data\n",
    "# sns.distplot(X_test['amt'])"
   ]
  },
  {
   "cell_type": "code",
   "execution_count": 122,
   "id": "35824fb9",
   "metadata": {},
   "outputs": [
    {
     "data": {
      "text/plain": [
       "<Axes: xlabel='amt', ylabel='Density'>"
      ]
     },
     "execution_count": 122,
     "metadata": {},
     "output_type": "execute_result"
    },
    {
     "data": {
      "image/png": "[encoded data removed]",
      "text/plain": [
       "<Figure size 640x480 with 1 Axes>"
      ]
     },
     "metadata": {},
     "output_type": "display_data"
    }
   ],
   "source": [
    "# visualizing for test data\n",
    "sns.distplot(X_test['amt'])"
   ]
  },
  {
   "cell_type": "code",
   "execution_count": 123,
   "id": "f3b5f600",
   "metadata": {},
   "outputs": [],
   "source": [
    "# # saving the train and test datasets to disk\n",
    "# X_train.to_csv('X_train.csv', index = False)\n",
    "# y_train.to_csv('y_train.csv',index = False)\n",
    "# X_test.to_csv('X_test.csv', index = False)\n",
    "# y_test.to_csv('y_test.csv',index = False)"
   ]
  },
  {
   "cell_type": "markdown",
   "id": "31d878b2",
   "metadata": {},
   "source": [
    "# 4. Model building and evaluation"
   ]
  },
  {
   "cell_type": "markdown",
   "id": "1b501e24",
   "metadata": {},
   "source": [
    "## A) Logistic regression"
   ]
  },
  {
   "cell_type": "code",
   "execution_count": 124,
   "id": "0c0e5b90",
   "metadata": {},
   "outputs": [],
   "source": [
    "# let's scale the variables using standard scaler\n",
    "from sklearn.preprocessing import StandardScaler\n",
    "\n",
    "sc = StandardScaler()"
   ]
  },
  {
   "cell_type": "code",
   "execution_count": 125,
   "id": "e2ebb369",
   "metadata": {},
   "outputs": [],
   "source": [
    "# scaling the training and testing data\n",
    "X_train_sc = sc.fit_transform(X_train)\n",
    "X_test_sc = sc.transform(X_test)"
   ]
  },
  {
   "cell_type": "code",
   "execution_count": 126,
   "id": "f9a44d02",
   "metadata": {},
   "outputs": [],
   "source": [
    "# convert them into dataframes\n",
    "X_train_sc = pd.DataFrame(data = X_train_sc, columns = X_train.columns)\n",
    "X_test_sc = pd.DataFrame(data = X_test_sc, columns = X_test.columns)"
   ]
  },
  {
   "cell_type": "code",
   "execution_count": 127,
   "id": "864135c3",
   "metadata": {},
   "outputs": [],
   "source": [
    "# check 1\n",
    "# X_train_sc.head()\n",
    "# check 2\n",
    "# X_test_sc.head()"
   ]
  },
  {
   "cell_type": "code",
   "execution_count": 128,
   "id": "cf8d9828",
   "metadata": {},
   "outputs": [],
   "source": [
    "# # check correlation among all the independent features in train data\n",
    "# plt.figure(figsize = (10,3))\n",
    "# plt.title(\"Check Correlation among all the independent features\")\n",
    "# sns.heatmap(X_train_sc.corr(),annot = True, cmap = 'Greens')\n",
    "# plt.xticks(rotation = 45)\n",
    "# plt.show()\n"
   ]
  },
  {
   "cell_type": "markdown",
   "id": "8b588768",
   "metadata": {},
   "source": [
    "`Inferences:` `job` feature is correlated to `cust_age_groups` and `gender_M` features of about 25% and 24% respectively. Rest all features have very less correlation among themselves."
   ]
  },
  {
   "cell_type": "markdown",
   "id": "661ec0be",
   "metadata": {},
   "source": [
    "`Reference:` https://www.analyticsvidhya.com/blog/2020/10/improve-class-imbalance-class-weights/"
   ]
  },
  {
   "cell_type": "code",
   "execution_count": 129,
   "id": "3ca0e2dc",
   "metadata": {},
   "outputs": [],
   "source": [
    "# let's build our first logistic regression model with class weight = 'balanced' since we have highly imbalanced data.\n",
    "from sklearn.linear_model import LogisticRegression\n",
    "from sklearn.metrics import accuracy_score, auc, precision_score, recall_score, roc_auc_score, roc_curve\n",
    "\n",
    "lr = LogisticRegression(class_weight = 'balanced')"
   ]
  },
  {
   "cell_type": "code",
   "execution_count": 130,
   "id": "7dd54262",
   "metadata": {},
   "outputs": [
    {
     "data": {
      "text/plain": [
       "array([0, 1, 0, ..., 0, 0, 0], shape=(611291,))"
      ]
     },
     "execution_count": 130,
     "metadata": {},
     "output_type": "execute_result"
    }
   ],
   "source": [
    "# fitting on the training data\n",
    "lr.fit(X_train_sc,y_train)\n",
    "\n",
    "# predictions on the training data\n",
    "y_pred_train = lr.predict(X_train_sc)\n",
    "\n",
    "# check\n",
    "y_pred_train\n",
    "# predictions on the test data\n",
    "y_pred_test = lr.predict(X_test_sc)\n",
    "\n",
    "# check\n",
    "y_pred_test"
   ]
  },
  {
   "cell_type": "code",
   "execution_count": 131,
   "id": "3389a825",
   "metadata": {},
   "outputs": [
    {
     "name": "stdout",
     "output_type": "stream",
     "text": [
      "[[960519 274118]\n",
      " [  1451   5015]]\n",
      "[[472228 135878]\n",
      " [   677   2508]]\n"
     ]
    }
   ],
   "source": [
    "# let's check the evaluation metrics, import confusion matrix\n",
    "from sklearn.metrics import confusion_matrix\n",
    "\n",
    "# for train data\n",
    "## TN FP\n",
    "## FN TP\n",
    "print(confusion_matrix(y_train, y_pred_train))\n",
    "# test data\n",
    "print(confusion_matrix(y_test, y_pred_test))"
   ]
  },
  {
   "cell_type": "code",
   "execution_count": 132,
   "id": "42c19507",
   "metadata": {},
   "outputs": [
    {
     "name": "stdout",
     "output_type": "stream",
     "text": [
      "ROC_AUC score on train data is 0.7767861344221845 and on test data is 0.7819982667340576\n",
      "Accuracy on train data is 0.7779644396959801 and on test data is 0.7766121209047737\n",
      "Recall score on train data = 0.7755954222084751\n",
      "Recall score on test data = 0.7874411302982731\n"
     ]
    }
   ],
   "source": [
    "print(f'ROC_AUC score on train data is {roc_auc_score(y_train,y_pred_train)} and on test data is {roc_auc_score(y_test,y_pred_test)}')\n",
    "# accuracy score\n",
    "print(f'Accuracy on train data is {accuracy_score(y_train,y_pred_train)} and on test data is {accuracy_score(y_test,y_pred_test)}')\n",
    "# recall score on train and test data\n",
    "print(f'Recall score on train data = {recall_score(y_train, y_pred_train)}')\n",
    "\n",
    "print(f'Recall score on test data = {recall_score(y_test, y_pred_test)}')"
   ]
  },
  {
   "cell_type": "markdown",
   "id": "a2232959",
   "metadata": {},
   "source": [
    "Let's try to improve the recall score by trying different thresholds or cut-offs."
   ]
  },
  {
   "cell_type": "code",
   "execution_count": 137,
   "id": "58eec8ac",
   "metadata": {},
   "outputs": [
    {
     "data": {
      "text/plain": [
       "<Axes: title={'center': 'Range of probabilities of getting fraud'}, ylabel='Frequency'>"
      ]
     },
     "execution_count": 137,
     "metadata": {},
     "output_type": "execute_result"
    },
    {
     "data": {
      "image/png": "[encoded data removed]",
      "text/plain": [
       "<Figure size 640x480 with 1 Axes>"
      ]
     },
     "metadata": {},
     "output_type": "display_data"
    }
   ],
   "source": [
    "# # let's get predicted probabilites for train data\n",
    "y_pred_train_proba = lr.predict_proba(X_train_sc)\n",
    "\n",
    "# # check\n",
    "y_pred_train_proba\n",
    "# # let's get predicted probabilities for test data\n",
    "y_pred_test_proba = lr.predict_proba(X_test_sc)\n",
    "\n",
    "# # check\n",
    "y_pred_test_proba\n",
    "y_train_results = pd.DataFrame(y_pred_train_proba, columns = ['pred_not_fraud','pred_fraud'])\n",
    "\n",
    "# # check\n",
    "y_train_results\n",
    "y_train_results['y_train_actual'] = y_train.values\n",
    "\n",
    "# # check\n",
    "y_train_results\n",
    "# # check the range of probabilities of getting fraud.\n",
    "y_train_results[y_train_results['y_train_actual'] == 1]['pred_fraud'].plot(kind = 'hist', title = 'Range of probabilities of getting fraud')"
   ]
  },
  {
   "cell_type": "code",
   "execution_count": 138,
   "id": "e0202e22",
   "metadata": {},
   "outputs": [],
   "source": [
    "y_test_results = pd.DataFrame(y_pred_test_proba, columns = ['pred_not_fraud','pred_fraud'])\n",
    "\n",
    "# # check\n",
    "y_test_results\n",
    "y_test_results['y_test_actual'] = y_test.values\n",
    "\n",
    "# # check\n",
    "# y_test_results"
   ]
  },
  {
   "cell_type": "code",
   "execution_count": 139,
   "id": "0ac2b261",
   "metadata": {},
   "outputs": [
    {
     "data": {
      "text/html": [
       "<div>\n",
       "<style scoped>\n",
       "    .dataframe tbody tr th:only-of-type {\n",
       "        vertical-align: middle;\n",
       "    }\n",
       "\n",
       "    .dataframe tbody tr th {\n",
       "        vertical-align: top;\n",
       "    }\n",
       "\n",
       "    .dataframe thead th {\n",
       "        text-align: right;\n",
       "    }\n",
       "</style>\n",
       "<table border=\"1\" class=\"dataframe\">\n",
       "  <thead>\n",
       "    <tr style=\"text-align: right;\">\n",
       "      <th></th>\n",
       "      <th>pred_not_fraud</th>\n",
       "      <th>pred_fraud</th>\n",
       "      <th>y_test_actual</th>\n",
       "    </tr>\n",
       "  </thead>\n",
       "  <tbody>\n",
       "    <tr>\n",
       "      <th>0</th>\n",
       "      <td>0.696974</td>\n",
       "      <td>0.303026</td>\n",
       "      <td>0</td>\n",
       "    </tr>\n",
       "    <tr>\n",
       "      <th>1</th>\n",
       "      <td>0.362063</td>\n",
       "      <td>0.637937</td>\n",
       "      <td>0</td>\n",
       "    </tr>\n",
       "    <tr>\n",
       "      <th>2</th>\n",
       "      <td>0.964957</td>\n",
       "      <td>0.035043</td>\n",
       "      <td>0</td>\n",
       "    </tr>\n",
       "    <tr>\n",
       "      <th>3</th>\n",
       "      <td>0.678800</td>\n",
       "      <td>0.321200</td>\n",
       "      <td>0</td>\n",
       "    </tr>\n",
       "    <tr>\n",
       "      <th>4</th>\n",
       "      <td>0.943907</td>\n",
       "      <td>0.056093</td>\n",
       "      <td>0</td>\n",
       "    </tr>\n",
       "    <tr>\n",
       "      <th>...</th>\n",
       "      <td>...</td>\n",
       "      <td>...</td>\n",
       "      <td>...</td>\n",
       "    </tr>\n",
       "    <tr>\n",
       "      <th>611286</th>\n",
       "      <td>0.753019</td>\n",
       "      <td>0.246981</td>\n",
       "      <td>0</td>\n",
       "    </tr>\n",
       "    <tr>\n",
       "      <th>611287</th>\n",
       "      <td>0.459657</td>\n",
       "      <td>0.540343</td>\n",
       "      <td>0</td>\n",
       "    </tr>\n",
       "    <tr>\n",
       "      <th>611288</th>\n",
       "      <td>0.793105</td>\n",
       "      <td>0.206895</td>\n",
       "      <td>0</td>\n",
       "    </tr>\n",
       "    <tr>\n",
       "      <th>611289</th>\n",
       "      <td>0.503439</td>\n",
       "      <td>0.496561</td>\n",
       "      <td>0</td>\n",
       "    </tr>\n",
       "    <tr>\n",
       "      <th>611290</th>\n",
       "      <td>0.724856</td>\n",
       "      <td>0.275144</td>\n",
       "      <td>0</td>\n",
       "    </tr>\n",
       "  </tbody>\n",
       "</table>\n",
       "<p>611291 rows × 3 columns</p>\n",
       "</div>"
      ],
      "text/plain": [
       "        pred_not_fraud  pred_fraud  y_test_actual\n",
       "0             0.696974    0.303026              0\n",
       "1             0.362063    0.637937              0\n",
       "2             0.964957    0.035043              0\n",
       "3             0.678800    0.321200              0\n",
       "4             0.943907    0.056093              0\n",
       "...                ...         ...            ...\n",
       "611286        0.753019    0.246981              0\n",
       "611287        0.459657    0.540343              0\n",
       "611288        0.793105    0.206895              0\n",
       "611289        0.503439    0.496561              0\n",
       "611290        0.724856    0.275144              0\n",
       "\n",
       "[611291 rows x 3 columns]"
      ]
     },
     "execution_count": 139,
     "metadata": {},
     "output_type": "execute_result"
    }
   ],
   "source": [
    "y_test_results['y_test_actual'] = y_test.values\n",
    "\n",
    "# check\n",
    "y_test_results"
   ]
  },
  {
   "cell_type": "markdown",
   "id": "66b8b721",
   "metadata": {},
   "source": [
    "#### Let's find an optimal threshold point to classify whether it is a fraudulent transaction or not fraudulent transaction."
   ]
  },
  {
   "cell_type": "code",
   "execution_count": 140,
   "id": "fa72523a",
   "metadata": {},
   "outputs": [
    {
     "data": {
      "text/html": [
       "<div>\n",
       "<style scoped>\n",
       "    .dataframe tbody tr th:only-of-type {\n",
       "        vertical-align: middle;\n",
       "    }\n",
       "\n",
       "    .dataframe tbody tr th {\n",
       "        vertical-align: top;\n",
       "    }\n",
       "\n",
       "    .dataframe thead th {\n",
       "        text-align: right;\n",
       "    }\n",
       "</style>\n",
       "<table border=\"1\" class=\"dataframe\">\n",
       "  <thead>\n",
       "    <tr style=\"text-align: right;\">\n",
       "      <th></th>\n",
       "      <th>pred_not_fraud</th>\n",
       "      <th>pred_fraud</th>\n",
       "      <th>y_train_actual</th>\n",
       "      <th>0.1</th>\n",
       "      <th>0.15</th>\n",
       "      <th>0.2</th>\n",
       "      <th>0.3</th>\n",
       "      <th>0.4</th>\n",
       "      <th>0.5</th>\n",
       "      <th>0.6</th>\n",
       "      <th>0.7</th>\n",
       "      <th>0.8</th>\n",
       "      <th>0.9</th>\n",
       "    </tr>\n",
       "  </thead>\n",
       "  <tbody>\n",
       "    <tr>\n",
       "      <th>0</th>\n",
       "      <td>0.943356</td>\n",
       "      <td>0.056644</td>\n",
       "      <td>0</td>\n",
       "      <td>0</td>\n",
       "      <td>0</td>\n",
       "      <td>0</td>\n",
       "      <td>0</td>\n",
       "      <td>0</td>\n",
       "      <td>0</td>\n",
       "      <td>0</td>\n",
       "      <td>0</td>\n",
       "      <td>0</td>\n",
       "      <td>0</td>\n",
       "    </tr>\n",
       "    <tr>\n",
       "      <th>1</th>\n",
       "      <td>0.953590</td>\n",
       "      <td>0.046410</td>\n",
       "      <td>0</td>\n",
       "      <td>0</td>\n",
       "      <td>0</td>\n",
       "      <td>0</td>\n",
       "      <td>0</td>\n",
       "      <td>0</td>\n",
       "      <td>0</td>\n",
       "      <td>0</td>\n",
       "      <td>0</td>\n",
       "      <td>0</td>\n",
       "      <td>0</td>\n",
       "    </tr>\n",
       "    <tr>\n",
       "      <th>2</th>\n",
       "      <td>0.951897</td>\n",
       "      <td>0.048103</td>\n",
       "      <td>0</td>\n",
       "      <td>0</td>\n",
       "      <td>0</td>\n",
       "      <td>0</td>\n",
       "      <td>0</td>\n",
       "      <td>0</td>\n",
       "      <td>0</td>\n",
       "      <td>0</td>\n",
       "      <td>0</td>\n",
       "      <td>0</td>\n",
       "      <td>0</td>\n",
       "    </tr>\n",
       "    <tr>\n",
       "      <th>3</th>\n",
       "      <td>0.653800</td>\n",
       "      <td>0.346200</td>\n",
       "      <td>0</td>\n",
       "      <td>1</td>\n",
       "      <td>1</td>\n",
       "      <td>1</td>\n",
       "      <td>1</td>\n",
       "      <td>0</td>\n",
       "      <td>0</td>\n",
       "      <td>0</td>\n",
       "      <td>0</td>\n",
       "      <td>0</td>\n",
       "      <td>0</td>\n",
       "    </tr>\n",
       "    <tr>\n",
       "      <th>4</th>\n",
       "      <td>0.823374</td>\n",
       "      <td>0.176626</td>\n",
       "      <td>0</td>\n",
       "      <td>1</td>\n",
       "      <td>1</td>\n",
       "      <td>0</td>\n",
       "      <td>0</td>\n",
       "      <td>0</td>\n",
       "      <td>0</td>\n",
       "      <td>0</td>\n",
       "      <td>0</td>\n",
       "      <td>0</td>\n",
       "      <td>0</td>\n",
       "    </tr>\n",
       "  </tbody>\n",
       "</table>\n",
       "</div>"
      ],
      "text/plain": [
       "   pred_not_fraud  pred_fraud  y_train_actual  0.1  0.15  0.2  0.3  0.4  0.5  \\\n",
       "0        0.943356    0.056644               0    0     0    0    0    0    0   \n",
       "1        0.953590    0.046410               0    0     0    0    0    0    0   \n",
       "2        0.951897    0.048103               0    0     0    0    0    0    0   \n",
       "3        0.653800    0.346200               0    1     1    1    1    0    0   \n",
       "4        0.823374    0.176626               0    1     1    0    0    0    0   \n",
       "\n",
       "   0.6  0.7  0.8  0.9  \n",
       "0    0    0    0    0  \n",
       "1    0    0    0    0  \n",
       "2    0    0    0    0  \n",
       "3    0    0    0    0  \n",
       "4    0    0    0    0  "
      ]
     },
     "execution_count": 140,
     "metadata": {},
     "output_type": "execute_result"
    }
   ],
   "source": [
    "# Let's create columns with different probability cutoffs \n",
    "numbers = [0.1,0.15,0.2,0.3,0.4,0.5,0.6,0.7,0.8,0.9]\n",
    "for i in numbers:\n",
    "    y_train_results[i]= y_train_results.pred_fraud.map(lambda x: 1 if x > i else 0)\n",
    "y_train_results.head()"
   ]
  },
  {
   "cell_type": "code",
   "execution_count": 141,
   "id": "5448319c",
   "metadata": {},
   "outputs": [
    {
     "name": "stdout",
     "output_type": "stream",
     "text": [
      "      prob  recall_score\n",
      "0.10  0.10      0.985308\n",
      "0.15  0.15      0.937210\n",
      "0.20  0.20      0.884782\n",
      "0.30  0.30      0.803124\n",
      "0.40  0.40      0.783947\n",
      "0.50  0.50      0.775595\n",
      "0.60  0.60      0.756418\n",
      "0.70  0.70      0.665945\n",
      "0.80  0.80      0.473090\n",
      "0.90  0.90      0.055212\n"
     ]
    }
   ],
   "source": [
    "# Now let's calculate recall scores for various probability cutoffs.\n",
    "cutoff_df = pd.DataFrame( columns = ['prob','recall_score'])\n",
    "\n",
    "# TP = confusion[1,1] # true positive \n",
    "# TN = confusion[0,0] # true negatives\n",
    "# FP = confusion[0,1] # false positives\n",
    "# FN = confusion[1,0] # false negatives\n",
    "\n",
    "for i in numbers:\n",
    "    cm1 = confusion_matrix(y_train_results['y_train_actual'], y_train_results[i])\n",
    "    total1=sum(sum(cm1))\n",
    "    \n",
    "    recall_score = cm1[1,1]/(cm1[1,0]+cm1[1,1])\n",
    "    \n",
    "    cutoff_df.loc[i] =[ i, recall_score]\n",
    "print(cutoff_df)"
   ]
  },
  {
   "cell_type": "code",
   "execution_count": 142,
   "id": "1b202652",
   "metadata": {},
   "outputs": [
    {
     "data": {
      "image/png": "[encoded data removed]",
      "text/plain": [
       "<Figure size 700x300 with 1 Axes>"
      ]
     },
     "metadata": {},
     "output_type": "display_data"
    }
   ],
   "source": [
    "plt.figure(figsize = (7,3))\n",
    "plt.title('Finding optimum threshold classification boundary on train data')\n",
    "plt.plot(cutoff_df.prob, cutoff_df.recall_score)\n",
    "plt.grid()\n",
    "plt.show()"
   ]
  },
  {
   "cell_type": "markdown",
   "id": "9d3cd461",
   "metadata": {},
   "source": [
    "#### let's consider 0.15 as an optimal threshold point"
   ]
  },
  {
   "cell_type": "code",
   "execution_count": 145,
   "id": "60e95890",
   "metadata": {},
   "outputs": [],
   "source": [
    "# # applying on test data\n",
    "y_test_results['pred_final'] = y_test_results['pred_fraud'].apply(lambda x: 1 if x>0.15 else 0)\n",
    "\n",
    "# # check\n",
    "# y_test_results.head()\n",
    "# y_test_results.info()"
   ]
  },
  {
   "cell_type": "code",
   "execution_count": 146,
   "id": "49fd96fd",
   "metadata": {},
   "outputs": [
    {
     "name": "stdout",
     "output_type": "stream",
     "text": [
      "[[169835 438271]\n",
      " [   205   2980]]\n",
      "Recall score of the model on test data = 0.9356357927786499\n"
     ]
    }
   ],
   "source": [
    "# confusion matrix\n",
    "## TN FP\n",
    "## FN TP\n",
    "cm = confusion_matrix(y_test_results['y_test_actual'],y_test_results['pred_final'] )\n",
    "TP = cm[1,1]\n",
    "TN = cm[0,0]\n",
    "FP = cm[0,1]\n",
    "FN = cm[1,0]\n",
    "print(cm)\n",
    "# computing recall score\n",
    "print(f'Recall score of the model on test data = {TP/(TP+FN)}')"
   ]
  },
  {
   "cell_type": "code",
   "execution_count": 148,
   "id": "424635b9",
   "metadata": {},
   "outputs": [],
   "source": [
    "# np.array(y_test_results['y_test_actual'])\n",
    "# arr1 = y_train_results[['y_train_actual',0.15]].values\n",
    "# arr2 = y_test_results[['y_test_actual','pred_final']].values\n",
    "\n",
    "# arr_f = np.concatenate((arr1, arr2), axis=0)\n",
    "\n",
    "# arr_f\n",
    "# arr_f.shape\n",
    "# # lr_results = pd.DataFrame(arr_f, columns = ['is_f_actual','is_f_pred'])\n",
    "\n",
    "# # # check\n",
    "# # lr_results\n",
    "# # txn_train\n",
    "# # txn_test"
   ]
  },
  {
   "cell_type": "code",
   "execution_count": 147,
   "id": "418ac5be",
   "metadata": {},
   "outputs": [
    {
     "ename": "NameError",
     "evalue": "name 'txn_test' is not defined",
     "output_type": "error",
     "traceback": [
      "\u001b[0;31m---------------------------------------------------------------------------\u001b[0m",
      "\u001b[0;31mNameError\u001b[0m                                 Traceback (most recent call last)",
      "Cell \u001b[0;32mIn[147], line 1\u001b[0m\n\u001b[0;32m----> 1\u001b[0m \u001b[43mtxn_test\u001b[49m\n",
      "\u001b[0;31mNameError\u001b[0m: name 'txn_test' is not defined"
     ]
    }
   ],
   "source": [
    "txn_test"
   ]
  },
  {
   "cell_type": "code",
   "execution_count": null,
   "id": "de5af085",
   "metadata": {},
   "outputs": [
    {
     "data": {
      "text/html": [
       "<div>\n",
       "<style scoped>\n",
       "    .dataframe tbody tr th:only-of-type {\n",
       "        vertical-align: middle;\n",
       "    }\n",
       "\n",
       "    .dataframe tbody tr th {\n",
       "        vertical-align: top;\n",
       "    }\n",
       "\n",
       "    .dataframe thead th {\n",
       "        text-align: right;\n",
       "    }\n",
       "</style>\n",
       "<table border=\"1\" class=\"dataframe\">\n",
       "  <thead>\n",
       "    <tr style=\"text-align: right;\">\n",
       "      <th></th>\n",
       "      <th>is_f_actual</th>\n",
       "      <th>is_f_pred</th>\n",
       "      <th>txn_amt</th>\n",
       "      <th>txn_num</th>\n",
       "    </tr>\n",
       "  </thead>\n",
       "  <tbody>\n",
       "    <tr>\n",
       "      <th>0</th>\n",
       "      <td>0</td>\n",
       "      <td>0</td>\n",
       "      <td>8.37</td>\n",
       "      <td>1a3b2c30799a30f89d00defe95d27efd</td>\n",
       "    </tr>\n",
       "    <tr>\n",
       "      <th>1</th>\n",
       "      <td>0</td>\n",
       "      <td>0</td>\n",
       "      <td>2.01</td>\n",
       "      <td>17afa7441d6f1986334db9ef8d6eaedb</td>\n",
       "    </tr>\n",
       "    <tr>\n",
       "      <th>2</th>\n",
       "      <td>0</td>\n",
       "      <td>0</td>\n",
       "      <td>4.54</td>\n",
       "      <td>d6aecc9b07468dfe6dc3b78328f5278a</td>\n",
       "    </tr>\n",
       "    <tr>\n",
       "      <th>3</th>\n",
       "      <td>0</td>\n",
       "      <td>1</td>\n",
       "      <td>37.5</td>\n",
       "      <td>e24f550edd520f1e60d82086d94d497d</td>\n",
       "    </tr>\n",
       "    <tr>\n",
       "      <th>4</th>\n",
       "      <td>0</td>\n",
       "      <td>1</td>\n",
       "      <td>23.2</td>\n",
       "      <td>055f41732062c4383412aa029ed6861d</td>\n",
       "    </tr>\n",
       "    <tr>\n",
       "      <th>...</th>\n",
       "      <td>...</td>\n",
       "      <td>...</td>\n",
       "      <td>...</td>\n",
       "      <td>...</td>\n",
       "    </tr>\n",
       "    <tr>\n",
       "      <th>1852389</th>\n",
       "      <td>0</td>\n",
       "      <td>1</td>\n",
       "      <td>35.9</td>\n",
       "      <td>338aa875143b08d159cd44fdb76f4ffc</td>\n",
       "    </tr>\n",
       "    <tr>\n",
       "      <th>1852390</th>\n",
       "      <td>0</td>\n",
       "      <td>1</td>\n",
       "      <td>86.18</td>\n",
       "      <td>e878b9d59e35bdce751bef5a29040346</td>\n",
       "    </tr>\n",
       "    <tr>\n",
       "      <th>1852391</th>\n",
       "      <td>0</td>\n",
       "      <td>1</td>\n",
       "      <td>28.85</td>\n",
       "      <td>5a25fad9d2744927c5a1c59602e30bc2</td>\n",
       "    </tr>\n",
       "    <tr>\n",
       "      <th>1852392</th>\n",
       "      <td>0</td>\n",
       "      <td>1</td>\n",
       "      <td>57.78</td>\n",
       "      <td>c7fca8fb5ffb1fc602e6ee409bfef0d4</td>\n",
       "    </tr>\n",
       "    <tr>\n",
       "      <th>1852393</th>\n",
       "      <td>0</td>\n",
       "      <td>1</td>\n",
       "      <td>20.99</td>\n",
       "      <td>b68bd662ae11159e1ef5a0e99b7edbdf</td>\n",
       "    </tr>\n",
       "  </tbody>\n",
       "</table>\n",
       "<p>1852394 rows × 4 columns</p>\n",
       "</div>"
      ],
      "text/plain": [
       "         is_f_actual  is_f_pred txn_amt                           txn_num\n",
       "0                  0          0    8.37  1a3b2c30799a30f89d00defe95d27efd\n",
       "1                  0          0    2.01  17afa7441d6f1986334db9ef8d6eaedb\n",
       "2                  0          0    4.54  d6aecc9b07468dfe6dc3b78328f5278a\n",
       "3                  0          1    37.5  e24f550edd520f1e60d82086d94d497d\n",
       "4                  0          1    23.2  055f41732062c4383412aa029ed6861d\n",
       "...              ...        ...     ...                               ...\n",
       "1852389            0          1    35.9  338aa875143b08d159cd44fdb76f4ffc\n",
       "1852390            0          1   86.18  e878b9d59e35bdce751bef5a29040346\n",
       "1852391            0          1   28.85  5a25fad9d2744927c5a1c59602e30bc2\n",
       "1852392            0          1   57.78  c7fca8fb5ffb1fc602e6ee409bfef0d4\n",
       "1852393            0          1   20.99  b68bd662ae11159e1ef5a0e99b7edbdf\n",
       "\n",
       "[1852394 rows x 4 columns]"
      ]
     },
     "execution_count": 396,
     "metadata": {},
     "output_type": "execute_result"
    }
   ],
   "source": [
    "# # Adding transaction num and transaction amt columns\n",
    "# lr_results['txn_amt'] = pd.concat([txn_train,txn_test])['amt'].values\n",
    "# lr_results['txn_num'] = pd.concat([txn_train,txn_test])['txn_num'].values\n",
    "\n",
    "# # check\n",
    "# lr_results"
   ]
  },
  {
   "cell_type": "code",
   "execution_count": null,
   "id": "999f7e5d",
   "metadata": {},
   "outputs": [
    {
     "data": {
      "text/html": [
       "<div>\n",
       "<style scoped>\n",
       "    .dataframe tbody tr th:only-of-type {\n",
       "        vertical-align: middle;\n",
       "    }\n",
       "\n",
       "    .dataframe tbody tr th {\n",
       "        vertical-align: top;\n",
       "    }\n",
       "\n",
       "    .dataframe thead th {\n",
       "        text-align: right;\n",
       "    }\n",
       "</style>\n",
       "<table border=\"1\" class=\"dataframe\">\n",
       "  <thead>\n",
       "    <tr style=\"text-align: right;\">\n",
       "      <th></th>\n",
       "      <th>model</th>\n",
       "      <th>train_recall_score</th>\n",
       "      <th>test_recall_score</th>\n",
       "      <th>Cost saved by the model per month</th>\n",
       "    </tr>\n",
       "  </thead>\n",
       "  <tbody>\n",
       "    <tr>\n",
       "      <th>0</th>\n",
       "      <td>Logistic Regression model</td>\n",
       "      <td>0.93</td>\n",
       "      <td>0.93</td>\n",
       "      <td>$115,538.03</td>\n",
       "    </tr>\n",
       "  </tbody>\n",
       "</table>\n",
       "</div>"
      ],
      "text/plain": [
       "                       model  train_recall_score  test_recall_score  \\\n",
       "0  Logistic Regression model                0.93               0.93   \n",
       "\n",
       "  Cost saved by the model per month  \n",
       "0                       $115,538.03  "
      ]
     },
     "execution_count": 403,
     "metadata": {},
     "output_type": "execute_result"
    }
   ],
   "source": [
    "# # saving the model results into a dataframe\n",
    "# model_results = pd.DataFrame(columns = ['model','train_recall_score','test_recall_score','Cost saved by the model per month'])\n",
    "\n",
    "# model_results.loc[len(model_results)] = ['Logistic Regression model', 0.93, 0.93, '$115,538.03']\n",
    "\n",
    "# # check\n",
    "# model_results\n",
    "# save this data frame to disk as .csv file\n",
    "# model_results.to_csv('model_results.csv', index = False)"
   ]
  },
  {
   "cell_type": "code",
   "execution_count": null,
   "id": "f91b54e5",
   "metadata": {},
   "outputs": [
    {
     "data": {
      "text/plain": [
       "['models\\\\logistic_reg_model_2.pkl']"
      ]
     },
     "execution_count": 405,
     "metadata": {},
     "output_type": "execute_result"
    }
   ],
   "source": [
    "#joblib.dump(value = lr, filename = r'models\\logistic_reg_model_2.pkl' )\n",
    "# check whether the model is saved properly\n",
    "#lr = joblib.load(r'models\\logistic_reg_model_2.pkl')\n",
    "# lr.feature_names_in_\n",
    "# lr.class_weight\n",
    "# lr.get_params()"
   ]
  },
  {
   "cell_type": "code",
   "execution_count": null,
   "id": "fb45497f",
   "metadata": {},
   "outputs": [],
   "source": [
    "# check whether the model is saved properly\n",
    "#lr = joblib.load(r'models\\logistic_reg_model_2.pkl')\n",
    "# lr.feature_names_in_\n",
    "# lr.class_weight\n",
    "# lr.get_params()"
   ]
  },
  {
   "cell_type": "markdown",
   "id": "2fdcdd02",
   "metadata": {},
   "source": [
    "### Our Logistic regression model is successful in saving the costs per month upto $115,426.53"
   ]
  },
  {
   "cell_type": "markdown",
   "id": "61fa6fb1",
   "metadata": {},
   "source": [
    "## B) Random Forest Classifier"
   ]
  },
  {
   "cell_type": "code",
   "execution_count": 149,
   "id": "d073ff25",
   "metadata": {},
   "outputs": [],
   "source": [
    "# instantiating random forest classifier with class weights\n",
    "from sklearn.ensemble import RandomForestClassifier\n",
    "from sklearn.model_selection import RandomizedSearchCV, GridSearchCV\n",
    "\n",
    "rf = RandomForestClassifier(class_weight = 'balanced')"
   ]
  },
  {
   "cell_type": "code",
   "execution_count": 150,
   "id": "a63aa743",
   "metadata": {},
   "outputs": [],
   "source": [
    "# fitting on the training data\n",
    "rf.fit(X_train,y_train)\n",
    "\n",
    "# predictions on the training data\n",
    "y_pred_train_rf = rf.predict(X_train)\n",
    "\n",
    "# predictions on the test data\n",
    "y_pred_test_rf = rf.predict(X_test)\n",
    "# check predictions on train data\n",
    "#y_pred_train_rf\n",
    "# check predictions on test data\n",
    "#y_pred_test_rf"
   ]
  },
  {
   "cell_type": "code",
   "execution_count": 151,
   "id": "ce5ae6fb",
   "metadata": {},
   "outputs": [
    {
     "name": "stdout",
     "output_type": "stream",
     "text": [
      "Training data: [[1234637       0]\n",
      " [      2    6464]]\n",
      "\n",
      "Testing data: [[608010     96]\n",
      " [   753   2432]]\n",
      "Recall score of the model on train data: 0.9996906897618311\n",
      "Recall score of the model on test data: 0.7635792778649921\n"
     ]
    }
   ],
   "source": [
    "# check confusion matrix on both train and test data\n",
    "\n",
    "## TN FP\n",
    "## FN TP\n",
    "cm_train = confusion_matrix(y_train,y_pred_train_rf)\n",
    "cm_test = confusion_matrix(y_test,y_pred_test_rf)\n",
    "print('Training data:',cm_train)\n",
    "print()\n",
    "print('Testing data:', cm_test)\n",
    "# check recall scores on train data\n",
    "print(f'Recall score of the model on train data: {cm_train[1][1]/(cm_train[1][1]+cm_train[1][0])}')\n",
    "# check recall scores on test data\n",
    "print(f'Recall score of the model on test data: {cm_test[1][1]/(cm_test[1][1]+cm_test[1][0])}')\n",
    "# get the parameters of the model\n",
    "#rf.get_params()"
   ]
  },
  {
   "cell_type": "markdown",
   "id": "c5d8c99f",
   "metadata": {},
   "source": [
    "`Inferences:` Model overfit"
   ]
  },
  {
   "cell_type": "code",
   "execution_count": 152,
   "id": "46172257",
   "metadata": {},
   "outputs": [
    {
     "name": "stdout",
     "output_type": "stream",
     "text": [
      "Fitting 10 folds for each of 10 candidates, totalling 100 fits\n"
     ]
    },
    {
     "name": "stderr",
     "output_type": "stream",
     "text": [
      "/home/ducanh/.venv/lib/python3.10/site-packages/sklearn/ensemble/_forest.py:612: UserWarning: Some inputs do not have OOB scores. This probably means too few trees were used to compute any reliable OOB estimates.\n",
      "  warn(\n"
     ]
    },
    {
     "name": "stdout",
     "output_type": "stream",
     "text": [
      "[CV 3/10] END criterion=entropy, max_depth=20, min_samples_leaf=6, min_samples_split=4, n_estimators=10, oob_score=True;, score=(train=0.982, test=0.855) total time= 1.8min\n"
     ]
    },
    {
     "name": "stderr",
     "output_type": "stream",
     "text": [
      "/home/ducanh/.venv/lib/python3.10/site-packages/sklearn/ensemble/_forest.py:612: UserWarning: Some inputs do not have OOB scores. This probably means too few trees were used to compute any reliable OOB estimates.\n",
      "  warn(\n"
     ]
    },
    {
     "name": "stdout",
     "output_type": "stream",
     "text": [
      "[CV 4/10] END criterion=entropy, max_depth=20, min_samples_leaf=6, min_samples_split=4, n_estimators=10, oob_score=True;, score=(train=0.982, test=0.841) total time= 2.0min\n"
     ]
    },
    {
     "name": "stderr",
     "output_type": "stream",
     "text": [
      "/home/ducanh/.venv/lib/python3.10/site-packages/sklearn/ensemble/_forest.py:612: UserWarning: Some inputs do not have OOB scores. This probably means too few trees were used to compute any reliable OOB estimates.\n",
      "  warn(\n"
     ]
    },
    {
     "name": "stdout",
     "output_type": "stream",
     "text": [
      "[CV 1/10] END criterion=entropy, max_depth=20, min_samples_leaf=6, min_samples_split=4, n_estimators=10, oob_score=True;, score=(train=0.980, test=0.859) total time= 2.2min\n"
     ]
    },
    {
     "name": "stderr",
     "output_type": "stream",
     "text": [
      "/home/ducanh/.venv/lib/python3.10/site-packages/sklearn/ensemble/_forest.py:612: UserWarning: Some inputs do not have OOB scores. This probably means too few trees were used to compute any reliable OOB estimates.\n",
      "  warn(\n"
     ]
    },
    {
     "name": "stdout",
     "output_type": "stream",
     "text": [
      "[CV 2/10] END criterion=entropy, max_depth=20, min_samples_leaf=6, min_samples_split=4, n_estimators=10, oob_score=True;, score=(train=0.980, test=0.852) total time= 2.6min\n",
      "[CV 2/10] END criterion=log_loss, max_depth=2, min_samples_leaf=2, min_samples_split=4, n_estimators=40, oob_score=True;, score=(train=0.744, test=0.770) total time= 2.7min\n"
     ]
    },
    {
     "name": "stderr",
     "output_type": "stream",
     "text": [
      "/home/ducanh/.venv/lib/python3.10/site-packages/sklearn/ensemble/_forest.py:612: UserWarning: Some inputs do not have OOB scores. This probably means too few trees were used to compute any reliable OOB estimates.\n",
      "  warn(\n"
     ]
    },
    {
     "name": "stdout",
     "output_type": "stream",
     "text": [
      "[CV 8/10] END criterion=log_loss, max_depth=2, min_samples_leaf=2, min_samples_split=4, n_estimators=40, oob_score=True;, score=(train=0.782, test=0.767) total time= 2.8min\n",
      "[CV 7/10] END criterion=log_loss, max_depth=2, min_samples_leaf=2, min_samples_split=4, n_estimators=40, oob_score=True;, score=(train=0.750, test=0.720) total time= 3.0min\n",
      "[CV 10/10] END criterion=log_loss, max_depth=2, min_samples_leaf=2, min_samples_split=4, n_estimators=40, oob_score=True;, score=(train=0.744, test=0.771) total time= 2.8min\n",
      "[CV 6/10] END criterion=log_loss, max_depth=2, min_samples_leaf=2, min_samples_split=4, n_estimators=40, oob_score=True;, score=(train=0.747, test=0.735) total time= 3.1min\n",
      "[CV 5/10] END criterion=log_loss, max_depth=2, min_samples_leaf=2, min_samples_split=4, n_estimators=40, oob_score=True;, score=(train=0.821, test=0.825) total time= 3.4min\n"
     ]
    },
    {
     "name": "stderr",
     "output_type": "stream",
     "text": [
      "/home/ducanh/.venv/lib/python3.10/site-packages/sklearn/ensemble/_forest.py:612: UserWarning: Some inputs do not have OOB scores. This probably means too few trees were used to compute any reliable OOB estimates.\n",
      "  warn(\n"
     ]
    },
    {
     "name": "stdout",
     "output_type": "stream",
     "text": [
      "[CV 5/10] END criterion=entropy, max_depth=20, min_samples_leaf=6, min_samples_split=4, n_estimators=10, oob_score=True;, score=(train=0.980, test=0.847) total time= 1.9min\n",
      "[CV 4/10] END criterion=log_loss, max_depth=2, min_samples_leaf=2, min_samples_split=4, n_estimators=40, oob_score=True;, score=(train=0.765, test=0.760) total time= 3.7min\n",
      "[CV 9/10] END criterion=log_loss, max_depth=2, min_samples_leaf=2, min_samples_split=4, n_estimators=40, oob_score=True;, score=(train=0.830, test=0.808) total time= 3.8min\n",
      "[CV 1/10] END criterion=log_loss, max_depth=2, min_samples_leaf=2, min_samples_split=4, n_estimators=40, oob_score=True;, score=(train=0.843, test=0.876) total time= 3.8min\n",
      "[CV 3/10] END criterion=log_loss, max_depth=2, min_samples_leaf=2, min_samples_split=4, n_estimators=40, oob_score=True;, score=(train=0.747, test=0.759) total time= 4.0min\n"
     ]
    },
    {
     "name": "stderr",
     "output_type": "stream",
     "text": [
      "/home/ducanh/.venv/lib/python3.10/site-packages/sklearn/ensemble/_forest.py:612: UserWarning: Some inputs do not have OOB scores. This probably means too few trees were used to compute any reliable OOB estimates.\n",
      "  warn(\n",
      "/home/ducanh/.venv/lib/python3.10/site-packages/sklearn/ensemble/_forest.py:612: UserWarning: Some inputs do not have OOB scores. This probably means too few trees were used to compute any reliable OOB estimates.\n",
      "  warn(\n"
     ]
    },
    {
     "name": "stdout",
     "output_type": "stream",
     "text": [
      "[CV 7/10] END criterion=entropy, max_depth=20, min_samples_leaf=6, min_samples_split=4, n_estimators=10, oob_score=True;, score=(train=0.981, test=0.828) total time= 1.8min\n",
      "[CV 3/10] END criterion=log_loss, max_depth=20, min_samples_leaf=8, min_samples_split=8, n_estimators=5, oob_score=True;, score=(train=0.981, test=0.869) total time= 1.0min\n"
     ]
    },
    {
     "name": "stderr",
     "output_type": "stream",
     "text": [
      "/home/ducanh/.venv/lib/python3.10/site-packages/sklearn/ensemble/_forest.py:612: UserWarning: Some inputs do not have OOB scores. This probably means too few trees were used to compute any reliable OOB estimates.\n",
      "  warn(\n"
     ]
    },
    {
     "name": "stdout",
     "output_type": "stream",
     "text": [
      "[CV 1/10] END criterion=log_loss, max_depth=20, min_samples_leaf=8, min_samples_split=8, n_estimators=5, oob_score=True;, score=(train=0.979, test=0.869) total time= 1.3min\n"
     ]
    },
    {
     "name": "stderr",
     "output_type": "stream",
     "text": [
      "/home/ducanh/.venv/lib/python3.10/site-packages/sklearn/ensemble/_forest.py:612: UserWarning: Some inputs do not have OOB scores. This probably means too few trees were used to compute any reliable OOB estimates.\n",
      "  warn(\n",
      "/home/ducanh/.venv/lib/python3.10/site-packages/sklearn/ensemble/_forest.py:612: UserWarning: Some inputs do not have OOB scores. This probably means too few trees were used to compute any reliable OOB estimates.\n",
      "  warn(\n"
     ]
    },
    {
     "name": "stdout",
     "output_type": "stream",
     "text": [
      "[CV 4/10] END criterion=log_loss, max_depth=20, min_samples_leaf=8, min_samples_split=8, n_estimators=5, oob_score=True;, score=(train=0.978, test=0.870) total time=  53.3s\n",
      "[CV 6/10] END criterion=entropy, max_depth=20, min_samples_leaf=6, min_samples_split=4, n_estimators=10, oob_score=True;, score=(train=0.981, test=0.844) total time= 2.3min\n"
     ]
    },
    {
     "name": "stderr",
     "output_type": "stream",
     "text": [
      "/home/ducanh/.venv/lib/python3.10/site-packages/sklearn/ensemble/_forest.py:612: UserWarning: Some inputs do not have OOB scores. This probably means too few trees were used to compute any reliable OOB estimates.\n",
      "  warn(\n",
      "/home/ducanh/.venv/lib/python3.10/site-packages/sklearn/ensemble/_forest.py:612: UserWarning: Some inputs do not have OOB scores. This probably means too few trees were used to compute any reliable OOB estimates.\n",
      "  warn(\n"
     ]
    },
    {
     "name": "stdout",
     "output_type": "stream",
     "text": [
      "[CV 2/10] END criterion=log_loss, max_depth=20, min_samples_leaf=8, min_samples_split=8, n_estimators=5, oob_score=True;, score=(train=0.982, test=0.887) total time= 1.5min\n",
      "[CV 9/10] END criterion=entropy, max_depth=20, min_samples_leaf=6, min_samples_split=4, n_estimators=10, oob_score=True;, score=(train=0.981, test=0.850) total time= 1.8min\n"
     ]
    },
    {
     "name": "stderr",
     "output_type": "stream",
     "text": [
      "/home/ducanh/.venv/lib/python3.10/site-packages/sklearn/ensemble/_forest.py:612: UserWarning: Some inputs do not have OOB scores. This probably means too few trees were used to compute any reliable OOB estimates.\n",
      "  warn(\n",
      "/home/ducanh/.venv/lib/python3.10/site-packages/sklearn/ensemble/_forest.py:612: UserWarning: Some inputs do not have OOB scores. This probably means too few trees were used to compute any reliable OOB estimates.\n",
      "  warn(\n"
     ]
    },
    {
     "name": "stdout",
     "output_type": "stream",
     "text": [
      "[CV 9/10] END criterion=log_loss, max_depth=20, min_samples_leaf=8, min_samples_split=8, n_estimators=5, oob_score=True;, score=(train=0.981, test=0.875) total time=  49.5s\n",
      "[CV 5/10] END criterion=log_loss, max_depth=20, min_samples_leaf=8, min_samples_split=8, n_estimators=5, oob_score=True;, score=(train=0.976, test=0.872) total time= 1.2min\n"
     ]
    },
    {
     "name": "stderr",
     "output_type": "stream",
     "text": [
      "/home/ducanh/.venv/lib/python3.10/site-packages/sklearn/ensemble/_forest.py:612: UserWarning: Some inputs do not have OOB scores. This probably means too few trees were used to compute any reliable OOB estimates.\n",
      "  warn(\n",
      "/home/ducanh/.venv/lib/python3.10/site-packages/sklearn/ensemble/_forest.py:612: UserWarning: Some inputs do not have OOB scores. This probably means too few trees were used to compute any reliable OOB estimates.\n",
      "  warn(\n"
     ]
    },
    {
     "name": "stdout",
     "output_type": "stream",
     "text": [
      "[CV 10/10] END criterion=log_loss, max_depth=20, min_samples_leaf=8, min_samples_split=8, n_estimators=5, oob_score=True;, score=(train=0.978, test=0.883) total time=  49.9s\n",
      "[CV 6/10] END criterion=log_loss, max_depth=20, min_samples_leaf=8, min_samples_split=8, n_estimators=5, oob_score=True;, score=(train=0.978, test=0.868) total time= 1.2min\n"
     ]
    },
    {
     "name": "stderr",
     "output_type": "stream",
     "text": [
      "/home/ducanh/.venv/lib/python3.10/site-packages/sklearn/ensemble/_forest.py:612: UserWarning: Some inputs do not have OOB scores. This probably means too few trees were used to compute any reliable OOB estimates.\n",
      "  warn(\n",
      "/home/ducanh/.venv/lib/python3.10/site-packages/sklearn/ensemble/_forest.py:612: UserWarning: Some inputs do not have OOB scores. This probably means too few trees were used to compute any reliable OOB estimates.\n",
      "  warn(\n"
     ]
    },
    {
     "name": "stdout",
     "output_type": "stream",
     "text": [
      "[CV 10/10] END criterion=entropy, max_depth=20, min_samples_leaf=6, min_samples_split=4, n_estimators=10, oob_score=True;, score=(train=0.982, test=0.844) total time= 2.3min\n"
     ]
    },
    {
     "name": "stderr",
     "output_type": "stream",
     "text": [
      "/home/ducanh/.venv/lib/python3.10/site-packages/sklearn/ensemble/_forest.py:612: UserWarning: Some inputs do not have OOB scores. This probably means too few trees were used to compute any reliable OOB estimates.\n",
      "  warn(\n"
     ]
    },
    {
     "name": "stdout",
     "output_type": "stream",
     "text": [
      "[CV 8/10] END criterion=entropy, max_depth=20, min_samples_leaf=6, min_samples_split=4, n_estimators=10, oob_score=True;, score=(train=0.982, test=0.847) total time= 2.6min\n"
     ]
    },
    {
     "name": "stderr",
     "output_type": "stream",
     "text": [
      "/home/ducanh/.venv/lib/python3.10/site-packages/sklearn/ensemble/_forest.py:612: UserWarning: Some inputs do not have OOB scores. This probably means too few trees were used to compute any reliable OOB estimates.\n",
      "  warn(\n"
     ]
    },
    {
     "name": "stdout",
     "output_type": "stream",
     "text": [
      "[CV 7/10] END criterion=log_loss, max_depth=20, min_samples_leaf=8, min_samples_split=8, n_estimators=5, oob_score=True;, score=(train=0.977, test=0.848) total time= 1.5min\n"
     ]
    },
    {
     "name": "stderr",
     "output_type": "stream",
     "text": [
      "/home/ducanh/.venv/lib/python3.10/site-packages/sklearn/ensemble/_forest.py:612: UserWarning: Some inputs do not have OOB scores. This probably means too few trees were used to compute any reliable OOB estimates.\n",
      "  warn(\n"
     ]
    },
    {
     "name": "stdout",
     "output_type": "stream",
     "text": [
      "[CV 8/10] END criterion=log_loss, max_depth=20, min_samples_leaf=8, min_samples_split=8, n_estimators=5, oob_score=True;, score=(train=0.977, test=0.872) total time= 1.5min\n",
      "[CV 2/10] END criterion=gini, max_depth=2, min_samples_leaf=10, min_samples_split=4, n_estimators=20, oob_score=True;, score=(train=0.745, test=0.773) total time= 1.2min\n"
     ]
    },
    {
     "name": "stderr",
     "output_type": "stream",
     "text": [
      "/home/ducanh/.venv/lib/python3.10/site-packages/sklearn/ensemble/_forest.py:612: UserWarning: Some inputs do not have OOB scores. This probably means too few trees were used to compute any reliable OOB estimates.\n",
      "  warn(\n"
     ]
    },
    {
     "name": "stdout",
     "output_type": "stream",
     "text": [
      "[CV 4/10] END criterion=gini, max_depth=2, min_samples_leaf=10, min_samples_split=4, n_estimators=20, oob_score=True;, score=(train=0.784, test=0.782) total time= 1.2min\n"
     ]
    },
    {
     "name": "stderr",
     "output_type": "stream",
     "text": [
      "/home/ducanh/.venv/lib/python3.10/site-packages/sklearn/ensemble/_forest.py:612: UserWarning: Some inputs do not have OOB scores. This probably means too few trees were used to compute any reliable OOB estimates.\n",
      "  warn(\n",
      "/home/ducanh/.venv/lib/python3.10/site-packages/sklearn/ensemble/_forest.py:612: UserWarning: Some inputs do not have OOB scores. This probably means too few trees were used to compute any reliable OOB estimates.\n",
      "  warn(\n"
     ]
    },
    {
     "name": "stdout",
     "output_type": "stream",
     "text": [
      "[CV 3/10] END criterion=gini, max_depth=2, min_samples_leaf=10, min_samples_split=4, n_estimators=20, oob_score=True;, score=(train=0.815, test=0.821) total time= 1.4min\n",
      "[CV 1/10] END criterion=gini, max_depth=2, min_samples_leaf=10, min_samples_split=4, n_estimators=20, oob_score=True;, score=(train=0.758, test=0.782) total time= 1.7min\n"
     ]
    },
    {
     "name": "stderr",
     "output_type": "stream",
     "text": [
      "/home/ducanh/.venv/lib/python3.10/site-packages/sklearn/ensemble/_forest.py:612: UserWarning: Some inputs do not have OOB scores. This probably means too few trees were used to compute any reliable OOB estimates.\n",
      "  warn(\n"
     ]
    },
    {
     "name": "stdout",
     "output_type": "stream",
     "text": [
      "[CV 6/10] END criterion=gini, max_depth=2, min_samples_leaf=10, min_samples_split=4, n_estimators=20, oob_score=True;, score=(train=0.750, test=0.735) total time= 1.5min\n"
     ]
    },
    {
     "name": "stderr",
     "output_type": "stream",
     "text": [
      "/home/ducanh/.venv/lib/python3.10/site-packages/sklearn/ensemble/_forest.py:612: UserWarning: Some inputs do not have OOB scores. This probably means too few trees were used to compute any reliable OOB estimates.\n",
      "  warn(\n",
      "/home/ducanh/.venv/lib/python3.10/site-packages/sklearn/ensemble/_forest.py:612: UserWarning: Some inputs do not have OOB scores. This probably means too few trees were used to compute any reliable OOB estimates.\n",
      "  warn(\n",
      "/home/ducanh/.venv/lib/python3.10/site-packages/sklearn/ensemble/_forest.py:612: UserWarning: Some inputs do not have OOB scores. This probably means too few trees were used to compute any reliable OOB estimates.\n",
      "  warn(\n"
     ]
    },
    {
     "name": "stdout",
     "output_type": "stream",
     "text": [
      "[CV 7/10] END criterion=gini, max_depth=2, min_samples_leaf=10, min_samples_split=4, n_estimators=20, oob_score=True;, score=(train=0.856, test=0.841) total time= 1.5min\n",
      "[CV 8/10] END criterion=log_loss, max_depth=10, min_samples_leaf=6, min_samples_split=2, n_estimators=40, oob_score=True;, score=(train=0.969, test=0.929) total time= 6.5min\n",
      "[CV 5/10] END criterion=gini, max_depth=2, min_samples_leaf=10, min_samples_split=4, n_estimators=20, oob_score=True;, score=(train=0.749, test=0.735) total time= 1.9min\n"
     ]
    },
    {
     "name": "stderr",
     "output_type": "stream",
     "text": [
      "/home/ducanh/.venv/lib/python3.10/site-packages/sklearn/ensemble/_forest.py:612: UserWarning: Some inputs do not have OOB scores. This probably means too few trees were used to compute any reliable OOB estimates.\n",
      "  warn(\n"
     ]
    },
    {
     "name": "stdout",
     "output_type": "stream",
     "text": [
      "[CV 9/10] END criterion=gini, max_depth=2, min_samples_leaf=10, min_samples_split=4, n_estimators=20, oob_score=True;, score=(train=0.748, test=0.737) total time= 1.4min\n",
      "[CV 8/10] END criterion=gini, max_depth=2, min_samples_leaf=10, min_samples_split=4, n_estimators=20, oob_score=True;, score=(train=0.836, test=0.824) total time= 1.6min\n"
     ]
    },
    {
     "name": "stderr",
     "output_type": "stream",
     "text": [
      "/home/ducanh/.venv/lib/python3.10/site-packages/sklearn/ensemble/_forest.py:612: UserWarning: Some inputs do not have OOB scores. This probably means too few trees were used to compute any reliable OOB estimates.\n",
      "  warn(\n"
     ]
    },
    {
     "name": "stdout",
     "output_type": "stream",
     "text": [
      "[CV 10/10] END criterion=gini, max_depth=2, min_samples_leaf=10, min_samples_split=4, n_estimators=20, oob_score=True;, score=(train=0.856, test=0.879) total time= 1.7min\n",
      "[CV 4/10] END criterion=log_loss, max_depth=10, min_samples_leaf=6, min_samples_split=2, n_estimators=40, oob_score=True;, score=(train=0.969, test=0.947) total time= 7.0min\n",
      "[CV 9/10] END criterion=log_loss, max_depth=10, min_samples_leaf=6, min_samples_split=2, n_estimators=40, oob_score=True;, score=(train=0.971, test=0.935) total time= 7.1min\n",
      "[CV 7/10] END criterion=log_loss, max_depth=10, min_samples_leaf=6, min_samples_split=2, n_estimators=40, oob_score=True;, score=(train=0.971, test=0.944) total time= 7.3min\n",
      "[CV 3/10] END criterion=log_loss, max_depth=10, min_samples_leaf=6, min_samples_split=2, n_estimators=40, oob_score=True;, score=(train=0.967, test=0.935) total time= 7.3min\n",
      "[CV 2/10] END criterion=entropy, max_depth=20, min_samples_leaf=10, min_samples_split=2, n_estimators=40, oob_score=True;, score=(train=0.997, test=0.896) total time= 7.2min\n",
      "[CV 5/10] END criterion=log_loss, max_depth=10, min_samples_leaf=6, min_samples_split=2, n_estimators=40, oob_score=True;, score=(train=0.969, test=0.944) total time= 7.4min\n",
      "[CV 6/10] END criterion=log_loss, max_depth=10, min_samples_leaf=6, min_samples_split=2, n_estimators=40, oob_score=True;, score=(train=0.967, test=0.947) total time= 7.5min\n"
     ]
    },
    {
     "name": "stderr",
     "output_type": "stream",
     "text": [
      "/home/ducanh/.venv/lib/python3.10/site-packages/sklearn/ensemble/_forest.py:612: UserWarning: Some inputs do not have OOB scores. This probably means too few trees were used to compute any reliable OOB estimates.\n",
      "  warn(\n"
     ]
    },
    {
     "name": "stdout",
     "output_type": "stream",
     "text": [
      "[CV 10/10] END criterion=log_loss, max_depth=10, min_samples_leaf=6, min_samples_split=2, n_estimators=40, oob_score=True;, score=(train=0.967, test=0.951) total time= 7.6min\n",
      "[CV 2/10] END criterion=log_loss, max_depth=10, min_samples_leaf=6, min_samples_split=2, n_estimators=40, oob_score=True;, score=(train=0.968, test=0.960) total time= 7.7min\n",
      "[CV 7/10] END criterion=entropy, max_depth=20, min_samples_leaf=10, min_samples_split=2, n_estimators=40, oob_score=True;, score=(train=0.997, test=0.873) total time= 7.8min\n",
      "[CV 1/10] END criterion=entropy, max_depth=20, min_samples_leaf=10, min_samples_split=2, n_estimators=40, oob_score=True;, score=(train=0.998, test=0.883) total time= 7.9min\n",
      "[CV 6/10] END criterion=entropy, max_depth=20, min_samples_leaf=10, min_samples_split=2, n_estimators=40, oob_score=True;, score=(train=0.998, test=0.882) total time= 7.9min\n",
      "[CV 5/10] END criterion=entropy, max_depth=20, min_samples_leaf=10, min_samples_split=2, n_estimators=40, oob_score=True;, score=(train=0.997, test=0.873) total time= 8.6min\n",
      "[CV 3/10] END criterion=entropy, max_depth=20, min_samples_leaf=10, min_samples_split=2, n_estimators=40, oob_score=True;, score=(train=0.996, test=0.884) total time= 8.6min\n",
      "[CV 4/10] END criterion=entropy, max_depth=20, min_samples_leaf=10, min_samples_split=2, n_estimators=40, oob_score=True;, score=(train=0.996, test=0.872) total time= 8.7min\n",
      "[CV 9/10] END criterion=entropy, max_depth=20, min_samples_leaf=10, min_samples_split=2, n_estimators=40, oob_score=True;, score=(train=0.996, test=0.869) total time= 8.7min\n",
      "[CV 1/10] END criterion=log_loss, max_depth=10, min_samples_leaf=6, min_samples_split=2, n_estimators=40, oob_score=True;, score=(train=0.968, test=0.952) total time= 9.4min\n",
      "[CV 10/10] END criterion=entropy, max_depth=20, min_samples_leaf=10, min_samples_split=2, n_estimators=40, oob_score=True;, score=(train=0.997, test=0.881) total time= 9.2min\n",
      "[CV 8/10] END criterion=entropy, max_depth=20, min_samples_leaf=10, min_samples_split=2, n_estimators=40, oob_score=True;, score=(train=0.997, test=0.866) total time=10.1min\n",
      "[CV 10/10] END criterion=log_loss, max_depth=2, min_samples_leaf=2, min_samples_split=2, n_estimators=200, oob_score=True;, score=(train=0.746, test=0.776) total time=12.2min\n",
      "[CV 8/10] END criterion=log_loss, max_depth=2, min_samples_leaf=2, min_samples_split=2, n_estimators=200, oob_score=True;, score=(train=0.772, test=0.757) total time=12.7min\n",
      "[CV 9/10] END criterion=log_loss, max_depth=2, min_samples_leaf=2, min_samples_split=2, n_estimators=200, oob_score=True;, score=(train=0.774, test=0.757) total time=12.7min\n",
      "[CV 4/10] END criterion=log_loss, max_depth=2, min_samples_leaf=2, min_samples_split=2, n_estimators=200, oob_score=True;, score=(train=0.748, test=0.741) total time=13.3min\n",
      "[CV 6/10] END criterion=log_loss, max_depth=2, min_samples_leaf=2, min_samples_split=2, n_estimators=200, oob_score=True;, score=(train=0.752, test=0.737) total time=13.3min\n",
      "[CV 2/10] END criterion=log_loss, max_depth=2, min_samples_leaf=2, min_samples_split=2, n_estimators=200, oob_score=True;, score=(train=0.774, test=0.791) total time=13.7min\n",
      "[CV 3/10] END criterion=log_loss, max_depth=2, min_samples_leaf=2, min_samples_split=2, n_estimators=200, oob_score=True;, score=(train=0.746, test=0.753) total time=14.0min\n",
      "[CV 1/10] END criterion=log_loss, max_depth=2, min_samples_leaf=2, min_samples_split=2, n_estimators=200, oob_score=True;, score=(train=0.790, test=0.818) total time=14.1min\n",
      "[CV 5/10] END criterion=log_loss, max_depth=2, min_samples_leaf=2, min_samples_split=2, n_estimators=200, oob_score=True;, score=(train=0.754, test=0.738) total time=14.8min\n",
      "[CV 7/10] END criterion=log_loss, max_depth=2, min_samples_leaf=2, min_samples_split=2, n_estimators=200, oob_score=True;, score=(train=0.757, test=0.731) total time=15.0min\n",
      "[CV 4/10] END criterion=gini, max_depth=20, min_samples_leaf=4, min_samples_split=8, n_estimators=80, oob_score=True;, score=(train=1.000, test=0.837) total time=10.1min\n",
      "[CV 5/10] END criterion=gini, max_depth=20, min_samples_leaf=4, min_samples_split=8, n_estimators=80, oob_score=True;, score=(train=0.999, test=0.844) total time=10.1min\n",
      "[CV 6/10] END criterion=gini, max_depth=20, min_samples_leaf=4, min_samples_split=8, n_estimators=80, oob_score=True;, score=(train=0.999, test=0.861) total time=10.1min\n",
      "[CV 2/10] END criterion=gini, max_depth=20, min_samples_leaf=4, min_samples_split=8, n_estimators=80, oob_score=True;, score=(train=1.000, test=0.859) total time=10.6min\n",
      "[CV 9/10] END criterion=gini, max_depth=20, min_samples_leaf=4, min_samples_split=8, n_estimators=80, oob_score=True;, score=(train=0.999, test=0.850) total time= 9.9min\n",
      "[CV 10/10] END criterion=gini, max_depth=20, min_samples_leaf=4, min_samples_split=8, n_estimators=80, oob_score=True;, score=(train=0.999, test=0.855) total time= 9.5min\n",
      "[CV 7/10] END criterion=gini, max_depth=20, min_samples_leaf=4, min_samples_split=8, n_estimators=80, oob_score=True;, score=(train=0.999, test=0.844) total time=10.1min\n",
      "[CV 8/10] END criterion=gini, max_depth=20, min_samples_leaf=4, min_samples_split=8, n_estimators=80, oob_score=True;, score=(train=1.000, test=0.842) total time=10.2min\n",
      "[CV 5/10] END criterion=log_loss, max_depth=5, min_samples_leaf=4, min_samples_split=2, n_estimators=200, oob_score=True;, score=(train=0.923, test=0.927) total time=16.4min\n",
      "[CV 1/10] END criterion=gini, max_depth=20, min_samples_leaf=4, min_samples_split=8, n_estimators=80, oob_score=True;, score=(train=1.000, test=0.867) total time=11.2min\n",
      "[CV 3/10] END criterion=gini, max_depth=20, min_samples_leaf=4, min_samples_split=8, n_estimators=80, oob_score=True;, score=(train=0.999, test=0.862) total time=11.8min\n",
      "[CV 3/10] END criterion=log_loss, max_depth=5, min_samples_leaf=4, min_samples_split=2, n_estimators=200, oob_score=True;, score=(train=0.926, test=0.917) total time=17.6min\n",
      "[CV 6/10] END criterion=log_loss, max_depth=5, min_samples_leaf=4, min_samples_split=2, n_estimators=200, oob_score=True;, score=(train=0.926, test=0.920) total time=17.7min\n",
      "[CV 2/10] END criterion=log_loss, max_depth=5, min_samples_leaf=4, min_samples_split=2, n_estimators=200, oob_score=True;, score=(train=0.923, test=0.929) total time=17.8min\n",
      "[CV 10/10] END criterion=log_loss, max_depth=5, min_samples_leaf=4, min_samples_split=2, n_estimators=200, oob_score=True;, score=(train=0.926, test=0.935) total time=17.9min\n",
      "[CV 1/10] END criterion=log_loss, max_depth=5, min_samples_leaf=4, min_samples_split=2, n_estimators=200, oob_score=True;, score=(train=0.921, test=0.932) total time=18.1min\n",
      "[CV 9/10] END criterion=log_loss, max_depth=5, min_samples_leaf=4, min_samples_split=2, n_estimators=200, oob_score=True;, score=(train=0.927, test=0.918) total time=18.1min\n",
      "[CV 4/10] END criterion=log_loss, max_depth=5, min_samples_leaf=4, min_samples_split=2, n_estimators=200, oob_score=True;, score=(train=0.930, test=0.912) total time=18.3min\n",
      "[CV 7/10] END criterion=log_loss, max_depth=5, min_samples_leaf=4, min_samples_split=2, n_estimators=200, oob_score=True;, score=(train=0.924, test=0.918) total time=18.5min\n",
      "[CV 8/10] END criterion=log_loss, max_depth=5, min_samples_leaf=4, min_samples_split=2, n_estimators=200, oob_score=True;, score=(train=0.926, test=0.898) total time=18.5min\n",
      "[CV 2/10] END criterion=entropy, max_depth=10, min_samples_leaf=2, min_samples_split=8, n_estimators=200, oob_score=True;, score=(train=0.969, test=0.961) total time=19.3min\n",
      "[CV 4/10] END criterion=entropy, max_depth=10, min_samples_leaf=2, min_samples_split=8, n_estimators=200, oob_score=True;, score=(train=0.970, test=0.952) total time=19.3min\n",
      "[CV 5/10] END criterion=entropy, max_depth=10, min_samples_leaf=2, min_samples_split=8, n_estimators=200, oob_score=True;, score=(train=0.969, test=0.949) total time=19.4min\n",
      "[CV 1/10] END criterion=entropy, max_depth=10, min_samples_leaf=2, min_samples_split=8, n_estimators=200, oob_score=True;, score=(train=0.969, test=0.951) total time=19.5min\n",
      "[CV 3/10] END criterion=entropy, max_depth=10, min_samples_leaf=2, min_samples_split=8, n_estimators=200, oob_score=True;, score=(train=0.968, test=0.935) total time=19.6min\n",
      "[CV 9/10] END criterion=entropy, max_depth=10, min_samples_leaf=2, min_samples_split=8, n_estimators=200, oob_score=True;, score=(train=0.971, test=0.940) total time=19.7min\n",
      "[CV 8/10] END criterion=entropy, max_depth=10, min_samples_leaf=2, min_samples_split=8, n_estimators=200, oob_score=True;, score=(train=0.970, test=0.926) total time=19.8min\n",
      "[CV 10/10] END criterion=entropy, max_depth=10, min_samples_leaf=2, min_samples_split=8, n_estimators=200, oob_score=True;, score=(train=0.969, test=0.955) total time=20.0min\n",
      "[CV 6/10] END criterion=entropy, max_depth=10, min_samples_leaf=2, min_samples_split=8, n_estimators=200, oob_score=True;, score=(train=0.971, test=0.943) total time=20.0min\n",
      "[CV 7/10] END criterion=entropy, max_depth=10, min_samples_leaf=2, min_samples_split=8, n_estimators=200, oob_score=True;, score=(train=0.970, test=0.946) total time=20.0min\n"
     ]
    },
    {
     "data": {
      "text/html": [
       "<style>#sk-container-id-1 {\n",
       "  /* Definition of color scheme common for light and dark mode */\n",
       "  --sklearn-color-text: #000;\n",
       "  --sklearn-color-text-muted: #666;\n",
       "  --sklearn-color-line: gray;\n",
       "  /* Definition of color scheme for unfitted estimators */\n",
       "  --sklearn-color-unfitted-level-0: #fff5e6;\n",
       "  --sklearn-color-unfitted-level-1: #f6e4d2;\n",
       "  --sklearn-color-unfitted-level-2: #ffe0b3;\n",
       "  --sklearn-color-unfitted-level-3: chocolate;\n",
       "  /* Definition of color scheme for fitted estimators */\n",
       "  --sklearn-color-fitted-level-0: #f0f8ff;\n",
       "  --sklearn-color-fitted-level-1: #d4ebff;\n",
       "  --sklearn-color-fitted-level-2: #b3dbfd;\n",
       "  --sklearn-color-fitted-level-3: cornflowerblue;\n",
       "\n",
       "  /* Specific color for light theme */\n",
       "  --sklearn-color-text-on-default-background: var(--sg-text-color, var(--theme-code-foreground, var(--jp-content-font-color1, black)));\n",
       "  --sklearn-color-background: var(--sg-background-color, var(--theme-background, var(--jp-layout-color0, white)));\n",
       "  --sklearn-color-border-box: var(--sg-text-color, var(--theme-code-foreground, var(--jp-content-font-color1, black)));\n",
       "  --sklearn-color-icon: #696969;\n",
       "\n",
       "  @media (prefers-color-scheme: dark) {\n",
       "    /* Redefinition of color scheme for dark theme */\n",
       "    --sklearn-color-text-on-default-background: var(--sg-text-color, var(--theme-code-foreground, var(--jp-content-font-color1, white)));\n",
       "    --sklearn-color-background: var(--sg-background-color, var(--theme-background, var(--jp-layout-color0, #111)));\n",
       "    --sklearn-color-border-box: var(--sg-text-color, var(--theme-code-foreground, var(--jp-content-font-color1, white)));\n",
       "    --sklearn-color-icon: #878787;\n",
       "  }\n",
       "}\n",
       "\n",
       "#sk-container-id-1 {\n",
       "  color: var(--sklearn-color-text);\n",
       "}\n",
       "\n",
       "#sk-container-id-1 pre {\n",
       "  padding: 0;\n",
       "}\n",
       "\n",
       "#sk-container-id-1 input.sk-hidden--visually {\n",
       "  border: 0;\n",
       "  clip: rect(1px 1px 1px 1px);\n",
       "  clip: rect(1px, 1px, 1px, 1px);\n",
       "  height: 1px;\n",
       "  margin: -1px;\n",
       "  overflow: hidden;\n",
       "  padding: 0;\n",
       "  position: absolute;\n",
       "  width: 1px;\n",
       "}\n",
       "\n",
       "#sk-container-id-1 div.sk-dashed-wrapped {\n",
       "  border: 1px dashed var(--sklearn-color-line);\n",
       "  margin: 0 0.4em 0.5em 0.4em;\n",
       "  box-sizing: border-box;\n",
       "  padding-bottom: 0.4em;\n",
       "  background-color: var(--sklearn-color-background);\n",
       "}\n",
       "\n",
       "#sk-container-id-1 div.sk-container {\n",
       "  /* jupyter's `normalize.less` sets `[hidden] { display: none; }`\n",
       "     but bootstrap.min.css set `[hidden] { display: none !important; }`\n",
       "     so we also need the `!important` here to be able to override the\n",
       "     default hidden behavior on the sphinx rendered scikit-learn.org.\n",
       "     See: https://github.com/scikit-learn/scikit-learn/issues/21755 */\n",
       "  display: inline-block !important;\n",
       "  position: relative;\n",
       "}\n",
       "\n",
       "#sk-container-id-1 div.sk-text-repr-fallback {\n",
       "  display: none;\n",
       "}\n",
       "\n",
       "div.sk-parallel-item,\n",
       "div.sk-serial,\n",
       "div.sk-item {\n",
       "  /* draw centered vertical line to link estimators */\n",
       "  background-image: linear-gradient(var(--sklearn-color-text-on-default-background), var(--sklearn-color-text-on-default-background));\n",
       "  background-size: 2px 100%;\n",
       "  background-repeat: no-repeat;\n",
       "  background-position: center center;\n",
       "}\n",
       "\n",
       "/* Parallel-specific style estimator block */\n",
       "\n",
       "#sk-container-id-1 div.sk-parallel-item::after {\n",
       "  content: \"\";\n",
       "  width: 100%;\n",
       "  border-bottom: 2px solid var(--sklearn-color-text-on-default-background);\n",
       "  flex-grow: 1;\n",
       "}\n",
       "\n",
       "#sk-container-id-1 div.sk-parallel {\n",
       "  display: flex;\n",
       "  align-items: stretch;\n",
       "  justify-content: center;\n",
       "  background-color: var(--sklearn-color-background);\n",
       "  position: relative;\n",
       "}\n",
       "\n",
       "#sk-container-id-1 div.sk-parallel-item {\n",
       "  display: flex;\n",
       "  flex-direction: column;\n",
       "}\n",
       "\n",
       "#sk-container-id-1 div.sk-parallel-item:first-child::after {\n",
       "  align-self: flex-end;\n",
       "  width: 50%;\n",
       "}\n",
       "\n",
       "#sk-container-id-1 div.sk-parallel-item:last-child::after {\n",
       "  align-self: flex-start;\n",
       "  width: 50%;\n",
       "}\n",
       "\n",
       "#sk-container-id-1 div.sk-parallel-item:only-child::after {\n",
       "  width: 0;\n",
       "}\n",
       "\n",
       "/* Serial-specific style estimator block */\n",
       "\n",
       "#sk-container-id-1 div.sk-serial {\n",
       "  display: flex;\n",
       "  flex-direction: column;\n",
       "  align-items: center;\n",
       "  background-color: var(--sklearn-color-background);\n",
       "  padding-right: 1em;\n",
       "  padding-left: 1em;\n",
       "}\n",
       "\n",
       "\n",
       "/* Toggleable style: style used for estimator/Pipeline/ColumnTransformer box that is\n",
       "clickable and can be expanded/collapsed.\n",
       "- Pipeline and ColumnTransformer use this feature and define the default style\n",
       "- Estimators will overwrite some part of the style using the `sk-estimator` class\n",
       "*/\n",
       "\n",
       "/* Pipeline and ColumnTransformer style (default) */\n",
       "\n",
       "#sk-container-id-1 div.sk-toggleable {\n",
       "  /* Default theme specific background. It is overwritten whether we have a\n",
       "  specific estimator or a Pipeline/ColumnTransformer */\n",
       "  background-color: var(--sklearn-color-background);\n",
       "}\n",
       "\n",
       "/* Toggleable label */\n",
       "#sk-container-id-1 label.sk-toggleable__label {\n",
       "  cursor: pointer;\n",
       "  display: flex;\n",
       "  width: 100%;\n",
       "  margin-bottom: 0;\n",
       "  padding: 0.5em;\n",
       "  box-sizing: border-box;\n",
       "  text-align: center;\n",
       "  align-items: start;\n",
       "  justify-content: space-between;\n",
       "  gap: 0.5em;\n",
       "}\n",
       "\n",
       "#sk-container-id-1 label.sk-toggleable__label .caption {\n",
       "  font-size: 0.6rem;\n",
       "  font-weight: lighter;\n",
       "  color: var(--sklearn-color-text-muted);\n",
       "}\n",
       "\n",
       "#sk-container-id-1 label.sk-toggleable__label-arrow:before {\n",
       "  /* Arrow on the left of the label */\n",
       "  content: \"▸\";\n",
       "  float: left;\n",
       "  margin-right: 0.25em;\n",
       "  color: var(--sklearn-color-icon);\n",
       "}\n",
       "\n",
       "#sk-container-id-1 label.sk-toggleable__label-arrow:hover:before {\n",
       "  color: var(--sklearn-color-text);\n",
       "}\n",
       "\n",
       "/* Toggleable content - dropdown */\n",
       "\n",
       "#sk-container-id-1 div.sk-toggleable__content {\n",
       "  max-height: 0;\n",
       "  max-width: 0;\n",
       "  overflow: hidden;\n",
       "  text-align: left;\n",
       "  /* unfitted */\n",
       "  background-color: var(--sklearn-color-unfitted-level-0);\n",
       "}\n",
       "\n",
       "#sk-container-id-1 div.sk-toggleable__content.fitted {\n",
       "  /* fitted */\n",
       "  background-color: var(--sklearn-color-fitted-level-0);\n",
       "}\n",
       "\n",
       "#sk-container-id-1 div.sk-toggleable__content pre {\n",
       "  margin: 0.2em;\n",
       "  border-radius: 0.25em;\n",
       "  color: var(--sklearn-color-text);\n",
       "  /* unfitted */\n",
       "  background-color: var(--sklearn-color-unfitted-level-0);\n",
       "}\n",
       "\n",
       "#sk-container-id-1 div.sk-toggleable__content.fitted pre {\n",
       "  /* unfitted */\n",
       "  background-color: var(--sklearn-color-fitted-level-0);\n",
       "}\n",
       "\n",
       "#sk-container-id-1 input.sk-toggleable__control:checked~div.sk-toggleable__content {\n",
       "  /* Expand drop-down */\n",
       "  max-height: 200px;\n",
       "  max-width: 100%;\n",
       "  overflow: auto;\n",
       "}\n",
       "\n",
       "#sk-container-id-1 input.sk-toggleable__control:checked~label.sk-toggleable__label-arrow:before {\n",
       "  content: \"▾\";\n",
       "}\n",
       "\n",
       "/* Pipeline/ColumnTransformer-specific style */\n",
       "\n",
       "#sk-container-id-1 div.sk-label input.sk-toggleable__control:checked~label.sk-toggleable__label {\n",
       "  color: var(--sklearn-color-text);\n",
       "  background-color: var(--sklearn-color-unfitted-level-2);\n",
       "}\n",
       "\n",
       "#sk-container-id-1 div.sk-label.fitted input.sk-toggleable__control:checked~label.sk-toggleable__label {\n",
       "  background-color: var(--sklearn-color-fitted-level-2);\n",
       "}\n",
       "\n",
       "/* Estimator-specific style */\n",
       "\n",
       "/* Colorize estimator box */\n",
       "#sk-container-id-1 div.sk-estimator input.sk-toggleable__control:checked~label.sk-toggleable__label {\n",
       "  /* unfitted */\n",
       "  background-color: var(--sklearn-color-unfitted-level-2);\n",
       "}\n",
       "\n",
       "#sk-container-id-1 div.sk-estimator.fitted input.sk-toggleable__control:checked~label.sk-toggleable__label {\n",
       "  /* fitted */\n",
       "  background-color: var(--sklearn-color-fitted-level-2);\n",
       "}\n",
       "\n",
       "#sk-container-id-1 div.sk-label label.sk-toggleable__label,\n",
       "#sk-container-id-1 div.sk-label label {\n",
       "  /* The background is the default theme color */\n",
       "  color: var(--sklearn-color-text-on-default-background);\n",
       "}\n",
       "\n",
       "/* On hover, darken the color of the background */\n",
       "#sk-container-id-1 div.sk-label:hover label.sk-toggleable__label {\n",
       "  color: var(--sklearn-color-text);\n",
       "  background-color: var(--sklearn-color-unfitted-level-2);\n",
       "}\n",
       "\n",
       "/* Label box, darken color on hover, fitted */\n",
       "#sk-container-id-1 div.sk-label.fitted:hover label.sk-toggleable__label.fitted {\n",
       "  color: var(--sklearn-color-text);\n",
       "  background-color: var(--sklearn-color-fitted-level-2);\n",
       "}\n",
       "\n",
       "/* Estimator label */\n",
       "\n",
       "#sk-container-id-1 div.sk-label label {\n",
       "  font-family: monospace;\n",
       "  font-weight: bold;\n",
       "  display: inline-block;\n",
       "  line-height: 1.2em;\n",
       "}\n",
       "\n",
       "#sk-container-id-1 div.sk-label-container {\n",
       "  text-align: center;\n",
       "}\n",
       "\n",
       "/* Estimator-specific */\n",
       "#sk-container-id-1 div.sk-estimator {\n",
       "  font-family: monospace;\n",
       "  border: 1px dotted var(--sklearn-color-border-box);\n",
       "  border-radius: 0.25em;\n",
       "  box-sizing: border-box;\n",
       "  margin-bottom: 0.5em;\n",
       "  /* unfitted */\n",
       "  background-color: var(--sklearn-color-unfitted-level-0);\n",
       "}\n",
       "\n",
       "#sk-container-id-1 div.sk-estimator.fitted {\n",
       "  /* fitted */\n",
       "  background-color: var(--sklearn-color-fitted-level-0);\n",
       "}\n",
       "\n",
       "/* on hover */\n",
       "#sk-container-id-1 div.sk-estimator:hover {\n",
       "  /* unfitted */\n",
       "  background-color: var(--sklearn-color-unfitted-level-2);\n",
       "}\n",
       "\n",
       "#sk-container-id-1 div.sk-estimator.fitted:hover {\n",
       "  /* fitted */\n",
       "  background-color: var(--sklearn-color-fitted-level-2);\n",
       "}\n",
       "\n",
       "/* Specification for estimator info (e.g. \"i\" and \"?\") */\n",
       "\n",
       "/* Common style for \"i\" and \"?\" */\n",
       "\n",
       ".sk-estimator-doc-link,\n",
       "a:link.sk-estimator-doc-link,\n",
       "a:visited.sk-estimator-doc-link {\n",
       "  float: right;\n",
       "  font-size: smaller;\n",
       "  line-height: 1em;\n",
       "  font-family: monospace;\n",
       "  background-color: var(--sklearn-color-background);\n",
       "  border-radius: 1em;\n",
       "  height: 1em;\n",
       "  width: 1em;\n",
       "  text-decoration: none !important;\n",
       "  margin-left: 0.5em;\n",
       "  text-align: center;\n",
       "  /* unfitted */\n",
       "  border: var(--sklearn-color-unfitted-level-1) 1pt solid;\n",
       "  color: var(--sklearn-color-unfitted-level-1);\n",
       "}\n",
       "\n",
       ".sk-estimator-doc-link.fitted,\n",
       "a:link.sk-estimator-doc-link.fitted,\n",
       "a:visited.sk-estimator-doc-link.fitted {\n",
       "  /* fitted */\n",
       "  border: var(--sklearn-color-fitted-level-1) 1pt solid;\n",
       "  color: var(--sklearn-color-fitted-level-1);\n",
       "}\n",
       "\n",
       "/* On hover */\n",
       "div.sk-estimator:hover .sk-estimator-doc-link:hover,\n",
       ".sk-estimator-doc-link:hover,\n",
       "div.sk-label-container:hover .sk-estimator-doc-link:hover,\n",
       ".sk-estimator-doc-link:hover {\n",
       "  /* unfitted */\n",
       "  background-color: var(--sklearn-color-unfitted-level-3);\n",
       "  color: var(--sklearn-color-background);\n",
       "  text-decoration: none;\n",
       "}\n",
       "\n",
       "div.sk-estimator.fitted:hover .sk-estimator-doc-link.fitted:hover,\n",
       ".sk-estimator-doc-link.fitted:hover,\n",
       "div.sk-label-container:hover .sk-estimator-doc-link.fitted:hover,\n",
       ".sk-estimator-doc-link.fitted:hover {\n",
       "  /* fitted */\n",
       "  background-color: var(--sklearn-color-fitted-level-3);\n",
       "  color: var(--sklearn-color-background);\n",
       "  text-decoration: none;\n",
       "}\n",
       "\n",
       "/* Span, style for the box shown on hovering the info icon */\n",
       ".sk-estimator-doc-link span {\n",
       "  display: none;\n",
       "  z-index: 9999;\n",
       "  position: relative;\n",
       "  font-weight: normal;\n",
       "  right: .2ex;\n",
       "  padding: .5ex;\n",
       "  margin: .5ex;\n",
       "  width: min-content;\n",
       "  min-width: 20ex;\n",
       "  max-width: 50ex;\n",
       "  color: var(--sklearn-color-text);\n",
       "  box-shadow: 2pt 2pt 4pt #999;\n",
       "  /* unfitted */\n",
       "  background: var(--sklearn-color-unfitted-level-0);\n",
       "  border: .5pt solid var(--sklearn-color-unfitted-level-3);\n",
       "}\n",
       "\n",
       ".sk-estimator-doc-link.fitted span {\n",
       "  /* fitted */\n",
       "  background: var(--sklearn-color-fitted-level-0);\n",
       "  border: var(--sklearn-color-fitted-level-3);\n",
       "}\n",
       "\n",
       ".sk-estimator-doc-link:hover span {\n",
       "  display: block;\n",
       "}\n",
       "\n",
       "/* \"?\"-specific style due to the `<a>` HTML tag */\n",
       "\n",
       "#sk-container-id-1 a.estimator_doc_link {\n",
       "  float: right;\n",
       "  font-size: 1rem;\n",
       "  line-height: 1em;\n",
       "  font-family: monospace;\n",
       "  background-color: var(--sklearn-color-background);\n",
       "  border-radius: 1rem;\n",
       "  height: 1rem;\n",
       "  width: 1rem;\n",
       "  text-decoration: none;\n",
       "  /* unfitted */\n",
       "  color: var(--sklearn-color-unfitted-level-1);\n",
       "  border: var(--sklearn-color-unfitted-level-1) 1pt solid;\n",
       "}\n",
       "\n",
       "#sk-container-id-1 a.estimator_doc_link.fitted {\n",
       "  /* fitted */\n",
       "  border: var(--sklearn-color-fitted-level-1) 1pt solid;\n",
       "  color: var(--sklearn-color-fitted-level-1);\n",
       "}\n",
       "\n",
       "/* On hover */\n",
       "#sk-container-id-1 a.estimator_doc_link:hover {\n",
       "  /* unfitted */\n",
       "  background-color: var(--sklearn-color-unfitted-level-3);\n",
       "  color: var(--sklearn-color-background);\n",
       "  text-decoration: none;\n",
       "}\n",
       "\n",
       "#sk-container-id-1 a.estimator_doc_link.fitted:hover {\n",
       "  /* fitted */\n",
       "  background-color: var(--sklearn-color-fitted-level-3);\n",
       "}\n",
       "</style><div id=\"sk-container-id-1\" class=\"sk-top-container\"><div class=\"sk-text-repr-fallback\"><pre>RandomizedSearchCV(cv=10,\n",
       "                   estimator=RandomForestClassifier(class_weight=&#x27;balanced&#x27;),\n",
       "                   n_jobs=-1,\n",
       "                   param_distributions={&#x27;criterion&#x27;: [&#x27;gini&#x27;, &#x27;entropy&#x27;,\n",
       "                                                      &#x27;log_loss&#x27;],\n",
       "                                        &#x27;max_depth&#x27;: [2, 5, 10, 20],\n",
       "                                        &#x27;min_samples_leaf&#x27;: [2, 4, 6, 8, 10],\n",
       "                                        &#x27;min_samples_split&#x27;: [2, 4, 8, 12],\n",
       "                                        &#x27;n_estimators&#x27;: [5, 10, 20, 40, 80, 100,\n",
       "                                                         200],\n",
       "                                        &#x27;oob_score&#x27;: [True]},\n",
       "                   random_state=42, return_train_score=True, scoring=&#x27;recall&#x27;,\n",
       "                   verbose=5)</pre><b>In a Jupyter environment, please rerun this cell to show the HTML representation or trust the notebook. <br />On GitHub, the HTML representation is unable to render, please try loading this page with nbviewer.org.</b></div><div class=\"sk-container\" hidden><div class=\"sk-item sk-dashed-wrapped\"><div class=\"sk-label-container\"><div class=\"sk-label fitted sk-toggleable\"><input class=\"sk-toggleable__control sk-hidden--visually\" id=\"sk-estimator-id-1\" type=\"checkbox\" ><label for=\"sk-estimator-id-1\" class=\"sk-toggleable__label fitted sk-toggleable__label-arrow\"><div><div>RandomizedSearchCV</div></div><div><a class=\"sk-estimator-doc-link fitted\" rel=\"noreferrer\" target=\"_blank\" href=\"https://scikit-learn.org/1.6/modules/generated/sklearn.model_selection.RandomizedSearchCV.html\">?<span>Documentation for RandomizedSearchCV</span></a><span class=\"sk-estimator-doc-link fitted\">i<span>Fitted</span></span></div></label><div class=\"sk-toggleable__content fitted\"><pre>RandomizedSearchCV(cv=10,\n",
       "                   estimator=RandomForestClassifier(class_weight=&#x27;balanced&#x27;),\n",
       "                   n_jobs=-1,\n",
       "                   param_distributions={&#x27;criterion&#x27;: [&#x27;gini&#x27;, &#x27;entropy&#x27;,\n",
       "                                                      &#x27;log_loss&#x27;],\n",
       "                                        &#x27;max_depth&#x27;: [2, 5, 10, 20],\n",
       "                                        &#x27;min_samples_leaf&#x27;: [2, 4, 6, 8, 10],\n",
       "                                        &#x27;min_samples_split&#x27;: [2, 4, 8, 12],\n",
       "                                        &#x27;n_estimators&#x27;: [5, 10, 20, 40, 80, 100,\n",
       "                                                         200],\n",
       "                                        &#x27;oob_score&#x27;: [True]},\n",
       "                   random_state=42, return_train_score=True, scoring=&#x27;recall&#x27;,\n",
       "                   verbose=5)</pre></div> </div></div><div class=\"sk-parallel\"><div class=\"sk-parallel-item\"><div class=\"sk-item\"><div class=\"sk-label-container\"><div class=\"sk-label fitted sk-toggleable\"><input class=\"sk-toggleable__control sk-hidden--visually\" id=\"sk-estimator-id-2\" type=\"checkbox\" ><label for=\"sk-estimator-id-2\" class=\"sk-toggleable__label fitted sk-toggleable__label-arrow\"><div><div>best_estimator_: RandomForestClassifier</div></div></label><div class=\"sk-toggleable__content fitted\"><pre>RandomForestClassifier(class_weight=&#x27;balanced&#x27;, criterion=&#x27;entropy&#x27;,\n",
       "                       max_depth=10, min_samples_leaf=2, min_samples_split=8,\n",
       "                       n_estimators=200, oob_score=True)</pre></div> </div></div><div class=\"sk-serial\"><div class=\"sk-item\"><div class=\"sk-estimator fitted sk-toggleable\"><input class=\"sk-toggleable__control sk-hidden--visually\" id=\"sk-estimator-id-3\" type=\"checkbox\" ><label for=\"sk-estimator-id-3\" class=\"sk-toggleable__label fitted sk-toggleable__label-arrow\"><div><div>RandomForestClassifier</div></div><div><a class=\"sk-estimator-doc-link fitted\" rel=\"noreferrer\" target=\"_blank\" href=\"https://scikit-learn.org/1.6/modules/generated/sklearn.ensemble.RandomForestClassifier.html\">?<span>Documentation for RandomForestClassifier</span></a></div></label><div class=\"sk-toggleable__content fitted\"><pre>RandomForestClassifier(class_weight=&#x27;balanced&#x27;, criterion=&#x27;entropy&#x27;,\n",
       "                       max_depth=10, min_samples_leaf=2, min_samples_split=8,\n",
       "                       n_estimators=200, oob_score=True)</pre></div> </div></div></div></div></div></div></div></div></div>"
      ],
      "text/plain": [
       "RandomizedSearchCV(cv=10,\n",
       "                   estimator=RandomForestClassifier(class_weight='balanced'),\n",
       "                   n_jobs=-1,\n",
       "                   param_distributions={'criterion': ['gini', 'entropy',\n",
       "                                                      'log_loss'],\n",
       "                                        'max_depth': [2, 5, 10, 20],\n",
       "                                        'min_samples_leaf': [2, 4, 6, 8, 10],\n",
       "                                        'min_samples_split': [2, 4, 8, 12],\n",
       "                                        'n_estimators': [5, 10, 20, 40, 80, 100,\n",
       "                                                         200],\n",
       "                                        'oob_score': [True]},\n",
       "                   random_state=42, return_train_score=True, scoring='recall',\n",
       "                   verbose=5)"
      ]
     },
     "execution_count": 152,
     "metadata": {},
     "output_type": "execute_result"
    }
   ],
   "source": [
    "# importing randomized search cv to do hyperparameter tuning\n",
    "from sklearn.model_selection import RandomizedSearchCV\n",
    "\n",
    "rf = RandomForestClassifier(class_weight = 'balanced')\n",
    "params = {'n_estimators':[5,10,20,40,80,100,200],\n",
    "          'criterion':['gini','entropy','log_loss'],\n",
    "          'max_depth':[2,5,10,20],\n",
    "          'min_samples_split':[2,4,8,12],\n",
    "          'min_samples_leaf':[2,4,6,8,10],\n",
    "          'oob_score': [True]}\n",
    "\n",
    "\n",
    "#randomized search cv\n",
    "rcv = RandomizedSearchCV(estimator = rf, param_distributions = params, n_iter = 10, scoring = 'recall', cv = 10, verbose=5, \n",
    "                                random_state=42, n_jobs=-1, return_train_score=True)\n",
    "rcv.fit(X_train,y_train)"
   ]
  },
  {
   "cell_type": "code",
   "execution_count": 153,
   "id": "7386d954",
   "metadata": {},
   "outputs": [
    {
     "data": {
      "text/html": [
       "<style>#sk-container-id-2 {\n",
       "  /* Definition of color scheme common for light and dark mode */\n",
       "  --sklearn-color-text: #000;\n",
       "  --sklearn-color-text-muted: #666;\n",
       "  --sklearn-color-line: gray;\n",
       "  /* Definition of color scheme for unfitted estimators */\n",
       "  --sklearn-color-unfitted-level-0: #fff5e6;\n",
       "  --sklearn-color-unfitted-level-1: #f6e4d2;\n",
       "  --sklearn-color-unfitted-level-2: #ffe0b3;\n",
       "  --sklearn-color-unfitted-level-3: chocolate;\n",
       "  /* Definition of color scheme for fitted estimators */\n",
       "  --sklearn-color-fitted-level-0: #f0f8ff;\n",
       "  --sklearn-color-fitted-level-1: #d4ebff;\n",
       "  --sklearn-color-fitted-level-2: #b3dbfd;\n",
       "  --sklearn-color-fitted-level-3: cornflowerblue;\n",
       "\n",
       "  /* Specific color for light theme */\n",
       "  --sklearn-color-text-on-default-background: var(--sg-text-color, var(--theme-code-foreground, var(--jp-content-font-color1, black)));\n",
       "  --sklearn-color-background: var(--sg-background-color, var(--theme-background, var(--jp-layout-color0, white)));\n",
       "  --sklearn-color-border-box: var(--sg-text-color, var(--theme-code-foreground, var(--jp-content-font-color1, black)));\n",
       "  --sklearn-color-icon: #696969;\n",
       "\n",
       "  @media (prefers-color-scheme: dark) {\n",
       "    /* Redefinition of color scheme for dark theme */\n",
       "    --sklearn-color-text-on-default-background: var(--sg-text-color, var(--theme-code-foreground, var(--jp-content-font-color1, white)));\n",
       "    --sklearn-color-background: var(--sg-background-color, var(--theme-background, var(--jp-layout-color0, #111)));\n",
       "    --sklearn-color-border-box: var(--sg-text-color, var(--theme-code-foreground, var(--jp-content-font-color1, white)));\n",
       "    --sklearn-color-icon: #878787;\n",
       "  }\n",
       "}\n",
       "\n",
       "#sk-container-id-2 {\n",
       "  color: var(--sklearn-color-text);\n",
       "}\n",
       "\n",
       "#sk-container-id-2 pre {\n",
       "  padding: 0;\n",
       "}\n",
       "\n",
       "#sk-container-id-2 input.sk-hidden--visually {\n",
       "  border: 0;\n",
       "  clip: rect(1px 1px 1px 1px);\n",
       "  clip: rect(1px, 1px, 1px, 1px);\n",
       "  height: 1px;\n",
       "  margin: -1px;\n",
       "  overflow: hidden;\n",
       "  padding: 0;\n",
       "  position: absolute;\n",
       "  width: 1px;\n",
       "}\n",
       "\n",
       "#sk-container-id-2 div.sk-dashed-wrapped {\n",
       "  border: 1px dashed var(--sklearn-color-line);\n",
       "  margin: 0 0.4em 0.5em 0.4em;\n",
       "  box-sizing: border-box;\n",
       "  padding-bottom: 0.4em;\n",
       "  background-color: var(--sklearn-color-background);\n",
       "}\n",
       "\n",
       "#sk-container-id-2 div.sk-container {\n",
       "  /* jupyter's `normalize.less` sets `[hidden] { display: none; }`\n",
       "     but bootstrap.min.css set `[hidden] { display: none !important; }`\n",
       "     so we also need the `!important` here to be able to override the\n",
       "     default hidden behavior on the sphinx rendered scikit-learn.org.\n",
       "     See: https://github.com/scikit-learn/scikit-learn/issues/21755 */\n",
       "  display: inline-block !important;\n",
       "  position: relative;\n",
       "}\n",
       "\n",
       "#sk-container-id-2 div.sk-text-repr-fallback {\n",
       "  display: none;\n",
       "}\n",
       "\n",
       "div.sk-parallel-item,\n",
       "div.sk-serial,\n",
       "div.sk-item {\n",
       "  /* draw centered vertical line to link estimators */\n",
       "  background-image: linear-gradient(var(--sklearn-color-text-on-default-background), var(--sklearn-color-text-on-default-background));\n",
       "  background-size: 2px 100%;\n",
       "  background-repeat: no-repeat;\n",
       "  background-position: center center;\n",
       "}\n",
       "\n",
       "/* Parallel-specific style estimator block */\n",
       "\n",
       "#sk-container-id-2 div.sk-parallel-item::after {\n",
       "  content: \"\";\n",
       "  width: 100%;\n",
       "  border-bottom: 2px solid var(--sklearn-color-text-on-default-background);\n",
       "  flex-grow: 1;\n",
       "}\n",
       "\n",
       "#sk-container-id-2 div.sk-parallel {\n",
       "  display: flex;\n",
       "  align-items: stretch;\n",
       "  justify-content: center;\n",
       "  background-color: var(--sklearn-color-background);\n",
       "  position: relative;\n",
       "}\n",
       "\n",
       "#sk-container-id-2 div.sk-parallel-item {\n",
       "  display: flex;\n",
       "  flex-direction: column;\n",
       "}\n",
       "\n",
       "#sk-container-id-2 div.sk-parallel-item:first-child::after {\n",
       "  align-self: flex-end;\n",
       "  width: 50%;\n",
       "}\n",
       "\n",
       "#sk-container-id-2 div.sk-parallel-item:last-child::after {\n",
       "  align-self: flex-start;\n",
       "  width: 50%;\n",
       "}\n",
       "\n",
       "#sk-container-id-2 div.sk-parallel-item:only-child::after {\n",
       "  width: 0;\n",
       "}\n",
       "\n",
       "/* Serial-specific style estimator block */\n",
       "\n",
       "#sk-container-id-2 div.sk-serial {\n",
       "  display: flex;\n",
       "  flex-direction: column;\n",
       "  align-items: center;\n",
       "  background-color: var(--sklearn-color-background);\n",
       "  padding-right: 1em;\n",
       "  padding-left: 1em;\n",
       "}\n",
       "\n",
       "\n",
       "/* Toggleable style: style used for estimator/Pipeline/ColumnTransformer box that is\n",
       "clickable and can be expanded/collapsed.\n",
       "- Pipeline and ColumnTransformer use this feature and define the default style\n",
       "- Estimators will overwrite some part of the style using the `sk-estimator` class\n",
       "*/\n",
       "\n",
       "/* Pipeline and ColumnTransformer style (default) */\n",
       "\n",
       "#sk-container-id-2 div.sk-toggleable {\n",
       "  /* Default theme specific background. It is overwritten whether we have a\n",
       "  specific estimator or a Pipeline/ColumnTransformer */\n",
       "  background-color: var(--sklearn-color-background);\n",
       "}\n",
       "\n",
       "/* Toggleable label */\n",
       "#sk-container-id-2 label.sk-toggleable__label {\n",
       "  cursor: pointer;\n",
       "  display: flex;\n",
       "  width: 100%;\n",
       "  margin-bottom: 0;\n",
       "  padding: 0.5em;\n",
       "  box-sizing: border-box;\n",
       "  text-align: center;\n",
       "  align-items: start;\n",
       "  justify-content: space-between;\n",
       "  gap: 0.5em;\n",
       "}\n",
       "\n",
       "#sk-container-id-2 label.sk-toggleable__label .caption {\n",
       "  font-size: 0.6rem;\n",
       "  font-weight: lighter;\n",
       "  color: var(--sklearn-color-text-muted);\n",
       "}\n",
       "\n",
       "#sk-container-id-2 label.sk-toggleable__label-arrow:before {\n",
       "  /* Arrow on the left of the label */\n",
       "  content: \"▸\";\n",
       "  float: left;\n",
       "  margin-right: 0.25em;\n",
       "  color: var(--sklearn-color-icon);\n",
       "}\n",
       "\n",
       "#sk-container-id-2 label.sk-toggleable__label-arrow:hover:before {\n",
       "  color: var(--sklearn-color-text);\n",
       "}\n",
       "\n",
       "/* Toggleable content - dropdown */\n",
       "\n",
       "#sk-container-id-2 div.sk-toggleable__content {\n",
       "  max-height: 0;\n",
       "  max-width: 0;\n",
       "  overflow: hidden;\n",
       "  text-align: left;\n",
       "  /* unfitted */\n",
       "  background-color: var(--sklearn-color-unfitted-level-0);\n",
       "}\n",
       "\n",
       "#sk-container-id-2 div.sk-toggleable__content.fitted {\n",
       "  /* fitted */\n",
       "  background-color: var(--sklearn-color-fitted-level-0);\n",
       "}\n",
       "\n",
       "#sk-container-id-2 div.sk-toggleable__content pre {\n",
       "  margin: 0.2em;\n",
       "  border-radius: 0.25em;\n",
       "  color: var(--sklearn-color-text);\n",
       "  /* unfitted */\n",
       "  background-color: var(--sklearn-color-unfitted-level-0);\n",
       "}\n",
       "\n",
       "#sk-container-id-2 div.sk-toggleable__content.fitted pre {\n",
       "  /* unfitted */\n",
       "  background-color: var(--sklearn-color-fitted-level-0);\n",
       "}\n",
       "\n",
       "#sk-container-id-2 input.sk-toggleable__control:checked~div.sk-toggleable__content {\n",
       "  /* Expand drop-down */\n",
       "  max-height: 200px;\n",
       "  max-width: 100%;\n",
       "  overflow: auto;\n",
       "}\n",
       "\n",
       "#sk-container-id-2 input.sk-toggleable__control:checked~label.sk-toggleable__label-arrow:before {\n",
       "  content: \"▾\";\n",
       "}\n",
       "\n",
       "/* Pipeline/ColumnTransformer-specific style */\n",
       "\n",
       "#sk-container-id-2 div.sk-label input.sk-toggleable__control:checked~label.sk-toggleable__label {\n",
       "  color: var(--sklearn-color-text);\n",
       "  background-color: var(--sklearn-color-unfitted-level-2);\n",
       "}\n",
       "\n",
       "#sk-container-id-2 div.sk-label.fitted input.sk-toggleable__control:checked~label.sk-toggleable__label {\n",
       "  background-color: var(--sklearn-color-fitted-level-2);\n",
       "}\n",
       "\n",
       "/* Estimator-specific style */\n",
       "\n",
       "/* Colorize estimator box */\n",
       "#sk-container-id-2 div.sk-estimator input.sk-toggleable__control:checked~label.sk-toggleable__label {\n",
       "  /* unfitted */\n",
       "  background-color: var(--sklearn-color-unfitted-level-2);\n",
       "}\n",
       "\n",
       "#sk-container-id-2 div.sk-estimator.fitted input.sk-toggleable__control:checked~label.sk-toggleable__label {\n",
       "  /* fitted */\n",
       "  background-color: var(--sklearn-color-fitted-level-2);\n",
       "}\n",
       "\n",
       "#sk-container-id-2 div.sk-label label.sk-toggleable__label,\n",
       "#sk-container-id-2 div.sk-label label {\n",
       "  /* The background is the default theme color */\n",
       "  color: var(--sklearn-color-text-on-default-background);\n",
       "}\n",
       "\n",
       "/* On hover, darken the color of the background */\n",
       "#sk-container-id-2 div.sk-label:hover label.sk-toggleable__label {\n",
       "  color: var(--sklearn-color-text);\n",
       "  background-color: var(--sklearn-color-unfitted-level-2);\n",
       "}\n",
       "\n",
       "/* Label box, darken color on hover, fitted */\n",
       "#sk-container-id-2 div.sk-label.fitted:hover label.sk-toggleable__label.fitted {\n",
       "  color: var(--sklearn-color-text);\n",
       "  background-color: var(--sklearn-color-fitted-level-2);\n",
       "}\n",
       "\n",
       "/* Estimator label */\n",
       "\n",
       "#sk-container-id-2 div.sk-label label {\n",
       "  font-family: monospace;\n",
       "  font-weight: bold;\n",
       "  display: inline-block;\n",
       "  line-height: 1.2em;\n",
       "}\n",
       "\n",
       "#sk-container-id-2 div.sk-label-container {\n",
       "  text-align: center;\n",
       "}\n",
       "\n",
       "/* Estimator-specific */\n",
       "#sk-container-id-2 div.sk-estimator {\n",
       "  font-family: monospace;\n",
       "  border: 1px dotted var(--sklearn-color-border-box);\n",
       "  border-radius: 0.25em;\n",
       "  box-sizing: border-box;\n",
       "  margin-bottom: 0.5em;\n",
       "  /* unfitted */\n",
       "  background-color: var(--sklearn-color-unfitted-level-0);\n",
       "}\n",
       "\n",
       "#sk-container-id-2 div.sk-estimator.fitted {\n",
       "  /* fitted */\n",
       "  background-color: var(--sklearn-color-fitted-level-0);\n",
       "}\n",
       "\n",
       "/* on hover */\n",
       "#sk-container-id-2 div.sk-estimator:hover {\n",
       "  /* unfitted */\n",
       "  background-color: var(--sklearn-color-unfitted-level-2);\n",
       "}\n",
       "\n",
       "#sk-container-id-2 div.sk-estimator.fitted:hover {\n",
       "  /* fitted */\n",
       "  background-color: var(--sklearn-color-fitted-level-2);\n",
       "}\n",
       "\n",
       "/* Specification for estimator info (e.g. \"i\" and \"?\") */\n",
       "\n",
       "/* Common style for \"i\" and \"?\" */\n",
       "\n",
       ".sk-estimator-doc-link,\n",
       "a:link.sk-estimator-doc-link,\n",
       "a:visited.sk-estimator-doc-link {\n",
       "  float: right;\n",
       "  font-size: smaller;\n",
       "  line-height: 1em;\n",
       "  font-family: monospace;\n",
       "  background-color: var(--sklearn-color-background);\n",
       "  border-radius: 1em;\n",
       "  height: 1em;\n",
       "  width: 1em;\n",
       "  text-decoration: none !important;\n",
       "  margin-left: 0.5em;\n",
       "  text-align: center;\n",
       "  /* unfitted */\n",
       "  border: var(--sklearn-color-unfitted-level-1) 1pt solid;\n",
       "  color: var(--sklearn-color-unfitted-level-1);\n",
       "}\n",
       "\n",
       ".sk-estimator-doc-link.fitted,\n",
       "a:link.sk-estimator-doc-link.fitted,\n",
       "a:visited.sk-estimator-doc-link.fitted {\n",
       "  /* fitted */\n",
       "  border: var(--sklearn-color-fitted-level-1) 1pt solid;\n",
       "  color: var(--sklearn-color-fitted-level-1);\n",
       "}\n",
       "\n",
       "/* On hover */\n",
       "div.sk-estimator:hover .sk-estimator-doc-link:hover,\n",
       ".sk-estimator-doc-link:hover,\n",
       "div.sk-label-container:hover .sk-estimator-doc-link:hover,\n",
       ".sk-estimator-doc-link:hover {\n",
       "  /* unfitted */\n",
       "  background-color: var(--sklearn-color-unfitted-level-3);\n",
       "  color: var(--sklearn-color-background);\n",
       "  text-decoration: none;\n",
       "}\n",
       "\n",
       "div.sk-estimator.fitted:hover .sk-estimator-doc-link.fitted:hover,\n",
       ".sk-estimator-doc-link.fitted:hover,\n",
       "div.sk-label-container:hover .sk-estimator-doc-link.fitted:hover,\n",
       ".sk-estimator-doc-link.fitted:hover {\n",
       "  /* fitted */\n",
       "  background-color: var(--sklearn-color-fitted-level-3);\n",
       "  color: var(--sklearn-color-background);\n",
       "  text-decoration: none;\n",
       "}\n",
       "\n",
       "/* Span, style for the box shown on hovering the info icon */\n",
       ".sk-estimator-doc-link span {\n",
       "  display: none;\n",
       "  z-index: 9999;\n",
       "  position: relative;\n",
       "  font-weight: normal;\n",
       "  right: .2ex;\n",
       "  padding: .5ex;\n",
       "  margin: .5ex;\n",
       "  width: min-content;\n",
       "  min-width: 20ex;\n",
       "  max-width: 50ex;\n",
       "  color: var(--sklearn-color-text);\n",
       "  box-shadow: 2pt 2pt 4pt #999;\n",
       "  /* unfitted */\n",
       "  background: var(--sklearn-color-unfitted-level-0);\n",
       "  border: .5pt solid var(--sklearn-color-unfitted-level-3);\n",
       "}\n",
       "\n",
       ".sk-estimator-doc-link.fitted span {\n",
       "  /* fitted */\n",
       "  background: var(--sklearn-color-fitted-level-0);\n",
       "  border: var(--sklearn-color-fitted-level-3);\n",
       "}\n",
       "\n",
       ".sk-estimator-doc-link:hover span {\n",
       "  display: block;\n",
       "}\n",
       "\n",
       "/* \"?\"-specific style due to the `<a>` HTML tag */\n",
       "\n",
       "#sk-container-id-2 a.estimator_doc_link {\n",
       "  float: right;\n",
       "  font-size: 1rem;\n",
       "  line-height: 1em;\n",
       "  font-family: monospace;\n",
       "  background-color: var(--sklearn-color-background);\n",
       "  border-radius: 1rem;\n",
       "  height: 1rem;\n",
       "  width: 1rem;\n",
       "  text-decoration: none;\n",
       "  /* unfitted */\n",
       "  color: var(--sklearn-color-unfitted-level-1);\n",
       "  border: var(--sklearn-color-unfitted-level-1) 1pt solid;\n",
       "}\n",
       "\n",
       "#sk-container-id-2 a.estimator_doc_link.fitted {\n",
       "  /* fitted */\n",
       "  border: var(--sklearn-color-fitted-level-1) 1pt solid;\n",
       "  color: var(--sklearn-color-fitted-level-1);\n",
       "}\n",
       "\n",
       "/* On hover */\n",
       "#sk-container-id-2 a.estimator_doc_link:hover {\n",
       "  /* unfitted */\n",
       "  background-color: var(--sklearn-color-unfitted-level-3);\n",
       "  color: var(--sklearn-color-background);\n",
       "  text-decoration: none;\n",
       "}\n",
       "\n",
       "#sk-container-id-2 a.estimator_doc_link.fitted:hover {\n",
       "  /* fitted */\n",
       "  background-color: var(--sklearn-color-fitted-level-3);\n",
       "}\n",
       "</style><div id=\"sk-container-id-2\" class=\"sk-top-container\"><div class=\"sk-text-repr-fallback\"><pre>RandomForestClassifier(class_weight=&#x27;balanced&#x27;, criterion=&#x27;entropy&#x27;,\n",
       "                       max_depth=10, min_samples_leaf=2, min_samples_split=8,\n",
       "                       n_estimators=200, oob_score=True)</pre><b>In a Jupyter environment, please rerun this cell to show the HTML representation or trust the notebook. <br />On GitHub, the HTML representation is unable to render, please try loading this page with nbviewer.org.</b></div><div class=\"sk-container\" hidden><div class=\"sk-item\"><div class=\"sk-estimator fitted sk-toggleable\"><input class=\"sk-toggleable__control sk-hidden--visually\" id=\"sk-estimator-id-4\" type=\"checkbox\" checked><label for=\"sk-estimator-id-4\" class=\"sk-toggleable__label fitted sk-toggleable__label-arrow\"><div><div>RandomForestClassifier</div></div><div><a class=\"sk-estimator-doc-link fitted\" rel=\"noreferrer\" target=\"_blank\" href=\"https://scikit-learn.org/1.6/modules/generated/sklearn.ensemble.RandomForestClassifier.html\">?<span>Documentation for RandomForestClassifier</span></a><span class=\"sk-estimator-doc-link fitted\">i<span>Fitted</span></span></div></label><div class=\"sk-toggleable__content fitted\"><pre>RandomForestClassifier(class_weight=&#x27;balanced&#x27;, criterion=&#x27;entropy&#x27;,\n",
       "                       max_depth=10, min_samples_leaf=2, min_samples_split=8,\n",
       "                       n_estimators=200, oob_score=True)</pre></div> </div></div></div></div>"
      ],
      "text/plain": [
       "RandomForestClassifier(class_weight='balanced', criterion='entropy',\n",
       "                       max_depth=10, min_samples_leaf=2, min_samples_split=8,\n",
       "                       n_estimators=200, oob_score=True)"
      ]
     },
     "execution_count": 153,
     "metadata": {},
     "output_type": "execute_result"
    }
   ],
   "source": [
    "# best estimator\n",
    "rcv.best_estimator_\n",
    "# best score\n",
    "rcv.best_score_\n",
    "# let's re build random forest model\n",
    "rf = rcv.best_estimator_\n",
    "\n",
    "# fitting on train data\n",
    "rf.fit(X_train,y_train)"
   ]
  },
  {
   "cell_type": "code",
   "execution_count": 154,
   "id": "af4f3e5e",
   "metadata": {},
   "outputs": [
    {
     "name": "stdout",
     "output_type": "stream",
     "text": [
      "Training data: [[1213681   20956]\n",
      " [    194    6272]]\n",
      "\n",
      "Testing data: [[597738  10368]\n",
      " [   158   3027]]\n",
      "Recall score of the model on train data: 0.9699969068976183\n",
      "Recall score of the model on test data: 0.950392464678179\n"
     ]
    }
   ],
   "source": [
    "# predictions on train data\n",
    "y_train_pred_rf = rf.predict(X_train)\n",
    "\n",
    "# predictions on test data\n",
    "y_test_pred_rf = rf.predict(X_test)\n",
    "# check confusion matrix on both train and test data\n",
    "## TN FP\n",
    "## FN TP\n",
    "cm_train = confusion_matrix(y_train,y_train_pred_rf)\n",
    "cm_test = confusion_matrix(y_test,y_test_pred_rf)\n",
    "print('Training data:',cm_train)\n",
    "print()\n",
    "print('Testing data:', cm_test)\n",
    "# check recall scores on train data\n",
    "print(f'Recall score of the model on train data: {cm_train[1][1]/(cm_train[1][1]+cm_train[1][0])}')\n",
    "# check recall scores on test data\n",
    "print(f'Recall score of the model on test data: {cm_test[1][1]/(cm_test[1][1]+cm_test[1][0])}')"
   ]
  },
  {
   "cell_type": "code",
   "execution_count": 155,
   "id": "0de31ab3",
   "metadata": {},
   "outputs": [
    {
     "data": {
      "text/html": [
       "<div>\n",
       "<style scoped>\n",
       "    .dataframe tbody tr th:only-of-type {\n",
       "        vertical-align: middle;\n",
       "    }\n",
       "\n",
       "    .dataframe tbody tr th {\n",
       "        vertical-align: top;\n",
       "    }\n",
       "\n",
       "    .dataframe thead th {\n",
       "        text-align: right;\n",
       "    }\n",
       "</style>\n",
       "<table border=\"1\" class=\"dataframe\">\n",
       "  <thead>\n",
       "    <tr style=\"text-align: right;\">\n",
       "      <th></th>\n",
       "      <th>feature_importance_%</th>\n",
       "    </tr>\n",
       "  </thead>\n",
       "  <tbody>\n",
       "    <tr>\n",
       "      <th>level_0</th>\n",
       "      <td>1.949404</td>\n",
       "    </tr>\n",
       "    <tr>\n",
       "      <th>category</th>\n",
       "      <td>14.958298</td>\n",
       "    </tr>\n",
       "    <tr>\n",
       "      <th>amt</th>\n",
       "      <td>60.960018</td>\n",
       "    </tr>\n",
       "    <tr>\n",
       "      <th>zip</th>\n",
       "      <td>0.784635</td>\n",
       "    </tr>\n",
       "    <tr>\n",
       "      <th>job</th>\n",
       "      <td>1.576844</td>\n",
       "    </tr>\n",
       "    <tr>\n",
       "      <th>cust_age_groups</th>\n",
       "      <td>1.369310</td>\n",
       "    </tr>\n",
       "    <tr>\n",
       "      <th>trans_hour</th>\n",
       "      <td>17.745537</td>\n",
       "    </tr>\n",
       "    <tr>\n",
       "      <th>gender_M</th>\n",
       "      <td>0.655954</td>\n",
       "    </tr>\n",
       "  </tbody>\n",
       "</table>\n",
       "</div>"
      ],
      "text/plain": [
       "                 feature_importance_%\n",
       "level_0                      1.949404\n",
       "category                    14.958298\n",
       "amt                         60.960018\n",
       "zip                          0.784635\n",
       "job                          1.576844\n",
       "cust_age_groups              1.369310\n",
       "trans_hour                  17.745537\n",
       "gender_M                     0.655954"
      ]
     },
     "execution_count": 155,
     "metadata": {},
     "output_type": "execute_result"
    }
   ],
   "source": [
    "# feature importances\n",
    "feature_imp_rf = pd.DataFrame(index = X_train.columns, data = rf.feature_importances_*100, columns = ['feature_importance_%'])\n",
    "\n",
    "# check\n",
    "feature_imp_rf"
   ]
  },
  {
   "cell_type": "code",
   "execution_count": 156,
   "id": "0db2d525",
   "metadata": {},
   "outputs": [
    {
     "data": {
      "image/png": "[encoded data removed]",
      "text/plain": [
       "<Figure size 640x480 with 1 Axes>"
      ]
     },
     "metadata": {},
     "output_type": "display_data"
    }
   ],
   "source": [
    "plt.title('Feature importances by Random Forest Classifier')\n",
    "plt.pie(x = feature_imp_rf['feature_importance_%'], labels = feature_imp_rf.index, rotatelabels = True)\n",
    "plt.show()"
   ]
  },
  {
   "cell_type": "markdown",
   "id": "b94c4bbb",
   "metadata": {},
   "source": [
    "`Inferences:` As per the random forest model, the top 3 significant features are `Transaction_amount`, `Transaction_hour` and `Merchant category`. "
   ]
  },
  {
   "cell_type": "code",
   "execution_count": 157,
   "id": "acdff9f8",
   "metadata": {},
   "outputs": [],
   "source": [
    "# let's drop the remaining features which are redundant and re train the model\n",
    "X_train_final = X_train[['amt','trans_hour','category']]\n",
    "X_test_final = X_test[['amt','trans_hour','category']]\n"
   ]
  },
  {
   "cell_type": "code",
   "execution_count": 158,
   "id": "694be80c",
   "metadata": {},
   "outputs": [
    {
     "data": {
      "text/html": [
       "<style>#sk-container-id-3 {\n",
       "  /* Definition of color scheme common for light and dark mode */\n",
       "  --sklearn-color-text: #000;\n",
       "  --sklearn-color-text-muted: #666;\n",
       "  --sklearn-color-line: gray;\n",
       "  /* Definition of color scheme for unfitted estimators */\n",
       "  --sklearn-color-unfitted-level-0: #fff5e6;\n",
       "  --sklearn-color-unfitted-level-1: #f6e4d2;\n",
       "  --sklearn-color-unfitted-level-2: #ffe0b3;\n",
       "  --sklearn-color-unfitted-level-3: chocolate;\n",
       "  /* Definition of color scheme for fitted estimators */\n",
       "  --sklearn-color-fitted-level-0: #f0f8ff;\n",
       "  --sklearn-color-fitted-level-1: #d4ebff;\n",
       "  --sklearn-color-fitted-level-2: #b3dbfd;\n",
       "  --sklearn-color-fitted-level-3: cornflowerblue;\n",
       "\n",
       "  /* Specific color for light theme */\n",
       "  --sklearn-color-text-on-default-background: var(--sg-text-color, var(--theme-code-foreground, var(--jp-content-font-color1, black)));\n",
       "  --sklearn-color-background: var(--sg-background-color, var(--theme-background, var(--jp-layout-color0, white)));\n",
       "  --sklearn-color-border-box: var(--sg-text-color, var(--theme-code-foreground, var(--jp-content-font-color1, black)));\n",
       "  --sklearn-color-icon: #696969;\n",
       "\n",
       "  @media (prefers-color-scheme: dark) {\n",
       "    /* Redefinition of color scheme for dark theme */\n",
       "    --sklearn-color-text-on-default-background: var(--sg-text-color, var(--theme-code-foreground, var(--jp-content-font-color1, white)));\n",
       "    --sklearn-color-background: var(--sg-background-color, var(--theme-background, var(--jp-layout-color0, #111)));\n",
       "    --sklearn-color-border-box: var(--sg-text-color, var(--theme-code-foreground, var(--jp-content-font-color1, white)));\n",
       "    --sklearn-color-icon: #878787;\n",
       "  }\n",
       "}\n",
       "\n",
       "#sk-container-id-3 {\n",
       "  color: var(--sklearn-color-text);\n",
       "}\n",
       "\n",
       "#sk-container-id-3 pre {\n",
       "  padding: 0;\n",
       "}\n",
       "\n",
       "#sk-container-id-3 input.sk-hidden--visually {\n",
       "  border: 0;\n",
       "  clip: rect(1px 1px 1px 1px);\n",
       "  clip: rect(1px, 1px, 1px, 1px);\n",
       "  height: 1px;\n",
       "  margin: -1px;\n",
       "  overflow: hidden;\n",
       "  padding: 0;\n",
       "  position: absolute;\n",
       "  width: 1px;\n",
       "}\n",
       "\n",
       "#sk-container-id-3 div.sk-dashed-wrapped {\n",
       "  border: 1px dashed var(--sklearn-color-line);\n",
       "  margin: 0 0.4em 0.5em 0.4em;\n",
       "  box-sizing: border-box;\n",
       "  padding-bottom: 0.4em;\n",
       "  background-color: var(--sklearn-color-background);\n",
       "}\n",
       "\n",
       "#sk-container-id-3 div.sk-container {\n",
       "  /* jupyter's `normalize.less` sets `[hidden] { display: none; }`\n",
       "     but bootstrap.min.css set `[hidden] { display: none !important; }`\n",
       "     so we also need the `!important` here to be able to override the\n",
       "     default hidden behavior on the sphinx rendered scikit-learn.org.\n",
       "     See: https://github.com/scikit-learn/scikit-learn/issues/21755 */\n",
       "  display: inline-block !important;\n",
       "  position: relative;\n",
       "}\n",
       "\n",
       "#sk-container-id-3 div.sk-text-repr-fallback {\n",
       "  display: none;\n",
       "}\n",
       "\n",
       "div.sk-parallel-item,\n",
       "div.sk-serial,\n",
       "div.sk-item {\n",
       "  /* draw centered vertical line to link estimators */\n",
       "  background-image: linear-gradient(var(--sklearn-color-text-on-default-background), var(--sklearn-color-text-on-default-background));\n",
       "  background-size: 2px 100%;\n",
       "  background-repeat: no-repeat;\n",
       "  background-position: center center;\n",
       "}\n",
       "\n",
       "/* Parallel-specific style estimator block */\n",
       "\n",
       "#sk-container-id-3 div.sk-parallel-item::after {\n",
       "  content: \"\";\n",
       "  width: 100%;\n",
       "  border-bottom: 2px solid var(--sklearn-color-text-on-default-background);\n",
       "  flex-grow: 1;\n",
       "}\n",
       "\n",
       "#sk-container-id-3 div.sk-parallel {\n",
       "  display: flex;\n",
       "  align-items: stretch;\n",
       "  justify-content: center;\n",
       "  background-color: var(--sklearn-color-background);\n",
       "  position: relative;\n",
       "}\n",
       "\n",
       "#sk-container-id-3 div.sk-parallel-item {\n",
       "  display: flex;\n",
       "  flex-direction: column;\n",
       "}\n",
       "\n",
       "#sk-container-id-3 div.sk-parallel-item:first-child::after {\n",
       "  align-self: flex-end;\n",
       "  width: 50%;\n",
       "}\n",
       "\n",
       "#sk-container-id-3 div.sk-parallel-item:last-child::after {\n",
       "  align-self: flex-start;\n",
       "  width: 50%;\n",
       "}\n",
       "\n",
       "#sk-container-id-3 div.sk-parallel-item:only-child::after {\n",
       "  width: 0;\n",
       "}\n",
       "\n",
       "/* Serial-specific style estimator block */\n",
       "\n",
       "#sk-container-id-3 div.sk-serial {\n",
       "  display: flex;\n",
       "  flex-direction: column;\n",
       "  align-items: center;\n",
       "  background-color: var(--sklearn-color-background);\n",
       "  padding-right: 1em;\n",
       "  padding-left: 1em;\n",
       "}\n",
       "\n",
       "\n",
       "/* Toggleable style: style used for estimator/Pipeline/ColumnTransformer box that is\n",
       "clickable and can be expanded/collapsed.\n",
       "- Pipeline and ColumnTransformer use this feature and define the default style\n",
       "- Estimators will overwrite some part of the style using the `sk-estimator` class\n",
       "*/\n",
       "\n",
       "/* Pipeline and ColumnTransformer style (default) */\n",
       "\n",
       "#sk-container-id-3 div.sk-toggleable {\n",
       "  /* Default theme specific background. It is overwritten whether we have a\n",
       "  specific estimator or a Pipeline/ColumnTransformer */\n",
       "  background-color: var(--sklearn-color-background);\n",
       "}\n",
       "\n",
       "/* Toggleable label */\n",
       "#sk-container-id-3 label.sk-toggleable__label {\n",
       "  cursor: pointer;\n",
       "  display: flex;\n",
       "  width: 100%;\n",
       "  margin-bottom: 0;\n",
       "  padding: 0.5em;\n",
       "  box-sizing: border-box;\n",
       "  text-align: center;\n",
       "  align-items: start;\n",
       "  justify-content: space-between;\n",
       "  gap: 0.5em;\n",
       "}\n",
       "\n",
       "#sk-container-id-3 label.sk-toggleable__label .caption {\n",
       "  font-size: 0.6rem;\n",
       "  font-weight: lighter;\n",
       "  color: var(--sklearn-color-text-muted);\n",
       "}\n",
       "\n",
       "#sk-container-id-3 label.sk-toggleable__label-arrow:before {\n",
       "  /* Arrow on the left of the label */\n",
       "  content: \"▸\";\n",
       "  float: left;\n",
       "  margin-right: 0.25em;\n",
       "  color: var(--sklearn-color-icon);\n",
       "}\n",
       "\n",
       "#sk-container-id-3 label.sk-toggleable__label-arrow:hover:before {\n",
       "  color: var(--sklearn-color-text);\n",
       "}\n",
       "\n",
       "/* Toggleable content - dropdown */\n",
       "\n",
       "#sk-container-id-3 div.sk-toggleable__content {\n",
       "  max-height: 0;\n",
       "  max-width: 0;\n",
       "  overflow: hidden;\n",
       "  text-align: left;\n",
       "  /* unfitted */\n",
       "  background-color: var(--sklearn-color-unfitted-level-0);\n",
       "}\n",
       "\n",
       "#sk-container-id-3 div.sk-toggleable__content.fitted {\n",
       "  /* fitted */\n",
       "  background-color: var(--sklearn-color-fitted-level-0);\n",
       "}\n",
       "\n",
       "#sk-container-id-3 div.sk-toggleable__content pre {\n",
       "  margin: 0.2em;\n",
       "  border-radius: 0.25em;\n",
       "  color: var(--sklearn-color-text);\n",
       "  /* unfitted */\n",
       "  background-color: var(--sklearn-color-unfitted-level-0);\n",
       "}\n",
       "\n",
       "#sk-container-id-3 div.sk-toggleable__content.fitted pre {\n",
       "  /* unfitted */\n",
       "  background-color: var(--sklearn-color-fitted-level-0);\n",
       "}\n",
       "\n",
       "#sk-container-id-3 input.sk-toggleable__control:checked~div.sk-toggleable__content {\n",
       "  /* Expand drop-down */\n",
       "  max-height: 200px;\n",
       "  max-width: 100%;\n",
       "  overflow: auto;\n",
       "}\n",
       "\n",
       "#sk-container-id-3 input.sk-toggleable__control:checked~label.sk-toggleable__label-arrow:before {\n",
       "  content: \"▾\";\n",
       "}\n",
       "\n",
       "/* Pipeline/ColumnTransformer-specific style */\n",
       "\n",
       "#sk-container-id-3 div.sk-label input.sk-toggleable__control:checked~label.sk-toggleable__label {\n",
       "  color: var(--sklearn-color-text);\n",
       "  background-color: var(--sklearn-color-unfitted-level-2);\n",
       "}\n",
       "\n",
       "#sk-container-id-3 div.sk-label.fitted input.sk-toggleable__control:checked~label.sk-toggleable__label {\n",
       "  background-color: var(--sklearn-color-fitted-level-2);\n",
       "}\n",
       "\n",
       "/* Estimator-specific style */\n",
       "\n",
       "/* Colorize estimator box */\n",
       "#sk-container-id-3 div.sk-estimator input.sk-toggleable__control:checked~label.sk-toggleable__label {\n",
       "  /* unfitted */\n",
       "  background-color: var(--sklearn-color-unfitted-level-2);\n",
       "}\n",
       "\n",
       "#sk-container-id-3 div.sk-estimator.fitted input.sk-toggleable__control:checked~label.sk-toggleable__label {\n",
       "  /* fitted */\n",
       "  background-color: var(--sklearn-color-fitted-level-2);\n",
       "}\n",
       "\n",
       "#sk-container-id-3 div.sk-label label.sk-toggleable__label,\n",
       "#sk-container-id-3 div.sk-label label {\n",
       "  /* The background is the default theme color */\n",
       "  color: var(--sklearn-color-text-on-default-background);\n",
       "}\n",
       "\n",
       "/* On hover, darken the color of the background */\n",
       "#sk-container-id-3 div.sk-label:hover label.sk-toggleable__label {\n",
       "  color: var(--sklearn-color-text);\n",
       "  background-color: var(--sklearn-color-unfitted-level-2);\n",
       "}\n",
       "\n",
       "/* Label box, darken color on hover, fitted */\n",
       "#sk-container-id-3 div.sk-label.fitted:hover label.sk-toggleable__label.fitted {\n",
       "  color: var(--sklearn-color-text);\n",
       "  background-color: var(--sklearn-color-fitted-level-2);\n",
       "}\n",
       "\n",
       "/* Estimator label */\n",
       "\n",
       "#sk-container-id-3 div.sk-label label {\n",
       "  font-family: monospace;\n",
       "  font-weight: bold;\n",
       "  display: inline-block;\n",
       "  line-height: 1.2em;\n",
       "}\n",
       "\n",
       "#sk-container-id-3 div.sk-label-container {\n",
       "  text-align: center;\n",
       "}\n",
       "\n",
       "/* Estimator-specific */\n",
       "#sk-container-id-3 div.sk-estimator {\n",
       "  font-family: monospace;\n",
       "  border: 1px dotted var(--sklearn-color-border-box);\n",
       "  border-radius: 0.25em;\n",
       "  box-sizing: border-box;\n",
       "  margin-bottom: 0.5em;\n",
       "  /* unfitted */\n",
       "  background-color: var(--sklearn-color-unfitted-level-0);\n",
       "}\n",
       "\n",
       "#sk-container-id-3 div.sk-estimator.fitted {\n",
       "  /* fitted */\n",
       "  background-color: var(--sklearn-color-fitted-level-0);\n",
       "}\n",
       "\n",
       "/* on hover */\n",
       "#sk-container-id-3 div.sk-estimator:hover {\n",
       "  /* unfitted */\n",
       "  background-color: var(--sklearn-color-unfitted-level-2);\n",
       "}\n",
       "\n",
       "#sk-container-id-3 div.sk-estimator.fitted:hover {\n",
       "  /* fitted */\n",
       "  background-color: var(--sklearn-color-fitted-level-2);\n",
       "}\n",
       "\n",
       "/* Specification for estimator info (e.g. \"i\" and \"?\") */\n",
       "\n",
       "/* Common style for \"i\" and \"?\" */\n",
       "\n",
       ".sk-estimator-doc-link,\n",
       "a:link.sk-estimator-doc-link,\n",
       "a:visited.sk-estimator-doc-link {\n",
       "  float: right;\n",
       "  font-size: smaller;\n",
       "  line-height: 1em;\n",
       "  font-family: monospace;\n",
       "  background-color: var(--sklearn-color-background);\n",
       "  border-radius: 1em;\n",
       "  height: 1em;\n",
       "  width: 1em;\n",
       "  text-decoration: none !important;\n",
       "  margin-left: 0.5em;\n",
       "  text-align: center;\n",
       "  /* unfitted */\n",
       "  border: var(--sklearn-color-unfitted-level-1) 1pt solid;\n",
       "  color: var(--sklearn-color-unfitted-level-1);\n",
       "}\n",
       "\n",
       ".sk-estimator-doc-link.fitted,\n",
       "a:link.sk-estimator-doc-link.fitted,\n",
       "a:visited.sk-estimator-doc-link.fitted {\n",
       "  /* fitted */\n",
       "  border: var(--sklearn-color-fitted-level-1) 1pt solid;\n",
       "  color: var(--sklearn-color-fitted-level-1);\n",
       "}\n",
       "\n",
       "/* On hover */\n",
       "div.sk-estimator:hover .sk-estimator-doc-link:hover,\n",
       ".sk-estimator-doc-link:hover,\n",
       "div.sk-label-container:hover .sk-estimator-doc-link:hover,\n",
       ".sk-estimator-doc-link:hover {\n",
       "  /* unfitted */\n",
       "  background-color: var(--sklearn-color-unfitted-level-3);\n",
       "  color: var(--sklearn-color-background);\n",
       "  text-decoration: none;\n",
       "}\n",
       "\n",
       "div.sk-estimator.fitted:hover .sk-estimator-doc-link.fitted:hover,\n",
       ".sk-estimator-doc-link.fitted:hover,\n",
       "div.sk-label-container:hover .sk-estimator-doc-link.fitted:hover,\n",
       ".sk-estimator-doc-link.fitted:hover {\n",
       "  /* fitted */\n",
       "  background-color: var(--sklearn-color-fitted-level-3);\n",
       "  color: var(--sklearn-color-background);\n",
       "  text-decoration: none;\n",
       "}\n",
       "\n",
       "/* Span, style for the box shown on hovering the info icon */\n",
       ".sk-estimator-doc-link span {\n",
       "  display: none;\n",
       "  z-index: 9999;\n",
       "  position: relative;\n",
       "  font-weight: normal;\n",
       "  right: .2ex;\n",
       "  padding: .5ex;\n",
       "  margin: .5ex;\n",
       "  width: min-content;\n",
       "  min-width: 20ex;\n",
       "  max-width: 50ex;\n",
       "  color: var(--sklearn-color-text);\n",
       "  box-shadow: 2pt 2pt 4pt #999;\n",
       "  /* unfitted */\n",
       "  background: var(--sklearn-color-unfitted-level-0);\n",
       "  border: .5pt solid var(--sklearn-color-unfitted-level-3);\n",
       "}\n",
       "\n",
       ".sk-estimator-doc-link.fitted span {\n",
       "  /* fitted */\n",
       "  background: var(--sklearn-color-fitted-level-0);\n",
       "  border: var(--sklearn-color-fitted-level-3);\n",
       "}\n",
       "\n",
       ".sk-estimator-doc-link:hover span {\n",
       "  display: block;\n",
       "}\n",
       "\n",
       "/* \"?\"-specific style due to the `<a>` HTML tag */\n",
       "\n",
       "#sk-container-id-3 a.estimator_doc_link {\n",
       "  float: right;\n",
       "  font-size: 1rem;\n",
       "  line-height: 1em;\n",
       "  font-family: monospace;\n",
       "  background-color: var(--sklearn-color-background);\n",
       "  border-radius: 1rem;\n",
       "  height: 1rem;\n",
       "  width: 1rem;\n",
       "  text-decoration: none;\n",
       "  /* unfitted */\n",
       "  color: var(--sklearn-color-unfitted-level-1);\n",
       "  border: var(--sklearn-color-unfitted-level-1) 1pt solid;\n",
       "}\n",
       "\n",
       "#sk-container-id-3 a.estimator_doc_link.fitted {\n",
       "  /* fitted */\n",
       "  border: var(--sklearn-color-fitted-level-1) 1pt solid;\n",
       "  color: var(--sklearn-color-fitted-level-1);\n",
       "}\n",
       "\n",
       "/* On hover */\n",
       "#sk-container-id-3 a.estimator_doc_link:hover {\n",
       "  /* unfitted */\n",
       "  background-color: var(--sklearn-color-unfitted-level-3);\n",
       "  color: var(--sklearn-color-background);\n",
       "  text-decoration: none;\n",
       "}\n",
       "\n",
       "#sk-container-id-3 a.estimator_doc_link.fitted:hover {\n",
       "  /* fitted */\n",
       "  background-color: var(--sklearn-color-fitted-level-3);\n",
       "}\n",
       "</style><div id=\"sk-container-id-3\" class=\"sk-top-container\"><div class=\"sk-text-repr-fallback\"><pre>RandomForestClassifier(class_weight=&#x27;balanced&#x27;, criterion=&#x27;entropy&#x27;,\n",
       "                       max_depth=10, min_samples_leaf=2, min_samples_split=8,\n",
       "                       n_estimators=200, oob_score=True)</pre><b>In a Jupyter environment, please rerun this cell to show the HTML representation or trust the notebook. <br />On GitHub, the HTML representation is unable to render, please try loading this page with nbviewer.org.</b></div><div class=\"sk-container\" hidden><div class=\"sk-item\"><div class=\"sk-estimator fitted sk-toggleable\"><input class=\"sk-toggleable__control sk-hidden--visually\" id=\"sk-estimator-id-5\" type=\"checkbox\" checked><label for=\"sk-estimator-id-5\" class=\"sk-toggleable__label fitted sk-toggleable__label-arrow\"><div><div>RandomForestClassifier</div></div><div><a class=\"sk-estimator-doc-link fitted\" rel=\"noreferrer\" target=\"_blank\" href=\"https://scikit-learn.org/1.6/modules/generated/sklearn.ensemble.RandomForestClassifier.html\">?<span>Documentation for RandomForestClassifier</span></a><span class=\"sk-estimator-doc-link fitted\">i<span>Fitted</span></span></div></label><div class=\"sk-toggleable__content fitted\"><pre>RandomForestClassifier(class_weight=&#x27;balanced&#x27;, criterion=&#x27;entropy&#x27;,\n",
       "                       max_depth=10, min_samples_leaf=2, min_samples_split=8,\n",
       "                       n_estimators=200, oob_score=True)</pre></div> </div></div></div></div>"
      ],
      "text/plain": [
       "RandomForestClassifier(class_weight='balanced', criterion='entropy',\n",
       "                       max_depth=10, min_samples_leaf=2, min_samples_split=8,\n",
       "                       n_estimators=200, oob_score=True)"
      ]
     },
     "execution_count": 158,
     "metadata": {},
     "output_type": "execute_result"
    }
   ],
   "source": [
    "# initializing random forest model\n",
    "rf = rcv.best_estimator_\n",
    "\n",
    "# fitting\n",
    "rf.fit(X_train_final,y_train)"
   ]
  },
  {
   "cell_type": "code",
   "execution_count": 159,
   "id": "b9c1c09d",
   "metadata": {},
   "outputs": [
    {
     "name": "stdout",
     "output_type": "stream",
     "text": [
      "Training data: [[1217569   17068]\n",
      " [    175    6291]]\n",
      "\n",
      "Recall score of the model on train data: 0.9729353541602227\n",
      "Recall score of the model on test data: 0.9525902668759811\n"
     ]
    }
   ],
   "source": [
    "# predictions on train data\n",
    "y_train_pred_rf = rf.predict(X_train_final)\n",
    "\n",
    "# predictions on test data\n",
    "y_test_pred_rf = rf.predict(X_test_final)\n",
    "# check confusion matrix on both train and test data\n",
    "## TN FP\n",
    "## FN TP\n",
    "cm_train = confusion_matrix(y_train,y_train_pred_rf)\n",
    "cm_test = confusion_matrix(y_test,y_test_pred_rf)\n",
    "print('Training data:',cm_train)\n",
    "print()\n",
    "# check recall scores on train data\n",
    "print(f'Recall score of the model on train data: {cm_train[1][1]/(cm_train[1][1]+cm_train[1][0])}')\n",
    "# check recall scores on test data\n",
    "print(f'Recall score of the model on test data: {cm_test[1][1]/(cm_test[1][1]+cm_test[1][0])}')"
   ]
  },
  {
   "cell_type": "code",
   "execution_count": 160,
   "id": "424559a6",
   "metadata": {},
   "outputs": [
    {
     "data": {
      "image/png": "[encoded data removed]",
      "text/plain": [
       "<Figure size 640x480 with 1 Axes>"
      ]
     },
     "metadata": {},
     "output_type": "display_data"
    }
   ],
   "source": [
    "# feature importances\n",
    "feature_imp_rf = pd.DataFrame(index = X_train_final.columns, data = rf.feature_importances_*100, columns = ['feature_importance_%'])\n",
    "\n",
    "# check\n",
    "feature_imp_rf\n",
    "plt.title('Feature importances by Random Forest Classifier')\n",
    "plt.pie(x = feature_imp_rf['feature_importance_%'], labels = feature_imp_rf.index, rotatelabels = True)\n",
    "plt.show()"
   ]
  }
 ],
 "metadata": {
  "kernelspec": {
   "display_name": ".venv",
   "language": "python",
   "name": "python3"
  },
  "language_info": {
   "codemirror_mode": {
    "name": "ipython",
    "version": 3
   },
   "file_extension": ".py",
   "mimetype": "text/x-python",
   "name": "python",
   "nbconvert_exporter": "python",
   "pygments_lexer": "ipython3",
   "version": "3.10.12"
  }
 },
 "nbformat": 4,
 "nbformat_minor": 5
}
