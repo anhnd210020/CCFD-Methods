{
 "cells": [
  {
   "cell_type": "markdown",
   "id": "294a54cc",
   "metadata": {},
   "source": [
    "# 1. Data Understanding"
   ]
  },
  {
   "cell_type": "code",
   "execution_count": 2,
   "id": "d663873b",
   "metadata": {},
   "outputs": [],
   "source": [
    "# importing necessary libraries for data loading and EDA\n",
    "import numpy as np, pandas as pd, matplotlib.pyplot as plt, seaborn as sns\n",
    "import warnings\n",
    "warnings.filterwarnings('ignore')"
   ]
  },
  {
   "cell_type": "code",
   "execution_count": 3,
   "id": "4dfa8cb3",
   "metadata": {},
   "outputs": [
    {
     "data": {
      "text/html": [
       "<div>\n",
       "<style scoped>\n",
       "    .dataframe tbody tr th:only-of-type {\n",
       "        vertical-align: middle;\n",
       "    }\n",
       "\n",
       "    .dataframe tbody tr th {\n",
       "        vertical-align: top;\n",
       "    }\n",
       "\n",
       "    .dataframe thead th {\n",
       "        text-align: right;\n",
       "    }\n",
       "</style>\n",
       "<table border=\"1\" class=\"dataframe\">\n",
       "  <thead>\n",
       "    <tr style=\"text-align: right;\">\n",
       "      <th></th>\n",
       "      <th>Unnamed: 0</th>\n",
       "      <th>trans_date_trans_time</th>\n",
       "      <th>cc_num</th>\n",
       "      <th>merchant</th>\n",
       "      <th>category</th>\n",
       "      <th>amt</th>\n",
       "      <th>first</th>\n",
       "      <th>last</th>\n",
       "      <th>gender</th>\n",
       "      <th>street</th>\n",
       "      <th>...</th>\n",
       "      <th>lat</th>\n",
       "      <th>long</th>\n",
       "      <th>city_pop</th>\n",
       "      <th>job</th>\n",
       "      <th>dob</th>\n",
       "      <th>trans_num</th>\n",
       "      <th>unix_time</th>\n",
       "      <th>merch_lat</th>\n",
       "      <th>merch_long</th>\n",
       "      <th>is_fraud</th>\n",
       "    </tr>\n",
       "  </thead>\n",
       "  <tbody>\n",
       "    <tr>\n",
       "      <th>0</th>\n",
       "      <td>0</td>\n",
       "      <td>2019-01-01 00:00:18</td>\n",
       "      <td>2703186189652095</td>\n",
       "      <td>fraud_Rippin, Kub and Mann</td>\n",
       "      <td>misc_net</td>\n",
       "      <td>4.97</td>\n",
       "      <td>Jennifer</td>\n",
       "      <td>Banks</td>\n",
       "      <td>F</td>\n",
       "      <td>561 Perry Cove</td>\n",
       "      <td>...</td>\n",
       "      <td>36.0788</td>\n",
       "      <td>-81.1781</td>\n",
       "      <td>3495</td>\n",
       "      <td>Psychologist, counselling</td>\n",
       "      <td>1988-03-09</td>\n",
       "      <td>0b242abb623afc578575680df30655b9</td>\n",
       "      <td>1325376018</td>\n",
       "      <td>36.011293</td>\n",
       "      <td>-82.048315</td>\n",
       "      <td>0</td>\n",
       "    </tr>\n",
       "    <tr>\n",
       "      <th>1</th>\n",
       "      <td>1</td>\n",
       "      <td>2019-01-01 00:00:44</td>\n",
       "      <td>630423337322</td>\n",
       "      <td>fraud_Heller, Gutmann and Zieme</td>\n",
       "      <td>grocery_pos</td>\n",
       "      <td>107.23</td>\n",
       "      <td>Stephanie</td>\n",
       "      <td>Gill</td>\n",
       "      <td>F</td>\n",
       "      <td>43039 Riley Greens Suite 393</td>\n",
       "      <td>...</td>\n",
       "      <td>48.8878</td>\n",
       "      <td>-118.2105</td>\n",
       "      <td>149</td>\n",
       "      <td>Special educational needs teacher</td>\n",
       "      <td>1978-06-21</td>\n",
       "      <td>1f76529f8574734946361c461b024d99</td>\n",
       "      <td>1325376044</td>\n",
       "      <td>49.159047</td>\n",
       "      <td>-118.186462</td>\n",
       "      <td>0</td>\n",
       "    </tr>\n",
       "    <tr>\n",
       "      <th>2</th>\n",
       "      <td>2</td>\n",
       "      <td>2019-01-01 00:00:51</td>\n",
       "      <td>38859492057661</td>\n",
       "      <td>fraud_Lind-Buckridge</td>\n",
       "      <td>entertainment</td>\n",
       "      <td>220.11</td>\n",
       "      <td>Edward</td>\n",
       "      <td>Sanchez</td>\n",
       "      <td>M</td>\n",
       "      <td>594 White Dale Suite 530</td>\n",
       "      <td>...</td>\n",
       "      <td>42.1808</td>\n",
       "      <td>-112.2620</td>\n",
       "      <td>4154</td>\n",
       "      <td>Nature conservation officer</td>\n",
       "      <td>1962-01-19</td>\n",
       "      <td>a1a22d70485983eac12b5b88dad1cf95</td>\n",
       "      <td>1325376051</td>\n",
       "      <td>43.150704</td>\n",
       "      <td>-112.154481</td>\n",
       "      <td>0</td>\n",
       "    </tr>\n",
       "    <tr>\n",
       "      <th>3</th>\n",
       "      <td>3</td>\n",
       "      <td>2019-01-01 00:01:16</td>\n",
       "      <td>3534093764340240</td>\n",
       "      <td>fraud_Kutch, Hermiston and Farrell</td>\n",
       "      <td>gas_transport</td>\n",
       "      <td>45.00</td>\n",
       "      <td>Jeremy</td>\n",
       "      <td>White</td>\n",
       "      <td>M</td>\n",
       "      <td>9443 Cynthia Court Apt. 038</td>\n",
       "      <td>...</td>\n",
       "      <td>46.2306</td>\n",
       "      <td>-112.1138</td>\n",
       "      <td>1939</td>\n",
       "      <td>Patent attorney</td>\n",
       "      <td>1967-01-12</td>\n",
       "      <td>6b849c168bdad6f867558c3793159a81</td>\n",
       "      <td>1325376076</td>\n",
       "      <td>47.034331</td>\n",
       "      <td>-112.561071</td>\n",
       "      <td>0</td>\n",
       "    </tr>\n",
       "    <tr>\n",
       "      <th>4</th>\n",
       "      <td>4</td>\n",
       "      <td>2019-01-01 00:03:06</td>\n",
       "      <td>375534208663984</td>\n",
       "      <td>fraud_Keeling-Crist</td>\n",
       "      <td>misc_pos</td>\n",
       "      <td>41.96</td>\n",
       "      <td>Tyler</td>\n",
       "      <td>Garcia</td>\n",
       "      <td>M</td>\n",
       "      <td>408 Bradley Rest</td>\n",
       "      <td>...</td>\n",
       "      <td>38.4207</td>\n",
       "      <td>-79.4629</td>\n",
       "      <td>99</td>\n",
       "      <td>Dance movement psychotherapist</td>\n",
       "      <td>1986-03-28</td>\n",
       "      <td>a41d7549acf90789359a9aa5346dcb46</td>\n",
       "      <td>1325376186</td>\n",
       "      <td>38.674999</td>\n",
       "      <td>-78.632459</td>\n",
       "      <td>0</td>\n",
       "    </tr>\n",
       "  </tbody>\n",
       "</table>\n",
       "<p>5 rows × 23 columns</p>\n",
       "</div>"
      ],
      "text/plain": [
       "   Unnamed: 0 trans_date_trans_time            cc_num  \\\n",
       "0           0   2019-01-01 00:00:18  2703186189652095   \n",
       "1           1   2019-01-01 00:00:44      630423337322   \n",
       "2           2   2019-01-01 00:00:51    38859492057661   \n",
       "3           3   2019-01-01 00:01:16  3534093764340240   \n",
       "4           4   2019-01-01 00:03:06   375534208663984   \n",
       "\n",
       "                             merchant       category     amt      first  \\\n",
       "0          fraud_Rippin, Kub and Mann       misc_net    4.97   Jennifer   \n",
       "1     fraud_Heller, Gutmann and Zieme    grocery_pos  107.23  Stephanie   \n",
       "2                fraud_Lind-Buckridge  entertainment  220.11     Edward   \n",
       "3  fraud_Kutch, Hermiston and Farrell  gas_transport   45.00     Jeremy   \n",
       "4                 fraud_Keeling-Crist       misc_pos   41.96      Tyler   \n",
       "\n",
       "      last gender                        street  ...      lat      long  \\\n",
       "0    Banks      F                561 Perry Cove  ...  36.0788  -81.1781   \n",
       "1     Gill      F  43039 Riley Greens Suite 393  ...  48.8878 -118.2105   \n",
       "2  Sanchez      M      594 White Dale Suite 530  ...  42.1808 -112.2620   \n",
       "3    White      M   9443 Cynthia Court Apt. 038  ...  46.2306 -112.1138   \n",
       "4   Garcia      M              408 Bradley Rest  ...  38.4207  -79.4629   \n",
       "\n",
       "   city_pop                                job         dob  \\\n",
       "0      3495          Psychologist, counselling  1988-03-09   \n",
       "1       149  Special educational needs teacher  1978-06-21   \n",
       "2      4154        Nature conservation officer  1962-01-19   \n",
       "3      1939                    Patent attorney  1967-01-12   \n",
       "4        99     Dance movement psychotherapist  1986-03-28   \n",
       "\n",
       "                          trans_num   unix_time  merch_lat  merch_long  \\\n",
       "0  0b242abb623afc578575680df30655b9  1325376018  36.011293  -82.048315   \n",
       "1  1f76529f8574734946361c461b024d99  1325376044  49.159047 -118.186462   \n",
       "2  a1a22d70485983eac12b5b88dad1cf95  1325376051  43.150704 -112.154481   \n",
       "3  6b849c168bdad6f867558c3793159a81  1325376076  47.034331 -112.561071   \n",
       "4  a41d7549acf90789359a9aa5346dcb46  1325376186  38.674999  -78.632459   \n",
       "\n",
       "   is_fraud  \n",
       "0         0  \n",
       "1         0  \n",
       "2         0  \n",
       "3         0  \n",
       "4         0  \n",
       "\n",
       "[5 rows x 23 columns]"
      ]
     },
     "execution_count": 3,
     "metadata": {},
     "output_type": "execute_result"
    }
   ],
   "source": [
    "# Loading the train data\n",
    "df_train = pd.read_csv(r'/home/ducanh/Credit Card Transactions Fraud Detection/Datasets/fraudTrain.csv')\n",
    "\n",
    "# check\n",
    "df_train.head()"
   ]
  },
  {
   "cell_type": "code",
   "execution_count": 4,
   "id": "1518bd2f",
   "metadata": {},
   "outputs": [
    {
     "name": "stdout",
     "output_type": "stream",
     "text": [
      "<class 'pandas.core.frame.DataFrame'>\n",
      "RangeIndex: 1296675 entries, 0 to 1296674\n",
      "Data columns (total 23 columns):\n",
      " #   Column                 Non-Null Count    Dtype  \n",
      "---  ------                 --------------    -----  \n",
      " 0   Unnamed: 0             1296675 non-null  int64  \n",
      " 1   trans_date_trans_time  1296675 non-null  object \n",
      " 2   cc_num                 1296675 non-null  int64  \n",
      " 3   merchant               1296675 non-null  object \n",
      " 4   category               1296675 non-null  object \n",
      " 5   amt                    1296675 non-null  float64\n",
      " 6   first                  1296675 non-null  object \n",
      " 7   last                   1296675 non-null  object \n",
      " 8   gender                 1296675 non-null  object \n",
      " 9   street                 1296675 non-null  object \n",
      " 10  city                   1296675 non-null  object \n",
      " 11  state                  1296675 non-null  object \n",
      " 12  zip                    1296675 non-null  int64  \n",
      " 13  lat                    1296675 non-null  float64\n",
      " 14  long                   1296675 non-null  float64\n",
      " 15  city_pop               1296675 non-null  int64  \n",
      " 16  job                    1296675 non-null  object \n",
      " 17  dob                    1296675 non-null  object \n",
      " 18  trans_num              1296675 non-null  object \n",
      " 19  unix_time              1296675 non-null  int64  \n",
      " 20  merch_lat              1296675 non-null  float64\n",
      " 21  merch_long             1296675 non-null  float64\n",
      " 22  is_fraud               1296675 non-null  int64  \n",
      "dtypes: float64(5), int64(6), object(12)\n",
      "memory usage: 227.5+ MB\n"
     ]
    }
   ],
   "source": [
    "# check the columns\n",
    "df_train.info()"
   ]
  },
  {
   "cell_type": "code",
   "execution_count": 5,
   "id": "6b3e0c05",
   "metadata": {},
   "outputs": [
    {
     "data": {
      "text/plain": [
       "np.int64(0)"
      ]
     },
     "execution_count": 5,
     "metadata": {},
     "output_type": "execute_result"
    }
   ],
   "source": [
    "# check if there are any duplicates in the 'trans_num' column\n",
    "df_train['trans_num'].duplicated().sum()"
   ]
  },
  {
   "cell_type": "markdown",
   "id": "21dfc372",
   "metadata": {},
   "source": [
    "There are no duplicates in transaction number column"
   ]
  },
  {
   "cell_type": "code",
   "execution_count": 6,
   "id": "4f13f64b",
   "metadata": {},
   "outputs": [
    {
     "data": {
      "text/plain": [
       "983"
      ]
     },
     "execution_count": 6,
     "metadata": {},
     "output_type": "execute_result"
    }
   ],
   "source": [
    "# how many card holders are there\n",
    "len(df_train['cc_num'].unique())"
   ]
  },
  {
   "cell_type": "markdown",
   "id": "614f633c",
   "metadata": {},
   "source": [
    "There are 983 cardholders in the train data."
   ]
  },
  {
   "cell_type": "code",
   "execution_count": 7,
   "id": "25d47f27",
   "metadata": {},
   "outputs": [
    {
     "data": {
      "text/html": [
       "<div>\n",
       "<style scoped>\n",
       "    .dataframe tbody tr th:only-of-type {\n",
       "        vertical-align: middle;\n",
       "    }\n",
       "\n",
       "    .dataframe tbody tr th {\n",
       "        vertical-align: top;\n",
       "    }\n",
       "\n",
       "    .dataframe thead th {\n",
       "        text-align: right;\n",
       "    }\n",
       "</style>\n",
       "<table border=\"1\" class=\"dataframe\">\n",
       "  <thead>\n",
       "    <tr style=\"text-align: right;\">\n",
       "      <th></th>\n",
       "      <th>trans_date_trans_time</th>\n",
       "      <th>cc_num</th>\n",
       "      <th>merchant</th>\n",
       "      <th>category</th>\n",
       "      <th>amt</th>\n",
       "      <th>first</th>\n",
       "      <th>last</th>\n",
       "      <th>gender</th>\n",
       "      <th>street</th>\n",
       "      <th>city</th>\n",
       "      <th>...</th>\n",
       "      <th>lat</th>\n",
       "      <th>long</th>\n",
       "      <th>city_pop</th>\n",
       "      <th>job</th>\n",
       "      <th>dob</th>\n",
       "      <th>trans_num</th>\n",
       "      <th>unix_time</th>\n",
       "      <th>merch_lat</th>\n",
       "      <th>merch_long</th>\n",
       "      <th>is_fraud</th>\n",
       "    </tr>\n",
       "  </thead>\n",
       "  <tbody>\n",
       "    <tr>\n",
       "      <th>0</th>\n",
       "      <td>2019-01-01 00:00:18</td>\n",
       "      <td>2703186189652095</td>\n",
       "      <td>fraud_Rippin, Kub and Mann</td>\n",
       "      <td>misc_net</td>\n",
       "      <td>4.97</td>\n",
       "      <td>Jennifer</td>\n",
       "      <td>Banks</td>\n",
       "      <td>F</td>\n",
       "      <td>561 Perry Cove</td>\n",
       "      <td>Moravian Falls</td>\n",
       "      <td>...</td>\n",
       "      <td>36.0788</td>\n",
       "      <td>-81.1781</td>\n",
       "      <td>3495</td>\n",
       "      <td>Psychologist, counselling</td>\n",
       "      <td>1988-03-09</td>\n",
       "      <td>0b242abb623afc578575680df30655b9</td>\n",
       "      <td>1325376018</td>\n",
       "      <td>36.011293</td>\n",
       "      <td>-82.048315</td>\n",
       "      <td>0</td>\n",
       "    </tr>\n",
       "    <tr>\n",
       "      <th>1</th>\n",
       "      <td>2019-01-01 00:00:44</td>\n",
       "      <td>630423337322</td>\n",
       "      <td>fraud_Heller, Gutmann and Zieme</td>\n",
       "      <td>grocery_pos</td>\n",
       "      <td>107.23</td>\n",
       "      <td>Stephanie</td>\n",
       "      <td>Gill</td>\n",
       "      <td>F</td>\n",
       "      <td>43039 Riley Greens Suite 393</td>\n",
       "      <td>Orient</td>\n",
       "      <td>...</td>\n",
       "      <td>48.8878</td>\n",
       "      <td>-118.2105</td>\n",
       "      <td>149</td>\n",
       "      <td>Special educational needs teacher</td>\n",
       "      <td>1978-06-21</td>\n",
       "      <td>1f76529f8574734946361c461b024d99</td>\n",
       "      <td>1325376044</td>\n",
       "      <td>49.159047</td>\n",
       "      <td>-118.186462</td>\n",
       "      <td>0</td>\n",
       "    </tr>\n",
       "    <tr>\n",
       "      <th>2</th>\n",
       "      <td>2019-01-01 00:00:51</td>\n",
       "      <td>38859492057661</td>\n",
       "      <td>fraud_Lind-Buckridge</td>\n",
       "      <td>entertainment</td>\n",
       "      <td>220.11</td>\n",
       "      <td>Edward</td>\n",
       "      <td>Sanchez</td>\n",
       "      <td>M</td>\n",
       "      <td>594 White Dale Suite 530</td>\n",
       "      <td>Malad City</td>\n",
       "      <td>...</td>\n",
       "      <td>42.1808</td>\n",
       "      <td>-112.2620</td>\n",
       "      <td>4154</td>\n",
       "      <td>Nature conservation officer</td>\n",
       "      <td>1962-01-19</td>\n",
       "      <td>a1a22d70485983eac12b5b88dad1cf95</td>\n",
       "      <td>1325376051</td>\n",
       "      <td>43.150704</td>\n",
       "      <td>-112.154481</td>\n",
       "      <td>0</td>\n",
       "    </tr>\n",
       "    <tr>\n",
       "      <th>3</th>\n",
       "      <td>2019-01-01 00:01:16</td>\n",
       "      <td>3534093764340240</td>\n",
       "      <td>fraud_Kutch, Hermiston and Farrell</td>\n",
       "      <td>gas_transport</td>\n",
       "      <td>45.00</td>\n",
       "      <td>Jeremy</td>\n",
       "      <td>White</td>\n",
       "      <td>M</td>\n",
       "      <td>9443 Cynthia Court Apt. 038</td>\n",
       "      <td>Boulder</td>\n",
       "      <td>...</td>\n",
       "      <td>46.2306</td>\n",
       "      <td>-112.1138</td>\n",
       "      <td>1939</td>\n",
       "      <td>Patent attorney</td>\n",
       "      <td>1967-01-12</td>\n",
       "      <td>6b849c168bdad6f867558c3793159a81</td>\n",
       "      <td>1325376076</td>\n",
       "      <td>47.034331</td>\n",
       "      <td>-112.561071</td>\n",
       "      <td>0</td>\n",
       "    </tr>\n",
       "    <tr>\n",
       "      <th>4</th>\n",
       "      <td>2019-01-01 00:03:06</td>\n",
       "      <td>375534208663984</td>\n",
       "      <td>fraud_Keeling-Crist</td>\n",
       "      <td>misc_pos</td>\n",
       "      <td>41.96</td>\n",
       "      <td>Tyler</td>\n",
       "      <td>Garcia</td>\n",
       "      <td>M</td>\n",
       "      <td>408 Bradley Rest</td>\n",
       "      <td>Doe Hill</td>\n",
       "      <td>...</td>\n",
       "      <td>38.4207</td>\n",
       "      <td>-79.4629</td>\n",
       "      <td>99</td>\n",
       "      <td>Dance movement psychotherapist</td>\n",
       "      <td>1986-03-28</td>\n",
       "      <td>a41d7549acf90789359a9aa5346dcb46</td>\n",
       "      <td>1325376186</td>\n",
       "      <td>38.674999</td>\n",
       "      <td>-78.632459</td>\n",
       "      <td>0</td>\n",
       "    </tr>\n",
       "  </tbody>\n",
       "</table>\n",
       "<p>5 rows × 22 columns</p>\n",
       "</div>"
      ],
      "text/plain": [
       "  trans_date_trans_time            cc_num                            merchant  \\\n",
       "0   2019-01-01 00:00:18  2703186189652095          fraud_Rippin, Kub and Mann   \n",
       "1   2019-01-01 00:00:44      630423337322     fraud_Heller, Gutmann and Zieme   \n",
       "2   2019-01-01 00:00:51    38859492057661                fraud_Lind-Buckridge   \n",
       "3   2019-01-01 00:01:16  3534093764340240  fraud_Kutch, Hermiston and Farrell   \n",
       "4   2019-01-01 00:03:06   375534208663984                 fraud_Keeling-Crist   \n",
       "\n",
       "        category     amt      first     last gender  \\\n",
       "0       misc_net    4.97   Jennifer    Banks      F   \n",
       "1    grocery_pos  107.23  Stephanie     Gill      F   \n",
       "2  entertainment  220.11     Edward  Sanchez      M   \n",
       "3  gas_transport   45.00     Jeremy    White      M   \n",
       "4       misc_pos   41.96      Tyler   Garcia      M   \n",
       "\n",
       "                         street            city  ...      lat      long  \\\n",
       "0                561 Perry Cove  Moravian Falls  ...  36.0788  -81.1781   \n",
       "1  43039 Riley Greens Suite 393          Orient  ...  48.8878 -118.2105   \n",
       "2      594 White Dale Suite 530      Malad City  ...  42.1808 -112.2620   \n",
       "3   9443 Cynthia Court Apt. 038         Boulder  ...  46.2306 -112.1138   \n",
       "4              408 Bradley Rest        Doe Hill  ...  38.4207  -79.4629   \n",
       "\n",
       "   city_pop                                job        dob  \\\n",
       "0      3495          Psychologist, counselling 1988-03-09   \n",
       "1       149  Special educational needs teacher 1978-06-21   \n",
       "2      4154        Nature conservation officer 1962-01-19   \n",
       "3      1939                    Patent attorney 1967-01-12   \n",
       "4        99     Dance movement psychotherapist 1986-03-28   \n",
       "\n",
       "                          trans_num   unix_time  merch_lat  merch_long  \\\n",
       "0  0b242abb623afc578575680df30655b9  1325376018  36.011293  -82.048315   \n",
       "1  1f76529f8574734946361c461b024d99  1325376044  49.159047 -118.186462   \n",
       "2  a1a22d70485983eac12b5b88dad1cf95  1325376051  43.150704 -112.154481   \n",
       "3  6b849c168bdad6f867558c3793159a81  1325376076  47.034331 -112.561071   \n",
       "4  a41d7549acf90789359a9aa5346dcb46  1325376186  38.674999  -78.632459   \n",
       "\n",
       "   is_fraud  \n",
       "0         0  \n",
       "1         0  \n",
       "2         0  \n",
       "3         0  \n",
       "4         0  \n",
       "\n",
       "[5 rows x 22 columns]"
      ]
     },
     "execution_count": 7,
     "metadata": {},
     "output_type": "execute_result"
    }
   ],
   "source": [
    "# defining a function that performs the basic data cleaning operations\n",
    "def data_clean_1(df):\n",
    "    df = df.iloc[:,1:]\n",
    "    df['trans_date_trans_time'] = pd.to_datetime(df['trans_date_trans_time'])\n",
    "    df['dob'] = pd.to_datetime(df['dob'])\n",
    "    return df\n",
    "                                                 \n",
    "# applying the function on our train dataframe\n",
    "df_train = data_clean_1(df_train)\n",
    "    \n",
    "# check\n",
    "df_train.head()"
   ]
  },
  {
   "cell_type": "code",
   "execution_count": 8,
   "id": "2493d746",
   "metadata": {},
   "outputs": [
    {
     "name": "stdout",
     "output_type": "stream",
     "text": [
      "<class 'pandas.core.frame.DataFrame'>\n",
      "RangeIndex: 1296675 entries, 0 to 1296674\n",
      "Data columns (total 22 columns):\n",
      " #   Column                 Non-Null Count    Dtype         \n",
      "---  ------                 --------------    -----         \n",
      " 0   trans_date_trans_time  1296675 non-null  datetime64[ns]\n",
      " 1   cc_num                 1296675 non-null  int64         \n",
      " 2   merchant               1296675 non-null  object        \n",
      " 3   category               1296675 non-null  object        \n",
      " 4   amt                    1296675 non-null  float64       \n",
      " 5   first                  1296675 non-null  object        \n",
      " 6   last                   1296675 non-null  object        \n",
      " 7   gender                 1296675 non-null  object        \n",
      " 8   street                 1296675 non-null  object        \n",
      " 9   city                   1296675 non-null  object        \n",
      " 10  state                  1296675 non-null  object        \n",
      " 11  zip                    1296675 non-null  int64         \n",
      " 12  lat                    1296675 non-null  float64       \n",
      " 13  long                   1296675 non-null  float64       \n",
      " 14  city_pop               1296675 non-null  int64         \n",
      " 15  job                    1296675 non-null  object        \n",
      " 16  dob                    1296675 non-null  datetime64[ns]\n",
      " 17  trans_num              1296675 non-null  object        \n",
      " 18  unix_time              1296675 non-null  int64         \n",
      " 19  merch_lat              1296675 non-null  float64       \n",
      " 20  merch_long             1296675 non-null  float64       \n",
      " 21  is_fraud               1296675 non-null  int64         \n",
      "dtypes: datetime64[ns](2), float64(5), int64(5), object(10)\n",
      "memory usage: 217.6+ MB\n"
     ]
    }
   ],
   "source": [
    "# check 2\n",
    "df_train.info()"
   ]
  },
  {
   "cell_type": "code",
   "execution_count": 9,
   "id": "88c225d5",
   "metadata": {},
   "outputs": [
    {
     "data": {
      "text/html": [
       "<div>\n",
       "<style scoped>\n",
       "    .dataframe tbody tr th:only-of-type {\n",
       "        vertical-align: middle;\n",
       "    }\n",
       "\n",
       "    .dataframe tbody tr th {\n",
       "        vertical-align: top;\n",
       "    }\n",
       "\n",
       "    .dataframe thead th {\n",
       "        text-align: right;\n",
       "    }\n",
       "</style>\n",
       "<table border=\"1\" class=\"dataframe\">\n",
       "  <thead>\n",
       "    <tr style=\"text-align: right;\">\n",
       "      <th></th>\n",
       "      <th>Unnamed: 0</th>\n",
       "      <th>trans_date_trans_time</th>\n",
       "      <th>cc_num</th>\n",
       "      <th>merchant</th>\n",
       "      <th>category</th>\n",
       "      <th>amt</th>\n",
       "      <th>first</th>\n",
       "      <th>last</th>\n",
       "      <th>gender</th>\n",
       "      <th>street</th>\n",
       "      <th>...</th>\n",
       "      <th>lat</th>\n",
       "      <th>long</th>\n",
       "      <th>city_pop</th>\n",
       "      <th>job</th>\n",
       "      <th>dob</th>\n",
       "      <th>trans_num</th>\n",
       "      <th>unix_time</th>\n",
       "      <th>merch_lat</th>\n",
       "      <th>merch_long</th>\n",
       "      <th>is_fraud</th>\n",
       "    </tr>\n",
       "  </thead>\n",
       "  <tbody>\n",
       "    <tr>\n",
       "      <th>0</th>\n",
       "      <td>0</td>\n",
       "      <td>2020-06-21 12:14:25</td>\n",
       "      <td>2291163933867244</td>\n",
       "      <td>fraud_Kirlin and Sons</td>\n",
       "      <td>personal_care</td>\n",
       "      <td>2.86</td>\n",
       "      <td>Jeff</td>\n",
       "      <td>Elliott</td>\n",
       "      <td>M</td>\n",
       "      <td>351 Darlene Green</td>\n",
       "      <td>...</td>\n",
       "      <td>33.9659</td>\n",
       "      <td>-80.9355</td>\n",
       "      <td>333497</td>\n",
       "      <td>Mechanical engineer</td>\n",
       "      <td>1968-03-19</td>\n",
       "      <td>2da90c7d74bd46a0caf3777415b3ebd3</td>\n",
       "      <td>1371816865</td>\n",
       "      <td>33.986391</td>\n",
       "      <td>-81.200714</td>\n",
       "      <td>0</td>\n",
       "    </tr>\n",
       "    <tr>\n",
       "      <th>1</th>\n",
       "      <td>1</td>\n",
       "      <td>2020-06-21 12:14:33</td>\n",
       "      <td>3573030041201292</td>\n",
       "      <td>fraud_Sporer-Keebler</td>\n",
       "      <td>personal_care</td>\n",
       "      <td>29.84</td>\n",
       "      <td>Joanne</td>\n",
       "      <td>Williams</td>\n",
       "      <td>F</td>\n",
       "      <td>3638 Marsh Union</td>\n",
       "      <td>...</td>\n",
       "      <td>40.3207</td>\n",
       "      <td>-110.4360</td>\n",
       "      <td>302</td>\n",
       "      <td>Sales professional, IT</td>\n",
       "      <td>1990-01-17</td>\n",
       "      <td>324cc204407e99f51b0d6ca0055005e7</td>\n",
       "      <td>1371816873</td>\n",
       "      <td>39.450498</td>\n",
       "      <td>-109.960431</td>\n",
       "      <td>0</td>\n",
       "    </tr>\n",
       "    <tr>\n",
       "      <th>2</th>\n",
       "      <td>2</td>\n",
       "      <td>2020-06-21 12:14:53</td>\n",
       "      <td>3598215285024754</td>\n",
       "      <td>fraud_Swaniawski, Nitzsche and Welch</td>\n",
       "      <td>health_fitness</td>\n",
       "      <td>41.28</td>\n",
       "      <td>Ashley</td>\n",
       "      <td>Lopez</td>\n",
       "      <td>F</td>\n",
       "      <td>9333 Valentine Point</td>\n",
       "      <td>...</td>\n",
       "      <td>40.6729</td>\n",
       "      <td>-73.5365</td>\n",
       "      <td>34496</td>\n",
       "      <td>Librarian, public</td>\n",
       "      <td>1970-10-21</td>\n",
       "      <td>c81755dbbbea9d5c77f094348a7579be</td>\n",
       "      <td>1371816893</td>\n",
       "      <td>40.495810</td>\n",
       "      <td>-74.196111</td>\n",
       "      <td>0</td>\n",
       "    </tr>\n",
       "    <tr>\n",
       "      <th>3</th>\n",
       "      <td>3</td>\n",
       "      <td>2020-06-21 12:15:15</td>\n",
       "      <td>3591919803438423</td>\n",
       "      <td>fraud_Haley Group</td>\n",
       "      <td>misc_pos</td>\n",
       "      <td>60.05</td>\n",
       "      <td>Brian</td>\n",
       "      <td>Williams</td>\n",
       "      <td>M</td>\n",
       "      <td>32941 Krystal Mill Apt. 552</td>\n",
       "      <td>...</td>\n",
       "      <td>28.5697</td>\n",
       "      <td>-80.8191</td>\n",
       "      <td>54767</td>\n",
       "      <td>Set designer</td>\n",
       "      <td>1987-07-25</td>\n",
       "      <td>2159175b9efe66dc301f149d3d5abf8c</td>\n",
       "      <td>1371816915</td>\n",
       "      <td>28.812398</td>\n",
       "      <td>-80.883061</td>\n",
       "      <td>0</td>\n",
       "    </tr>\n",
       "    <tr>\n",
       "      <th>4</th>\n",
       "      <td>4</td>\n",
       "      <td>2020-06-21 12:15:17</td>\n",
       "      <td>3526826139003047</td>\n",
       "      <td>fraud_Johnston-Casper</td>\n",
       "      <td>travel</td>\n",
       "      <td>3.19</td>\n",
       "      <td>Nathan</td>\n",
       "      <td>Massey</td>\n",
       "      <td>M</td>\n",
       "      <td>5783 Evan Roads Apt. 465</td>\n",
       "      <td>...</td>\n",
       "      <td>44.2529</td>\n",
       "      <td>-85.0170</td>\n",
       "      <td>1126</td>\n",
       "      <td>Furniture designer</td>\n",
       "      <td>1955-07-06</td>\n",
       "      <td>57ff021bd3f328f8738bb535c302a31b</td>\n",
       "      <td>1371816917</td>\n",
       "      <td>44.959148</td>\n",
       "      <td>-85.884734</td>\n",
       "      <td>0</td>\n",
       "    </tr>\n",
       "  </tbody>\n",
       "</table>\n",
       "<p>5 rows × 23 columns</p>\n",
       "</div>"
      ],
      "text/plain": [
       "   Unnamed: 0 trans_date_trans_time            cc_num  \\\n",
       "0           0   2020-06-21 12:14:25  2291163933867244   \n",
       "1           1   2020-06-21 12:14:33  3573030041201292   \n",
       "2           2   2020-06-21 12:14:53  3598215285024754   \n",
       "3           3   2020-06-21 12:15:15  3591919803438423   \n",
       "4           4   2020-06-21 12:15:17  3526826139003047   \n",
       "\n",
       "                               merchant        category    amt   first  \\\n",
       "0                 fraud_Kirlin and Sons   personal_care   2.86    Jeff   \n",
       "1                  fraud_Sporer-Keebler   personal_care  29.84  Joanne   \n",
       "2  fraud_Swaniawski, Nitzsche and Welch  health_fitness  41.28  Ashley   \n",
       "3                     fraud_Haley Group        misc_pos  60.05   Brian   \n",
       "4                 fraud_Johnston-Casper          travel   3.19  Nathan   \n",
       "\n",
       "       last gender                       street  ...      lat      long  \\\n",
       "0   Elliott      M            351 Darlene Green  ...  33.9659  -80.9355   \n",
       "1  Williams      F             3638 Marsh Union  ...  40.3207 -110.4360   \n",
       "2     Lopez      F         9333 Valentine Point  ...  40.6729  -73.5365   \n",
       "3  Williams      M  32941 Krystal Mill Apt. 552  ...  28.5697  -80.8191   \n",
       "4    Massey      M     5783 Evan Roads Apt. 465  ...  44.2529  -85.0170   \n",
       "\n",
       "   city_pop                     job         dob  \\\n",
       "0    333497     Mechanical engineer  1968-03-19   \n",
       "1       302  Sales professional, IT  1990-01-17   \n",
       "2     34496       Librarian, public  1970-10-21   \n",
       "3     54767            Set designer  1987-07-25   \n",
       "4      1126      Furniture designer  1955-07-06   \n",
       "\n",
       "                          trans_num   unix_time  merch_lat  merch_long  \\\n",
       "0  2da90c7d74bd46a0caf3777415b3ebd3  1371816865  33.986391  -81.200714   \n",
       "1  324cc204407e99f51b0d6ca0055005e7  1371816873  39.450498 -109.960431   \n",
       "2  c81755dbbbea9d5c77f094348a7579be  1371816893  40.495810  -74.196111   \n",
       "3  2159175b9efe66dc301f149d3d5abf8c  1371816915  28.812398  -80.883061   \n",
       "4  57ff021bd3f328f8738bb535c302a31b  1371816917  44.959148  -85.884734   \n",
       "\n",
       "   is_fraud  \n",
       "0         0  \n",
       "1         0  \n",
       "2         0  \n",
       "3         0  \n",
       "4         0  \n",
       "\n",
       "[5 rows x 23 columns]"
      ]
     },
     "execution_count": 9,
     "metadata": {},
     "output_type": "execute_result"
    }
   ],
   "source": [
    "# let's do the same operation for test data as well\n",
    "df_test = pd.read_csv(r'/home/ducanh/Credit Card Transactions Fraud Detection/Datasets/fraudTest.csv')\n",
    "\n",
    "# check\n",
    "df_test.head()"
   ]
  },
  {
   "cell_type": "code",
   "execution_count": 10,
   "id": "16970a03",
   "metadata": {},
   "outputs": [
    {
     "name": "stdout",
     "output_type": "stream",
     "text": [
      "<class 'pandas.core.frame.DataFrame'>\n",
      "RangeIndex: 555719 entries, 0 to 555718\n",
      "Data columns (total 23 columns):\n",
      " #   Column                 Non-Null Count   Dtype  \n",
      "---  ------                 --------------   -----  \n",
      " 0   Unnamed: 0             555719 non-null  int64  \n",
      " 1   trans_date_trans_time  555719 non-null  object \n",
      " 2   cc_num                 555719 non-null  int64  \n",
      " 3   merchant               555719 non-null  object \n",
      " 4   category               555719 non-null  object \n",
      " 5   amt                    555719 non-null  float64\n",
      " 6   first                  555719 non-null  object \n",
      " 7   last                   555719 non-null  object \n",
      " 8   gender                 555719 non-null  object \n",
      " 9   street                 555719 non-null  object \n",
      " 10  city                   555719 non-null  object \n",
      " 11  state                  555719 non-null  object \n",
      " 12  zip                    555719 non-null  int64  \n",
      " 13  lat                    555719 non-null  float64\n",
      " 14  long                   555719 non-null  float64\n",
      " 15  city_pop               555719 non-null  int64  \n",
      " 16  job                    555719 non-null  object \n",
      " 17  dob                    555719 non-null  object \n",
      " 18  trans_num              555719 non-null  object \n",
      " 19  unix_time              555719 non-null  int64  \n",
      " 20  merch_lat              555719 non-null  float64\n",
      " 21  merch_long             555719 non-null  float64\n",
      " 22  is_fraud               555719 non-null  int64  \n",
      "dtypes: float64(5), int64(6), object(12)\n",
      "memory usage: 97.5+ MB\n"
     ]
    }
   ],
   "source": [
    "# info\n",
    "df_test.info()"
   ]
  },
  {
   "cell_type": "code",
   "execution_count": 11,
   "id": "4ee172c9",
   "metadata": {},
   "outputs": [
    {
     "name": "stdout",
     "output_type": "stream",
     "text": [
      "<class 'pandas.core.frame.DataFrame'>\n",
      "RangeIndex: 555719 entries, 0 to 555718\n",
      "Data columns (total 22 columns):\n",
      " #   Column                 Non-Null Count   Dtype         \n",
      "---  ------                 --------------   -----         \n",
      " 0   trans_date_trans_time  555719 non-null  datetime64[ns]\n",
      " 1   cc_num                 555719 non-null  int64         \n",
      " 2   merchant               555719 non-null  object        \n",
      " 3   category               555719 non-null  object        \n",
      " 4   amt                    555719 non-null  float64       \n",
      " 5   first                  555719 non-null  object        \n",
      " 6   last                   555719 non-null  object        \n",
      " 7   gender                 555719 non-null  object        \n",
      " 8   street                 555719 non-null  object        \n",
      " 9   city                   555719 non-null  object        \n",
      " 10  state                  555719 non-null  object        \n",
      " 11  zip                    555719 non-null  int64         \n",
      " 12  lat                    555719 non-null  float64       \n",
      " 13  long                   555719 non-null  float64       \n",
      " 14  city_pop               555719 non-null  int64         \n",
      " 15  job                    555719 non-null  object        \n",
      " 16  dob                    555719 non-null  datetime64[ns]\n",
      " 17  trans_num              555719 non-null  object        \n",
      " 18  unix_time              555719 non-null  int64         \n",
      " 19  merch_lat              555719 non-null  float64       \n",
      " 20  merch_long             555719 non-null  float64       \n",
      " 21  is_fraud               555719 non-null  int64         \n",
      "dtypes: datetime64[ns](2), float64(5), int64(5), object(10)\n",
      "memory usage: 93.3+ MB\n"
     ]
    }
   ],
   "source": [
    "# applying the function on our train dataframe\n",
    "df_test = data_clean_1(df_test)\n",
    "\n",
    "# check\n",
    "df_test.info()"
   ]
  },
  {
   "cell_type": "code",
   "execution_count": 12,
   "id": "ca6f00cd",
   "metadata": {},
   "outputs": [
    {
     "name": "stdout",
     "output_type": "stream",
     "text": [
      "<class 'pandas.core.frame.DataFrame'>\n",
      "Index: 1852394 entries, 0 to 555718\n",
      "Data columns (total 22 columns):\n",
      " #   Column                 Dtype         \n",
      "---  ------                 -----         \n",
      " 0   trans_date_trans_time  datetime64[ns]\n",
      " 1   cc_num                 int64         \n",
      " 2   merchant               object        \n",
      " 3   category               object        \n",
      " 4   amt                    float64       \n",
      " 5   first                  object        \n",
      " 6   last                   object        \n",
      " 7   gender                 object        \n",
      " 8   street                 object        \n",
      " 9   city                   object        \n",
      " 10  state                  object        \n",
      " 11  zip                    int64         \n",
      " 12  lat                    float64       \n",
      " 13  long                   float64       \n",
      " 14  city_pop               int64         \n",
      " 15  job                    object        \n",
      " 16  dob                    datetime64[ns]\n",
      " 17  trans_num              object        \n",
      " 18  unix_time              int64         \n",
      " 19  merch_lat              float64       \n",
      " 20  merch_long             float64       \n",
      " 21  is_fraud               int64         \n",
      "dtypes: datetime64[ns](2), float64(5), int64(5), object(10)\n",
      "memory usage: 325.1+ MB\n"
     ]
    }
   ],
   "source": [
    "# let's concat both the train and test dataframes into one dataframe\n",
    "df = pd.concat([df_train, df_test])\n",
    "\n",
    "# check\n",
    "df.info()"
   ]
  },
  {
   "cell_type": "code",
   "execution_count": 13,
   "id": "690f716c",
   "metadata": {},
   "outputs": [
    {
     "data": {
      "text/plain": [
       "np.int64(0)"
      ]
     },
     "execution_count": 13,
     "metadata": {},
     "output_type": "execute_result"
    }
   ],
   "source": [
    "# cross check\n",
    "df['trans_num'].duplicated().sum()"
   ]
  },
  {
   "cell_type": "code",
   "execution_count": 14,
   "id": "7889ca62",
   "metadata": {},
   "outputs": [
    {
     "name": "stdout",
     "output_type": "stream",
     "text": [
      "The data is at transaction level\n"
     ]
    }
   ],
   "source": [
    "if len(df) == len(df['trans_num'].unique()):\n",
    "    print('The data is at transaction level')\n",
    "else:\n",
    "    print('The data is not at transaction level')"
   ]
  },
  {
   "cell_type": "code",
   "execution_count": 15,
   "id": "76dbb60a",
   "metadata": {},
   "outputs": [
    {
     "data": {
      "text/html": [
       "<div>\n",
       "<style scoped>\n",
       "    .dataframe tbody tr th:only-of-type {\n",
       "        vertical-align: middle;\n",
       "    }\n",
       "\n",
       "    .dataframe tbody tr th {\n",
       "        vertical-align: top;\n",
       "    }\n",
       "\n",
       "    .dataframe thead th {\n",
       "        text-align: right;\n",
       "    }\n",
       "</style>\n",
       "<table border=\"1\" class=\"dataframe\">\n",
       "  <thead>\n",
       "    <tr style=\"text-align: right;\">\n",
       "      <th></th>\n",
       "      <th>trans_date_trans_time</th>\n",
       "      <th>cc_num</th>\n",
       "      <th>merchant</th>\n",
       "      <th>category</th>\n",
       "      <th>amt</th>\n",
       "      <th>first</th>\n",
       "      <th>last</th>\n",
       "      <th>gender</th>\n",
       "      <th>street</th>\n",
       "      <th>city</th>\n",
       "      <th>...</th>\n",
       "      <th>lat</th>\n",
       "      <th>long</th>\n",
       "      <th>city_pop</th>\n",
       "      <th>job</th>\n",
       "      <th>dob</th>\n",
       "      <th>trans_num</th>\n",
       "      <th>unix_time</th>\n",
       "      <th>merch_lat</th>\n",
       "      <th>merch_long</th>\n",
       "      <th>is_fraud</th>\n",
       "    </tr>\n",
       "  </thead>\n",
       "  <tbody>\n",
       "    <tr>\n",
       "      <th>0</th>\n",
       "      <td>2019-01-01 00:00:18</td>\n",
       "      <td>2703186189652095</td>\n",
       "      <td>fraud_Rippin, Kub and Mann</td>\n",
       "      <td>misc_net</td>\n",
       "      <td>4.97</td>\n",
       "      <td>Jennifer</td>\n",
       "      <td>Banks</td>\n",
       "      <td>F</td>\n",
       "      <td>561 Perry Cove</td>\n",
       "      <td>Moravian Falls</td>\n",
       "      <td>...</td>\n",
       "      <td>36.0788</td>\n",
       "      <td>-81.1781</td>\n",
       "      <td>3495</td>\n",
       "      <td>Psychologist, counselling</td>\n",
       "      <td>1988-03-09</td>\n",
       "      <td>0b242abb623afc578575680df30655b9</td>\n",
       "      <td>1325376018</td>\n",
       "      <td>36.011293</td>\n",
       "      <td>-82.048315</td>\n",
       "      <td>0</td>\n",
       "    </tr>\n",
       "    <tr>\n",
       "      <th>1</th>\n",
       "      <td>2019-01-01 00:00:44</td>\n",
       "      <td>630423337322</td>\n",
       "      <td>fraud_Heller, Gutmann and Zieme</td>\n",
       "      <td>grocery_pos</td>\n",
       "      <td>107.23</td>\n",
       "      <td>Stephanie</td>\n",
       "      <td>Gill</td>\n",
       "      <td>F</td>\n",
       "      <td>43039 Riley Greens Suite 393</td>\n",
       "      <td>Orient</td>\n",
       "      <td>...</td>\n",
       "      <td>48.8878</td>\n",
       "      <td>-118.2105</td>\n",
       "      <td>149</td>\n",
       "      <td>Special educational needs teacher</td>\n",
       "      <td>1978-06-21</td>\n",
       "      <td>1f76529f8574734946361c461b024d99</td>\n",
       "      <td>1325376044</td>\n",
       "      <td>49.159047</td>\n",
       "      <td>-118.186462</td>\n",
       "      <td>0</td>\n",
       "    </tr>\n",
       "    <tr>\n",
       "      <th>2</th>\n",
       "      <td>2019-01-01 00:00:51</td>\n",
       "      <td>38859492057661</td>\n",
       "      <td>fraud_Lind-Buckridge</td>\n",
       "      <td>entertainment</td>\n",
       "      <td>220.11</td>\n",
       "      <td>Edward</td>\n",
       "      <td>Sanchez</td>\n",
       "      <td>M</td>\n",
       "      <td>594 White Dale Suite 530</td>\n",
       "      <td>Malad City</td>\n",
       "      <td>...</td>\n",
       "      <td>42.1808</td>\n",
       "      <td>-112.2620</td>\n",
       "      <td>4154</td>\n",
       "      <td>Nature conservation officer</td>\n",
       "      <td>1962-01-19</td>\n",
       "      <td>a1a22d70485983eac12b5b88dad1cf95</td>\n",
       "      <td>1325376051</td>\n",
       "      <td>43.150704</td>\n",
       "      <td>-112.154481</td>\n",
       "      <td>0</td>\n",
       "    </tr>\n",
       "    <tr>\n",
       "      <th>3</th>\n",
       "      <td>2019-01-01 00:01:16</td>\n",
       "      <td>3534093764340240</td>\n",
       "      <td>fraud_Kutch, Hermiston and Farrell</td>\n",
       "      <td>gas_transport</td>\n",
       "      <td>45.00</td>\n",
       "      <td>Jeremy</td>\n",
       "      <td>White</td>\n",
       "      <td>M</td>\n",
       "      <td>9443 Cynthia Court Apt. 038</td>\n",
       "      <td>Boulder</td>\n",
       "      <td>...</td>\n",
       "      <td>46.2306</td>\n",
       "      <td>-112.1138</td>\n",
       "      <td>1939</td>\n",
       "      <td>Patent attorney</td>\n",
       "      <td>1967-01-12</td>\n",
       "      <td>6b849c168bdad6f867558c3793159a81</td>\n",
       "      <td>1325376076</td>\n",
       "      <td>47.034331</td>\n",
       "      <td>-112.561071</td>\n",
       "      <td>0</td>\n",
       "    </tr>\n",
       "    <tr>\n",
       "      <th>4</th>\n",
       "      <td>2019-01-01 00:03:06</td>\n",
       "      <td>375534208663984</td>\n",
       "      <td>fraud_Keeling-Crist</td>\n",
       "      <td>misc_pos</td>\n",
       "      <td>41.96</td>\n",
       "      <td>Tyler</td>\n",
       "      <td>Garcia</td>\n",
       "      <td>M</td>\n",
       "      <td>408 Bradley Rest</td>\n",
       "      <td>Doe Hill</td>\n",
       "      <td>...</td>\n",
       "      <td>38.4207</td>\n",
       "      <td>-79.4629</td>\n",
       "      <td>99</td>\n",
       "      <td>Dance movement psychotherapist</td>\n",
       "      <td>1986-03-28</td>\n",
       "      <td>a41d7549acf90789359a9aa5346dcb46</td>\n",
       "      <td>1325376186</td>\n",
       "      <td>38.674999</td>\n",
       "      <td>-78.632459</td>\n",
       "      <td>0</td>\n",
       "    </tr>\n",
       "  </tbody>\n",
       "</table>\n",
       "<p>5 rows × 22 columns</p>\n",
       "</div>"
      ],
      "text/plain": [
       "  trans_date_trans_time            cc_num                            merchant  \\\n",
       "0   2019-01-01 00:00:18  2703186189652095          fraud_Rippin, Kub and Mann   \n",
       "1   2019-01-01 00:00:44      630423337322     fraud_Heller, Gutmann and Zieme   \n",
       "2   2019-01-01 00:00:51    38859492057661                fraud_Lind-Buckridge   \n",
       "3   2019-01-01 00:01:16  3534093764340240  fraud_Kutch, Hermiston and Farrell   \n",
       "4   2019-01-01 00:03:06   375534208663984                 fraud_Keeling-Crist   \n",
       "\n",
       "        category     amt      first     last gender  \\\n",
       "0       misc_net    4.97   Jennifer    Banks      F   \n",
       "1    grocery_pos  107.23  Stephanie     Gill      F   \n",
       "2  entertainment  220.11     Edward  Sanchez      M   \n",
       "3  gas_transport   45.00     Jeremy    White      M   \n",
       "4       misc_pos   41.96      Tyler   Garcia      M   \n",
       "\n",
       "                         street            city  ...      lat      long  \\\n",
       "0                561 Perry Cove  Moravian Falls  ...  36.0788  -81.1781   \n",
       "1  43039 Riley Greens Suite 393          Orient  ...  48.8878 -118.2105   \n",
       "2      594 White Dale Suite 530      Malad City  ...  42.1808 -112.2620   \n",
       "3   9443 Cynthia Court Apt. 038         Boulder  ...  46.2306 -112.1138   \n",
       "4              408 Bradley Rest        Doe Hill  ...  38.4207  -79.4629   \n",
       "\n",
       "   city_pop                                job        dob  \\\n",
       "0      3495          Psychologist, counselling 1988-03-09   \n",
       "1       149  Special educational needs teacher 1978-06-21   \n",
       "2      4154        Nature conservation officer 1962-01-19   \n",
       "3      1939                    Patent attorney 1967-01-12   \n",
       "4        99     Dance movement psychotherapist 1986-03-28   \n",
       "\n",
       "                          trans_num   unix_time  merch_lat  merch_long  \\\n",
       "0  0b242abb623afc578575680df30655b9  1325376018  36.011293  -82.048315   \n",
       "1  1f76529f8574734946361c461b024d99  1325376044  49.159047 -118.186462   \n",
       "2  a1a22d70485983eac12b5b88dad1cf95  1325376051  43.150704 -112.154481   \n",
       "3  6b849c168bdad6f867558c3793159a81  1325376076  47.034331 -112.561071   \n",
       "4  a41d7549acf90789359a9aa5346dcb46  1325376186  38.674999  -78.632459   \n",
       "\n",
       "   is_fraud  \n",
       "0         0  \n",
       "1         0  \n",
       "2         0  \n",
       "3         0  \n",
       "4         0  \n",
       "\n",
       "[5 rows x 22 columns]"
      ]
     },
     "execution_count": 15,
     "metadata": {},
     "output_type": "execute_result"
    }
   ],
   "source": [
    "df.head()"
   ]
  },
  {
   "cell_type": "code",
   "execution_count": 16,
   "id": "c2b7dc81",
   "metadata": {},
   "outputs": [
    {
     "data": {
      "text/plain": [
       "999"
      ]
     },
     "execution_count": 16,
     "metadata": {},
     "output_type": "execute_result"
    }
   ],
   "source": [
    "# how many card holders are there in the data\n",
    "len(df['cc_num'].unique())"
   ]
  },
  {
   "cell_type": "code",
   "execution_count": 17,
   "id": "4307425b",
   "metadata": {},
   "outputs": [
    {
     "data": {
      "text/plain": [
       "693"
      ]
     },
     "execution_count": 17,
     "metadata": {},
     "output_type": "execute_result"
    }
   ],
   "source": [
    "# how many merchants are there\n",
    "len(df['merchant'].unique())"
   ]
  },
  {
   "cell_type": "markdown",
   "id": "262b2bf8",
   "metadata": {},
   "source": [
    "#### Card holders = 999, Merchants = 693"
   ]
  },
  {
   "cell_type": "code",
   "execution_count": 18,
   "id": "e213a1dd",
   "metadata": {},
   "outputs": [],
   "source": [
    "# resetting index\n",
    "df.reset_index(inplace=True)"
   ]
  },
  {
   "cell_type": "code",
   "execution_count": 19,
   "id": "3e40d592",
   "metadata": {},
   "outputs": [
    {
     "name": "stdout",
     "output_type": "stream",
     "text": [
      "<class 'pandas.core.frame.DataFrame'>\n",
      "RangeIndex: 1852394 entries, 0 to 1852393\n",
      "Data columns (total 22 columns):\n",
      " #   Column                 Dtype         \n",
      "---  ------                 -----         \n",
      " 0   trans_date_trans_time  datetime64[ns]\n",
      " 1   cc_num                 int64         \n",
      " 2   merchant               object        \n",
      " 3   category               object        \n",
      " 4   amt                    float64       \n",
      " 5   first                  object        \n",
      " 6   last                   object        \n",
      " 7   gender                 object        \n",
      " 8   street                 object        \n",
      " 9   city                   object        \n",
      " 10  state                  object        \n",
      " 11  zip                    int64         \n",
      " 12  lat                    float64       \n",
      " 13  long                   float64       \n",
      " 14  city_pop               int64         \n",
      " 15  job                    object        \n",
      " 16  dob                    datetime64[ns]\n",
      " 17  trans_num              object        \n",
      " 18  unix_time              int64         \n",
      " 19  merch_lat              float64       \n",
      " 20  merch_long             float64       \n",
      " 21  is_fraud               int64         \n",
      "dtypes: datetime64[ns](2), float64(5), int64(5), object(10)\n",
      "memory usage: 310.9+ MB\n"
     ]
    }
   ],
   "source": [
    "# resetting the index\n",
    "df.drop('index',axis = 1,inplace = True)\n",
    "\n",
    "# check\n",
    "df.info()"
   ]
  },
  {
   "cell_type": "markdown",
   "id": "a2272f8d",
   "metadata": {},
   "source": [
    "#### Average number of transactions per month"
   ]
  },
  {
   "cell_type": "code",
   "execution_count": 20,
   "id": "a2927b5f",
   "metadata": {},
   "outputs": [
    {
     "data": {
      "text/html": [
       "<div>\n",
       "<style scoped>\n",
       "    .dataframe tbody tr th:only-of-type {\n",
       "        vertical-align: middle;\n",
       "    }\n",
       "\n",
       "    .dataframe tbody tr th {\n",
       "        vertical-align: top;\n",
       "    }\n",
       "\n",
       "    .dataframe thead th {\n",
       "        text-align: right;\n",
       "    }\n",
       "</style>\n",
       "<table border=\"1\" class=\"dataframe\">\n",
       "  <thead>\n",
       "    <tr style=\"text-align: right;\">\n",
       "      <th></th>\n",
       "      <th>trans_date_trans_time</th>\n",
       "      <th>trans_year_month</th>\n",
       "    </tr>\n",
       "  </thead>\n",
       "  <tbody>\n",
       "    <tr>\n",
       "      <th>0</th>\n",
       "      <td>2019-01-01 00:00:18</td>\n",
       "      <td>2019-01</td>\n",
       "    </tr>\n",
       "    <tr>\n",
       "      <th>1</th>\n",
       "      <td>2019-01-01 00:00:44</td>\n",
       "      <td>2019-01</td>\n",
       "    </tr>\n",
       "    <tr>\n",
       "      <th>2</th>\n",
       "      <td>2019-01-01 00:00:51</td>\n",
       "      <td>2019-01</td>\n",
       "    </tr>\n",
       "    <tr>\n",
       "      <th>3</th>\n",
       "      <td>2019-01-01 00:01:16</td>\n",
       "      <td>2019-01</td>\n",
       "    </tr>\n",
       "    <tr>\n",
       "      <th>4</th>\n",
       "      <td>2019-01-01 00:03:06</td>\n",
       "      <td>2019-01</td>\n",
       "    </tr>\n",
       "    <tr>\n",
       "      <th>...</th>\n",
       "      <td>...</td>\n",
       "      <td>...</td>\n",
       "    </tr>\n",
       "    <tr>\n",
       "      <th>1852389</th>\n",
       "      <td>2020-12-31 23:59:07</td>\n",
       "      <td>2020-12</td>\n",
       "    </tr>\n",
       "    <tr>\n",
       "      <th>1852390</th>\n",
       "      <td>2020-12-31 23:59:09</td>\n",
       "      <td>2020-12</td>\n",
       "    </tr>\n",
       "    <tr>\n",
       "      <th>1852391</th>\n",
       "      <td>2020-12-31 23:59:15</td>\n",
       "      <td>2020-12</td>\n",
       "    </tr>\n",
       "    <tr>\n",
       "      <th>1852392</th>\n",
       "      <td>2020-12-31 23:59:24</td>\n",
       "      <td>2020-12</td>\n",
       "    </tr>\n",
       "    <tr>\n",
       "      <th>1852393</th>\n",
       "      <td>2020-12-31 23:59:34</td>\n",
       "      <td>2020-12</td>\n",
       "    </tr>\n",
       "  </tbody>\n",
       "</table>\n",
       "<p>1852394 rows × 2 columns</p>\n",
       "</div>"
      ],
      "text/plain": [
       "        trans_date_trans_time trans_year_month\n",
       "0         2019-01-01 00:00:18          2019-01\n",
       "1         2019-01-01 00:00:44          2019-01\n",
       "2         2019-01-01 00:00:51          2019-01\n",
       "3         2019-01-01 00:01:16          2019-01\n",
       "4         2019-01-01 00:03:06          2019-01\n",
       "...                       ...              ...\n",
       "1852389   2020-12-31 23:59:07          2020-12\n",
       "1852390   2020-12-31 23:59:09          2020-12\n",
       "1852391   2020-12-31 23:59:15          2020-12\n",
       "1852392   2020-12-31 23:59:24          2020-12\n",
       "1852393   2020-12-31 23:59:34          2020-12\n",
       "\n",
       "[1852394 rows x 2 columns]"
      ]
     },
     "execution_count": 20,
     "metadata": {},
     "output_type": "execute_result"
    }
   ],
   "source": [
    "# deriving a unique month column w.r.t each year\n",
    "df['trans_year_month'] = df['trans_date_trans_time'].apply(lambda x: str(x)[:7])\n",
    "\n",
    "# check\n",
    "df[['trans_date_trans_time','trans_year_month']]"
   ]
  },
  {
   "cell_type": "code",
   "execution_count": 21,
   "id": "f76caebd",
   "metadata": {},
   "outputs": [
    {
     "data": {
      "text/plain": [
       "24"
      ]
     },
     "execution_count": 21,
     "metadata": {},
     "output_type": "execute_result"
    }
   ],
   "source": [
    "# how many months of data is available\n",
    "len(df['trans_year_month'].unique())"
   ]
  },
  {
   "cell_type": "code",
   "execution_count": 22,
   "id": "1c6c178d",
   "metadata": {},
   "outputs": [
    {
     "name": "stdout",
     "output_type": "stream",
     "text": [
      "Average number of transactions per month =  77183\n"
     ]
    }
   ],
   "source": [
    "# avg number of transactions per month is computed as\n",
    "avg_nbr_of_txns = len(df['trans_num'].unique())/len(df['trans_year_month'].unique())\n",
    "print('Average number of transactions per month = ',round(avg_nbr_of_txns))"
   ]
  },
  {
   "cell_type": "markdown",
   "id": "98bdd5f5",
   "metadata": {},
   "source": [
    "#### Average number of fradulent transactions per month"
   ]
  },
  {
   "cell_type": "code",
   "execution_count": 23,
   "id": "1fbe6630",
   "metadata": {},
   "outputs": [
    {
     "name": "stdout",
     "output_type": "stream",
     "text": [
      "The total number of Fraudulent transactions in the given 2 years period are 9651\n"
     ]
    }
   ],
   "source": [
    "# number of fradulent transactions\n",
    "print('The total number of Fraudulent transactions in the given 2 years period are',len(df[df['is_fraud'] == 1]['trans_num'].unique()))"
   ]
  },
  {
   "cell_type": "code",
   "execution_count": 24,
   "id": "860b20e8",
   "metadata": {},
   "outputs": [
    {
     "name": "stdout",
     "output_type": "stream",
     "text": [
      "Average number of fraudulent transactions per month =  402\n"
     ]
    }
   ],
   "source": [
    "# avg number of fradulent transactions per month\n",
    "print('Average number of fraudulent transactions per month = ', round(len(df[df['is_fraud'] == 1]['trans_num'].unique())/len(df[df['is_fraud'] == 1]['trans_year_month'].unique())))"
   ]
  },
  {
   "cell_type": "code",
   "execution_count": 25,
   "id": "1f73f441",
   "metadata": {},
   "outputs": [
    {
     "data": {
      "text/plain": [
       "'$5121413.290000001'"
      ]
     },
     "execution_count": 25,
     "metadata": {},
     "output_type": "execute_result"
    }
   ],
   "source": [
    "# Total value of fraudulent transactions in the given period of 2 years\n",
    "'$'+str(np.sum(df[df['is_fraud'] == 1]['amt']))"
   ]
  },
  {
   "cell_type": "code",
   "execution_count": 26,
   "id": "8ff72b28",
   "metadata": {},
   "outputs": [
    {
     "data": {
      "text/plain": [
       "9651"
      ]
     },
     "execution_count": 26,
     "metadata": {},
     "output_type": "execute_result"
    }
   ],
   "source": [
    "len(df[df['is_fraud'] == 1]['trans_num'].unique())"
   ]
  },
  {
   "cell_type": "markdown",
   "id": "96f4e16c",
   "metadata": {},
   "source": [
    "It costed around $ 5 million to the bank."
   ]
  },
  {
   "cell_type": "code",
   "execution_count": 27,
   "id": "3297cf6c",
   "metadata": {},
   "outputs": [
    {
     "name": "stdout",
     "output_type": "stream",
     "text": [
      "Average amount per fraud transaction = $530.66\n"
     ]
    }
   ],
   "source": [
    "# Avg amount per fraud transaction is computed as\n",
    "# total fraudulent transaction amount divided by the total number of fraudulent transactions\n",
    "print('Average amount per fraud transaction = ${}'.format(round(np.sum(df[df['is_fraud'] == 1]['amt'])/len(df[df['is_fraud'] == 1]['trans_num'].unique()),2)))"
   ]
  },
  {
   "cell_type": "code",
   "execution_count": 28,
   "id": "3edc7b2e",
   "metadata": {},
   "outputs": [
    {
     "data": {
      "text/plain": [
       "213325.32"
      ]
     },
     "execution_count": 28,
     "metadata": {},
     "output_type": "execute_result"
    }
   ],
   "source": [
    "## cost incurred per month to the bank due to the fraudulent transactions \n",
    "round(402*530.66,2)"
   ]
  },
  {
   "cell_type": "markdown",
   "id": "5d08e369",
   "metadata": {},
   "source": [
    "# 2. Exploratory Data Analyses (EDA)"
   ]
  },
  {
   "cell_type": "code",
   "execution_count": 29,
   "id": "e0109d72",
   "metadata": {},
   "outputs": [
    {
     "name": "stdout",
     "output_type": "stream",
     "text": [
      "<class 'pandas.core.frame.DataFrame'>\n",
      "RangeIndex: 1852394 entries, 0 to 1852393\n",
      "Data columns (total 23 columns):\n",
      " #   Column                 Dtype         \n",
      "---  ------                 -----         \n",
      " 0   trans_date_trans_time  datetime64[ns]\n",
      " 1   cc_num                 int64         \n",
      " 2   merchant               object        \n",
      " 3   category               object        \n",
      " 4   amt                    float64       \n",
      " 5   first                  object        \n",
      " 6   last                   object        \n",
      " 7   gender                 object        \n",
      " 8   street                 object        \n",
      " 9   city                   object        \n",
      " 10  state                  object        \n",
      " 11  zip                    int64         \n",
      " 12  lat                    float64       \n",
      " 13  long                   float64       \n",
      " 14  city_pop               int64         \n",
      " 15  job                    object        \n",
      " 16  dob                    datetime64[ns]\n",
      " 17  trans_num              object        \n",
      " 18  unix_time              int64         \n",
      " 19  merch_lat              float64       \n",
      " 20  merch_long             float64       \n",
      " 21  is_fraud               int64         \n",
      " 22  trans_year_month       object        \n",
      "dtypes: datetime64[ns](2), float64(5), int64(5), object(11)\n",
      "memory usage: 325.1+ MB\n"
     ]
    }
   ],
   "source": [
    "# check info of the dataframe\n",
    "df.info()"
   ]
  },
  {
   "cell_type": "code",
   "execution_count": 30,
   "id": "9295426b",
   "metadata": {},
   "outputs": [
    {
     "data": {
      "text/plain": [
       "count    9651.000000\n",
       "mean      530.661412\n",
       "std       391.028873\n",
       "min         1.060000\n",
       "25%       240.075000\n",
       "50%       390.000000\n",
       "75%       902.365000\n",
       "max      1376.040000\n",
       "Name: amt, dtype: float64"
      ]
     },
     "execution_count": 30,
     "metadata": {},
     "output_type": "execute_result"
    }
   ],
   "source": [
    "# checking the transaction amount column w.r.t fraudulent transactions\n",
    "df[df['is_fraud'] == 1]['amt'].describe()"
   ]
  },
  {
   "cell_type": "code",
   "execution_count": 31,
   "id": "99cf9ddd",
   "metadata": {},
   "outputs": [
    {
     "data": {
      "text/plain": [
       "<seaborn.axisgrid.FacetGrid at 0x73852a1da170>"
      ]
     },
     "execution_count": 31,
     "metadata": {},
     "output_type": "execute_result"
    },
    {
     "data": {
      "text/plain": [
       "<Figure size 1500x300 with 0 Axes>"
      ]
     },
     "metadata": {},
     "output_type": "display_data"
    },
    {
     "data": {
      "image/png": "[encoded data removed]",
      "text/plain": [
       "<Figure size 500x500 with 1 Axes>"
      ]
     },
     "metadata": {},
     "output_type": "display_data"
    }
   ],
   "source": [
    "plt.figure(figsize = (15,3))\n",
    "sns.displot(df[df['is_fraud'] == 1]['amt'])"
   ]
  },
  {
   "cell_type": "markdown",
   "id": "1c477758",
   "metadata": {},
   "source": [
    "### Analyses w.r.t. customer demographic information"
   ]
  },
  {
   "cell_type": "code",
   "execution_count": 32,
   "id": "35d04651",
   "metadata": {},
   "outputs": [
    {
     "data": {
      "text/plain": [
       "0          33\n",
       "1          43\n",
       "2          59\n",
       "3          54\n",
       "4          35\n",
       "           ..\n",
       "1852389    55\n",
       "1852390    22\n",
       "1852391    40\n",
       "1852392    56\n",
       "1852393    28\n",
       "Name: cust_age, Length: 1852394, dtype: int64"
      ]
     },
     "execution_count": 32,
     "metadata": {},
     "output_type": "execute_result"
    }
   ],
   "source": [
    "# deriving age column.\n",
    "# since this data is till 2020 Dec 31, We will compute age of each customer during 2021.\n",
    "df['cust_age'] = df['dob'].dt.year.apply(lambda x: 2021-x)\n",
    "\n",
    "# check\n",
    "df['cust_age']"
   ]
  },
  {
   "cell_type": "code",
   "execution_count": 33,
   "id": "4bf1031a",
   "metadata": {},
   "outputs": [
    {
     "data": {
      "image/png": "[encoded data removed]",
      "text/plain": [
       "<Figure size 1200x500 with 1 Axes>"
      ]
     },
     "metadata": {},
     "output_type": "display_data"
    }
   ],
   "source": [
    "# visualize Age Vs fraudulent transaction amounts\n",
    "plt.figure(figsize = (12,5))\n",
    "plt.title('Age Vs Transaction amount')\n",
    "plt.scatter(df[df['is_fraud'] == 1]['cust_age'],df[df['is_fraud'] == 1]['amt'])\n",
    "plt.show()"
   ]
  },
  {
   "cell_type": "markdown",
   "id": "d2e2d82a",
   "metadata": {},
   "source": [
    "`Inferences:` There's no specific pattern, let's bucket the age column and see the trend towards transaction amount."
   ]
  },
  {
   "cell_type": "code",
   "execution_count": 34,
   "id": "fbae35c7",
   "metadata": {},
   "outputs": [
    {
     "data": {
      "text/html": [
       "<div>\n",
       "<style scoped>\n",
       "    .dataframe tbody tr th:only-of-type {\n",
       "        vertical-align: middle;\n",
       "    }\n",
       "\n",
       "    .dataframe tbody tr th {\n",
       "        vertical-align: top;\n",
       "    }\n",
       "\n",
       "    .dataframe thead th {\n",
       "        text-align: right;\n",
       "    }\n",
       "</style>\n",
       "<table border=\"1\" class=\"dataframe\">\n",
       "  <thead>\n",
       "    <tr style=\"text-align: right;\">\n",
       "      <th></th>\n",
       "      <th>trans_date_trans_time</th>\n",
       "      <th>cc_num</th>\n",
       "      <th>merchant</th>\n",
       "      <th>category</th>\n",
       "      <th>amt</th>\n",
       "      <th>first</th>\n",
       "      <th>last</th>\n",
       "      <th>gender</th>\n",
       "      <th>street</th>\n",
       "      <th>city</th>\n",
       "      <th>...</th>\n",
       "      <th>job</th>\n",
       "      <th>dob</th>\n",
       "      <th>trans_num</th>\n",
       "      <th>unix_time</th>\n",
       "      <th>merch_lat</th>\n",
       "      <th>merch_long</th>\n",
       "      <th>is_fraud</th>\n",
       "      <th>trans_year_month</th>\n",
       "      <th>cust_age</th>\n",
       "      <th>cust_age_groups</th>\n",
       "    </tr>\n",
       "  </thead>\n",
       "  <tbody>\n",
       "    <tr>\n",
       "      <th>0</th>\n",
       "      <td>2019-01-01 00:00:18</td>\n",
       "      <td>2703186189652095</td>\n",
       "      <td>fraud_Rippin, Kub and Mann</td>\n",
       "      <td>misc_net</td>\n",
       "      <td>4.97</td>\n",
       "      <td>Jennifer</td>\n",
       "      <td>Banks</td>\n",
       "      <td>F</td>\n",
       "      <td>561 Perry Cove</td>\n",
       "      <td>Moravian Falls</td>\n",
       "      <td>...</td>\n",
       "      <td>Psychologist, counselling</td>\n",
       "      <td>1988-03-09</td>\n",
       "      <td>0b242abb623afc578575680df30655b9</td>\n",
       "      <td>1325376018</td>\n",
       "      <td>36.011293</td>\n",
       "      <td>-82.048315</td>\n",
       "      <td>0</td>\n",
       "      <td>2019-01</td>\n",
       "      <td>33</td>\n",
       "      <td>30-40</td>\n",
       "    </tr>\n",
       "    <tr>\n",
       "      <th>1</th>\n",
       "      <td>2019-01-01 00:00:44</td>\n",
       "      <td>630423337322</td>\n",
       "      <td>fraud_Heller, Gutmann and Zieme</td>\n",
       "      <td>grocery_pos</td>\n",
       "      <td>107.23</td>\n",
       "      <td>Stephanie</td>\n",
       "      <td>Gill</td>\n",
       "      <td>F</td>\n",
       "      <td>43039 Riley Greens Suite 393</td>\n",
       "      <td>Orient</td>\n",
       "      <td>...</td>\n",
       "      <td>Special educational needs teacher</td>\n",
       "      <td>1978-06-21</td>\n",
       "      <td>1f76529f8574734946361c461b024d99</td>\n",
       "      <td>1325376044</td>\n",
       "      <td>49.159047</td>\n",
       "      <td>-118.186462</td>\n",
       "      <td>0</td>\n",
       "      <td>2019-01</td>\n",
       "      <td>43</td>\n",
       "      <td>40-50</td>\n",
       "    </tr>\n",
       "    <tr>\n",
       "      <th>2</th>\n",
       "      <td>2019-01-01 00:00:51</td>\n",
       "      <td>38859492057661</td>\n",
       "      <td>fraud_Lind-Buckridge</td>\n",
       "      <td>entertainment</td>\n",
       "      <td>220.11</td>\n",
       "      <td>Edward</td>\n",
       "      <td>Sanchez</td>\n",
       "      <td>M</td>\n",
       "      <td>594 White Dale Suite 530</td>\n",
       "      <td>Malad City</td>\n",
       "      <td>...</td>\n",
       "      <td>Nature conservation officer</td>\n",
       "      <td>1962-01-19</td>\n",
       "      <td>a1a22d70485983eac12b5b88dad1cf95</td>\n",
       "      <td>1325376051</td>\n",
       "      <td>43.150704</td>\n",
       "      <td>-112.154481</td>\n",
       "      <td>0</td>\n",
       "      <td>2019-01</td>\n",
       "      <td>59</td>\n",
       "      <td>50-60</td>\n",
       "    </tr>\n",
       "    <tr>\n",
       "      <th>3</th>\n",
       "      <td>2019-01-01 00:01:16</td>\n",
       "      <td>3534093764340240</td>\n",
       "      <td>fraud_Kutch, Hermiston and Farrell</td>\n",
       "      <td>gas_transport</td>\n",
       "      <td>45.00</td>\n",
       "      <td>Jeremy</td>\n",
       "      <td>White</td>\n",
       "      <td>M</td>\n",
       "      <td>9443 Cynthia Court Apt. 038</td>\n",
       "      <td>Boulder</td>\n",
       "      <td>...</td>\n",
       "      <td>Patent attorney</td>\n",
       "      <td>1967-01-12</td>\n",
       "      <td>6b849c168bdad6f867558c3793159a81</td>\n",
       "      <td>1325376076</td>\n",
       "      <td>47.034331</td>\n",
       "      <td>-112.561071</td>\n",
       "      <td>0</td>\n",
       "      <td>2019-01</td>\n",
       "      <td>54</td>\n",
       "      <td>50-60</td>\n",
       "    </tr>\n",
       "    <tr>\n",
       "      <th>4</th>\n",
       "      <td>2019-01-01 00:03:06</td>\n",
       "      <td>375534208663984</td>\n",
       "      <td>fraud_Keeling-Crist</td>\n",
       "      <td>misc_pos</td>\n",
       "      <td>41.96</td>\n",
       "      <td>Tyler</td>\n",
       "      <td>Garcia</td>\n",
       "      <td>M</td>\n",
       "      <td>408 Bradley Rest</td>\n",
       "      <td>Doe Hill</td>\n",
       "      <td>...</td>\n",
       "      <td>Dance movement psychotherapist</td>\n",
       "      <td>1986-03-28</td>\n",
       "      <td>a41d7549acf90789359a9aa5346dcb46</td>\n",
       "      <td>1325376186</td>\n",
       "      <td>38.674999</td>\n",
       "      <td>-78.632459</td>\n",
       "      <td>0</td>\n",
       "      <td>2019-01</td>\n",
       "      <td>35</td>\n",
       "      <td>30-40</td>\n",
       "    </tr>\n",
       "  </tbody>\n",
       "</table>\n",
       "<p>5 rows × 25 columns</p>\n",
       "</div>"
      ],
      "text/plain": [
       "  trans_date_trans_time            cc_num                            merchant  \\\n",
       "0   2019-01-01 00:00:18  2703186189652095          fraud_Rippin, Kub and Mann   \n",
       "1   2019-01-01 00:00:44      630423337322     fraud_Heller, Gutmann and Zieme   \n",
       "2   2019-01-01 00:00:51    38859492057661                fraud_Lind-Buckridge   \n",
       "3   2019-01-01 00:01:16  3534093764340240  fraud_Kutch, Hermiston and Farrell   \n",
       "4   2019-01-01 00:03:06   375534208663984                 fraud_Keeling-Crist   \n",
       "\n",
       "        category     amt      first     last gender  \\\n",
       "0       misc_net    4.97   Jennifer    Banks      F   \n",
       "1    grocery_pos  107.23  Stephanie     Gill      F   \n",
       "2  entertainment  220.11     Edward  Sanchez      M   \n",
       "3  gas_transport   45.00     Jeremy    White      M   \n",
       "4       misc_pos   41.96      Tyler   Garcia      M   \n",
       "\n",
       "                         street            city  ...  \\\n",
       "0                561 Perry Cove  Moravian Falls  ...   \n",
       "1  43039 Riley Greens Suite 393          Orient  ...   \n",
       "2      594 White Dale Suite 530      Malad City  ...   \n",
       "3   9443 Cynthia Court Apt. 038         Boulder  ...   \n",
       "4              408 Bradley Rest        Doe Hill  ...   \n",
       "\n",
       "                                 job        dob  \\\n",
       "0          Psychologist, counselling 1988-03-09   \n",
       "1  Special educational needs teacher 1978-06-21   \n",
       "2        Nature conservation officer 1962-01-19   \n",
       "3                    Patent attorney 1967-01-12   \n",
       "4     Dance movement psychotherapist 1986-03-28   \n",
       "\n",
       "                          trans_num   unix_time  merch_lat  merch_long  \\\n",
       "0  0b242abb623afc578575680df30655b9  1325376018  36.011293  -82.048315   \n",
       "1  1f76529f8574734946361c461b024d99  1325376044  49.159047 -118.186462   \n",
       "2  a1a22d70485983eac12b5b88dad1cf95  1325376051  43.150704 -112.154481   \n",
       "3  6b849c168bdad6f867558c3793159a81  1325376076  47.034331 -112.561071   \n",
       "4  a41d7549acf90789359a9aa5346dcb46  1325376186  38.674999  -78.632459   \n",
       "\n",
       "  is_fraud trans_year_month  cust_age  cust_age_groups  \n",
       "0        0          2019-01        33            30-40  \n",
       "1        0          2019-01        43            40-50  \n",
       "2        0          2019-01        59            50-60  \n",
       "3        0          2019-01        54            50-60  \n",
       "4        0          2019-01        35            30-40  \n",
       "\n",
       "[5 rows x 25 columns]"
      ]
     },
     "execution_count": 34,
     "metadata": {},
     "output_type": "execute_result"
    }
   ],
   "source": [
    "# let's bucket the age column\n",
    "df['cust_age_groups'] = df['cust_age'].apply(lambda x: 'below 10' if x<10 else ('10-20' if x>=10 and x<20 else ('20-30' if x>=20 and x<30 else('30-40' if x>=30 and x<40 else('40-50' if x>=40 and x<50 else('50-60' if x>=50 and x<60 else('60-70' if x>=60 and x<70 else ('70-80' if x>=70 and x<80 else 'Above 80'))))))))\n",
    "\n",
    "# check\n",
    "df.head()"
   ]
  },
  {
   "cell_type": "code",
   "execution_count": 35,
   "id": "b3b9f006",
   "metadata": {},
   "outputs": [
    {
     "data": {
      "text/html": [
       "<div>\n",
       "<style scoped>\n",
       "    .dataframe tbody tr th:only-of-type {\n",
       "        vertical-align: middle;\n",
       "    }\n",
       "\n",
       "    .dataframe tbody tr th {\n",
       "        vertical-align: top;\n",
       "    }\n",
       "\n",
       "    .dataframe thead th {\n",
       "        text-align: right;\n",
       "    }\n",
       "</style>\n",
       "<table border=\"1\" class=\"dataframe\">\n",
       "  <thead>\n",
       "    <tr style=\"text-align: right;\">\n",
       "      <th>is_fraud</th>\n",
       "      <th>0</th>\n",
       "      <th>1</th>\n",
       "    </tr>\n",
       "    <tr>\n",
       "      <th>cust_age_groups</th>\n",
       "      <th></th>\n",
       "      <th></th>\n",
       "    </tr>\n",
       "  </thead>\n",
       "  <tbody>\n",
       "    <tr>\n",
       "      <th>10-20</th>\n",
       "      <td>19662</td>\n",
       "      <td>72</td>\n",
       "    </tr>\n",
       "    <tr>\n",
       "      <th>20-30</th>\n",
       "      <td>240278</td>\n",
       "      <td>1299</td>\n",
       "    </tr>\n",
       "    <tr>\n",
       "      <th>30-40</th>\n",
       "      <td>431724</td>\n",
       "      <td>1870</td>\n",
       "    </tr>\n",
       "    <tr>\n",
       "      <th>40-50</th>\n",
       "      <td>419342</td>\n",
       "      <td>1642</td>\n",
       "    </tr>\n",
       "    <tr>\n",
       "      <th>50-60</th>\n",
       "      <td>294902</td>\n",
       "      <td>1832</td>\n",
       "    </tr>\n",
       "    <tr>\n",
       "      <th>60-70</th>\n",
       "      <td>211150</td>\n",
       "      <td>1373</td>\n",
       "    </tr>\n",
       "    <tr>\n",
       "      <th>70-80</th>\n",
       "      <td>115033</td>\n",
       "      <td>714</td>\n",
       "    </tr>\n",
       "    <tr>\n",
       "      <th>Above 80</th>\n",
       "      <td>110652</td>\n",
       "      <td>849</td>\n",
       "    </tr>\n",
       "  </tbody>\n",
       "</table>\n",
       "</div>"
      ],
      "text/plain": [
       "is_fraud              0     1\n",
       "cust_age_groups              \n",
       "10-20             19662    72\n",
       "20-30            240278  1299\n",
       "30-40            431724  1870\n",
       "40-50            419342  1642\n",
       "50-60            294902  1832\n",
       "60-70            211150  1373\n",
       "70-80            115033   714\n",
       "Above 80         110652   849"
      ]
     },
     "execution_count": 35,
     "metadata": {},
     "output_type": "execute_result"
    }
   ],
   "source": [
    "# now let's see which customer age group was more prone towards the number of fraudulent transactions\n",
    "age_piv = pd.pivot_table(data = df,\n",
    "                         index = 'cust_age_groups',\n",
    "                         columns = 'is_fraud',\n",
    "                         values = 'trans_num',\n",
    "                         aggfunc = 'count')\n",
    "\n",
    "# check\n",
    "age_piv"
   ]
  },
  {
   "cell_type": "code",
   "execution_count": 36,
   "id": "ab57c050",
   "metadata": {},
   "outputs": [
    {
     "data": {
      "text/plain": [
       "<Axes: title={'center': 'Age group vulnerability'}, xlabel='Age groups', ylabel='No. of transactions'>"
      ]
     },
     "execution_count": 36,
     "metadata": {},
     "output_type": "execute_result"
    },
    {
     "data": {
      "image/png": "[encoded data removed]",
      "text/plain": [
       "<Figure size 900x300 with 1 Axes>"
      ]
     },
     "metadata": {},
     "output_type": "display_data"
    }
   ],
   "source": [
    "age_piv.plot(kind = 'bar', title = 'Age group vulnerability', xlabel = 'Age groups',ylabel = 'No. of transactions',figsize = (9,3),rot = 45 )"
   ]
  },
  {
   "cell_type": "code",
   "execution_count": 37,
   "id": "516e0719",
   "metadata": {},
   "outputs": [
    {
     "data": {
      "image/png": "[encoded data removed]",
      "text/plain": [
       "<Figure size 900x300 with 1 Axes>"
      ]
     },
     "metadata": {},
     "output_type": "display_data"
    }
   ],
   "source": [
    "# let's see only fraudlent transactions \n",
    "plt.figure(figsize = (9,3))\n",
    "plt.title('Age group vulnerability')\n",
    "sns.barplot(data = age_piv, x = age_piv.index, y = age_piv[1].values )\n",
    "plt.xlabel('customer age groups')\n",
    "plt.ylabel('Number of Fradulent transactions')\n",
    "plt.show()"
   ]
  },
  {
   "cell_type": "markdown",
   "id": "034cb450",
   "metadata": {},
   "source": [
    "`Inferences:`\n",
    "Customers who are in the 30-40 age group are more vulnerable to the number of fradulent transactions."
   ]
  },
  {
   "cell_type": "markdown",
   "id": "5e4cccba",
   "metadata": {},
   "source": [
    "Let's find how much it costed for the bank on an average for each age group in the case of fradulent transactions."
   ]
  },
  {
   "cell_type": "code",
   "execution_count": 38,
   "id": "96579666",
   "metadata": {},
   "outputs": [
    {
     "data": {
      "text/html": [
       "<div>\n",
       "<style scoped>\n",
       "    .dataframe tbody tr th:only-of-type {\n",
       "        vertical-align: middle;\n",
       "    }\n",
       "\n",
       "    .dataframe tbody tr th {\n",
       "        vertical-align: top;\n",
       "    }\n",
       "\n",
       "    .dataframe thead th {\n",
       "        text-align: right;\n",
       "    }\n",
       "</style>\n",
       "<table border=\"1\" class=\"dataframe\">\n",
       "  <thead>\n",
       "    <tr style=\"text-align: right;\">\n",
       "      <th>is_fraud</th>\n",
       "      <th>0</th>\n",
       "      <th>1</th>\n",
       "    </tr>\n",
       "    <tr>\n",
       "      <th>cust_age_groups</th>\n",
       "      <th></th>\n",
       "      <th></th>\n",
       "    </tr>\n",
       "  </thead>\n",
       "  <tbody>\n",
       "    <tr>\n",
       "      <th>10-20</th>\n",
       "      <td>62.804052</td>\n",
       "      <td>570.907083</td>\n",
       "    </tr>\n",
       "    <tr>\n",
       "      <th>20-30</th>\n",
       "      <td>65.090333</td>\n",
       "      <td>547.980169</td>\n",
       "    </tr>\n",
       "    <tr>\n",
       "      <th>30-40</th>\n",
       "      <td>71.807532</td>\n",
       "      <td>501.161610</td>\n",
       "    </tr>\n",
       "    <tr>\n",
       "      <th>40-50</th>\n",
       "      <td>72.071064</td>\n",
       "      <td>458.982582</td>\n",
       "    </tr>\n",
       "    <tr>\n",
       "      <th>50-60</th>\n",
       "      <td>65.087352</td>\n",
       "      <td>551.289754</td>\n",
       "    </tr>\n",
       "    <tr>\n",
       "      <th>60-70</th>\n",
       "      <td>62.254365</td>\n",
       "      <td>571.760291</td>\n",
       "    </tr>\n",
       "    <tr>\n",
       "      <th>70-80</th>\n",
       "      <td>62.767527</td>\n",
       "      <td>581.812213</td>\n",
       "    </tr>\n",
       "    <tr>\n",
       "      <th>Above 80</th>\n",
       "      <td>63.316478</td>\n",
       "      <td>550.361013</td>\n",
       "    </tr>\n",
       "  </tbody>\n",
       "</table>\n",
       "</div>"
      ],
      "text/plain": [
       "is_fraud                 0           1\n",
       "cust_age_groups                       \n",
       "10-20            62.804052  570.907083\n",
       "20-30            65.090333  547.980169\n",
       "30-40            71.807532  501.161610\n",
       "40-50            72.071064  458.982582\n",
       "50-60            65.087352  551.289754\n",
       "60-70            62.254365  571.760291\n",
       "70-80            62.767527  581.812213\n",
       "Above 80         63.316478  550.361013"
      ]
     },
     "execution_count": 38,
     "metadata": {},
     "output_type": "execute_result"
    }
   ],
   "source": [
    "age_piv_2 = pd.pivot_table(data = df,\n",
    "                           index = 'cust_age_groups',\n",
    "                           columns = 'is_fraud',\n",
    "                           values = 'amt',\n",
    "                           aggfunc = np.mean)\n",
    "\n",
    "# check\n",
    "age_piv_2"
   ]
  },
  {
   "cell_type": "code",
   "execution_count": 39,
   "id": "45c2be83",
   "metadata": {
    "scrolled": false
   },
   "outputs": [
    {
     "data": {
      "image/png": "[encoded data removed]",
      "text/plain": [
       "<Figure size 1500x750 with 1 Axes>"
      ]
     },
     "metadata": {},
     "output_type": "display_data"
    }
   ],
   "source": [
    "# let's visualize only the fraudlent transactions \n",
    "plt.figure(figsize = (15,7.5))\n",
    "plt.title('Avg Cost incurred to Bank due to the fraudulent transactions')\n",
    "sns.barplot(data = age_piv_2, x = age_piv_2.index, y = age_piv_2[1].values)\n",
    "plt.axhline(y = 530.66, color = 'r', linestyle = '-', label = 'Avg amount per fraudulent transaction')\n",
    "plt.grid()\n",
    "plt.xlabel('customer age groups')\n",
    "plt.ylabel('Avg Cost in $ (USD)')\n",
    "plt.legend()\n",
    "plt.show()"
   ]
  },
  {
   "cell_type": "markdown",
   "id": "0e31a67d",
   "metadata": {},
   "source": [
    "`Inferences:` \n",
    "Avg cost incurred is greater than the overall average transaction amount per fraudulent transaction, for the customers belonging to the age groups `10-30` and `>=50`"
   ]
  },
  {
   "cell_type": "code",
   "execution_count": 40,
   "id": "c13f5298",
   "metadata": {},
   "outputs": [
    {
     "data": {
      "text/html": [
       "<div>\n",
       "<style scoped>\n",
       "    .dataframe tbody tr th:only-of-type {\n",
       "        vertical-align: middle;\n",
       "    }\n",
       "\n",
       "    .dataframe tbody tr th {\n",
       "        vertical-align: top;\n",
       "    }\n",
       "\n",
       "    .dataframe thead th {\n",
       "        text-align: right;\n",
       "    }\n",
       "</style>\n",
       "<table border=\"1\" class=\"dataframe\">\n",
       "  <thead>\n",
       "    <tr style=\"text-align: right;\">\n",
       "      <th></th>\n",
       "      <th>is_fraud</th>\n",
       "      <th>0</th>\n",
       "      <th>1</th>\n",
       "    </tr>\n",
       "    <tr>\n",
       "      <th>cust_age_groups</th>\n",
       "      <th>gender</th>\n",
       "      <th></th>\n",
       "      <th></th>\n",
       "    </tr>\n",
       "  </thead>\n",
       "  <tbody>\n",
       "    <tr>\n",
       "      <th rowspan=\"2\" valign=\"top\">10-20</th>\n",
       "      <th>F</th>\n",
       "      <td>62.810493</td>\n",
       "      <td>462.360000</td>\n",
       "    </tr>\n",
       "    <tr>\n",
       "      <th>M</th>\n",
       "      <td>62.798893</td>\n",
       "      <td>657.744750</td>\n",
       "    </tr>\n",
       "    <tr>\n",
       "      <th rowspan=\"2\" valign=\"top\">20-30</th>\n",
       "      <th>F</th>\n",
       "      <td>66.296307</td>\n",
       "      <td>507.903902</td>\n",
       "    </tr>\n",
       "    <tr>\n",
       "      <th>M</th>\n",
       "      <td>63.808292</td>\n",
       "      <td>599.881060</td>\n",
       "    </tr>\n",
       "    <tr>\n",
       "      <th rowspan=\"2\" valign=\"top\">30-40</th>\n",
       "      <th>F</th>\n",
       "      <td>71.160408</td>\n",
       "      <td>416.308351</td>\n",
       "    </tr>\n",
       "    <tr>\n",
       "      <th>M</th>\n",
       "      <td>72.772864</td>\n",
       "      <td>584.753779</td>\n",
       "    </tr>\n",
       "    <tr>\n",
       "      <th rowspan=\"2\" valign=\"top\">40-50</th>\n",
       "      <th>F</th>\n",
       "      <td>71.632860</td>\n",
       "      <td>360.021517</td>\n",
       "    </tr>\n",
       "    <tr>\n",
       "      <th>M</th>\n",
       "      <td>72.614785</td>\n",
       "      <td>553.928520</td>\n",
       "    </tr>\n",
       "    <tr>\n",
       "      <th rowspan=\"2\" valign=\"top\">50-60</th>\n",
       "      <th>F</th>\n",
       "      <td>66.886574</td>\n",
       "      <td>522.047746</td>\n",
       "    </tr>\n",
       "    <tr>\n",
       "      <th>M</th>\n",
       "      <td>63.224855</td>\n",
       "      <td>573.657919</td>\n",
       "    </tr>\n",
       "    <tr>\n",
       "      <th rowspan=\"2\" valign=\"top\">60-70</th>\n",
       "      <th>F</th>\n",
       "      <td>61.881839</td>\n",
       "      <td>573.675787</td>\n",
       "    </tr>\n",
       "    <tr>\n",
       "      <th>M</th>\n",
       "      <td>62.653632</td>\n",
       "      <td>569.371408</td>\n",
       "    </tr>\n",
       "    <tr>\n",
       "      <th rowspan=\"2\" valign=\"top\">70-80</th>\n",
       "      <th>F</th>\n",
       "      <td>62.008964</td>\n",
       "      <td>578.499973</td>\n",
       "    </tr>\n",
       "    <tr>\n",
       "      <th>M</th>\n",
       "      <td>63.565175</td>\n",
       "      <td>585.256943</td>\n",
       "    </tr>\n",
       "    <tr>\n",
       "      <th rowspan=\"2\" valign=\"top\">Above 80</th>\n",
       "      <th>F</th>\n",
       "      <td>63.620022</td>\n",
       "      <td>576.027386</td>\n",
       "    </tr>\n",
       "    <tr>\n",
       "      <th>M</th>\n",
       "      <td>62.824387</td>\n",
       "      <td>516.652044</td>\n",
       "    </tr>\n",
       "  </tbody>\n",
       "</table>\n",
       "</div>"
      ],
      "text/plain": [
       "is_fraud                        0           1\n",
       "cust_age_groups gender                       \n",
       "10-20           F       62.810493  462.360000\n",
       "                M       62.798893  657.744750\n",
       "20-30           F       66.296307  507.903902\n",
       "                M       63.808292  599.881060\n",
       "30-40           F       71.160408  416.308351\n",
       "                M       72.772864  584.753779\n",
       "40-50           F       71.632860  360.021517\n",
       "                M       72.614785  553.928520\n",
       "50-60           F       66.886574  522.047746\n",
       "                M       63.224855  573.657919\n",
       "60-70           F       61.881839  573.675787\n",
       "                M       62.653632  569.371408\n",
       "70-80           F       62.008964  578.499973\n",
       "                M       63.565175  585.256943\n",
       "Above 80        F       63.620022  576.027386\n",
       "                M       62.824387  516.652044"
      ]
     },
     "execution_count": 40,
     "metadata": {},
     "output_type": "execute_result"
    }
   ],
   "source": [
    "# deep dive into gender\n",
    "age_gen_piv = pd.pivot_table(data = df,\n",
    "                           index = ['cust_age_groups','gender'],\n",
    "                           columns = 'is_fraud',\n",
    "                           values = 'amt',\n",
    "                           aggfunc = np.mean)\n",
    "\n",
    "# check\n",
    "age_gen_piv"
   ]
  },
  {
   "cell_type": "markdown",
   "id": "2507ad10",
   "metadata": {},
   "source": [
    "`Inferences:` Banks average compensation is high for the males belonging to age group `10-20` which is $657.74. Except `60-70` and `Above 80` in all the other age groups, males are dominating more in terms of average compensation received compared to their female counterparts."
   ]
  },
  {
   "cell_type": "markdown",
   "id": "24d0a2a3",
   "metadata": {},
   "source": [
    "#### Analysis w.r.t. Customers Job categories "
   ]
  },
  {
   "cell_type": "code",
   "execution_count": 42,
   "id": "39f9dfe4",
   "metadata": {},
   "outputs": [
    {
     "data": {
      "text/plain": [
       "job\n",
       "Film/video editor                 13898\n",
       "Exhibition designer               13167\n",
       "Surveyor, land/geomatics          12436\n",
       "Naval architect                   12434\n",
       "Materials engineer                11711\n",
       "                                  ...  \n",
       "Engineer, water                       8\n",
       "Armed forces technical officer        8\n",
       "Ship broker                           7\n",
       "Warehouse manager                     7\n",
       "Contracting civil engineer            7\n",
       "Name: count, Length: 497, dtype: int64"
      ]
     },
     "execution_count": 42,
     "metadata": {},
     "output_type": "execute_result"
    }
   ],
   "source": [
    "# see all the customer job categories in the data\n",
    "df['job'].value_counts()"
   ]
  },
  {
   "cell_type": "markdown",
   "id": "f601db41",
   "metadata": {},
   "source": [
    "Is there any relationship between Customer's professional information and the fraudulent transactions?"
   ]
  },
  {
   "cell_type": "code",
   "execution_count": 43,
   "id": "b38d5047",
   "metadata": {},
   "outputs": [],
   "source": [
    "job_txn_piv = pd.pivot_table(data = df,\n",
    "                         index = 'job',\n",
    "                         columns = 'is_fraud',\n",
    "                         values = 'trans_num',\n",
    "                         aggfunc = 'count')\n",
    "\n",
    "\n",
    "job_txn_piv.sort_values(by = 1, ascending = False, inplace = True)"
   ]
  },
  {
   "cell_type": "code",
   "execution_count": 44,
   "id": "0d215860",
   "metadata": {},
   "outputs": [
    {
     "data": {
      "text/html": [
       "<div>\n",
       "<style scoped>\n",
       "    .dataframe tbody tr th:only-of-type {\n",
       "        vertical-align: middle;\n",
       "    }\n",
       "\n",
       "    .dataframe tbody tr th {\n",
       "        vertical-align: top;\n",
       "    }\n",
       "\n",
       "    .dataframe thead th {\n",
       "        text-align: right;\n",
       "    }\n",
       "</style>\n",
       "<table border=\"1\" class=\"dataframe\">\n",
       "  <thead>\n",
       "    <tr style=\"text-align: right;\">\n",
       "      <th>is_fraud</th>\n",
       "      <th>0</th>\n",
       "      <th>1</th>\n",
       "    </tr>\n",
       "    <tr>\n",
       "      <th>job</th>\n",
       "      <th></th>\n",
       "      <th></th>\n",
       "    </tr>\n",
       "  </thead>\n",
       "  <tbody>\n",
       "    <tr>\n",
       "      <th>Quantity surveyor</th>\n",
       "      <td>8011.0</td>\n",
       "      <td>69.0</td>\n",
       "    </tr>\n",
       "    <tr>\n",
       "      <th>Naval architect</th>\n",
       "      <td>12368.0</td>\n",
       "      <td>66.0</td>\n",
       "    </tr>\n",
       "    <tr>\n",
       "      <th>Materials engineer</th>\n",
       "      <td>11649.0</td>\n",
       "      <td>62.0</td>\n",
       "    </tr>\n",
       "    <tr>\n",
       "      <th>Audiological scientist</th>\n",
       "      <td>8743.0</td>\n",
       "      <td>58.0</td>\n",
       "    </tr>\n",
       "    <tr>\n",
       "      <th>Senior tax professional/tax inspector</th>\n",
       "      <td>5820.0</td>\n",
       "      <td>57.0</td>\n",
       "    </tr>\n",
       "    <tr>\n",
       "      <th>Trading standards officer</th>\n",
       "      <td>6555.0</td>\n",
       "      <td>56.0</td>\n",
       "    </tr>\n",
       "    <tr>\n",
       "      <th>Podiatrist</th>\n",
       "      <td>9471.0</td>\n",
       "      <td>54.0</td>\n",
       "    </tr>\n",
       "    <tr>\n",
       "      <th>Film/video editor</th>\n",
       "      <td>13846.0</td>\n",
       "      <td>52.0</td>\n",
       "    </tr>\n",
       "    <tr>\n",
       "      <th>Exhibition designer</th>\n",
       "      <td>13116.0</td>\n",
       "      <td>51.0</td>\n",
       "    </tr>\n",
       "    <tr>\n",
       "      <th>Colour technologist</th>\n",
       "      <td>5095.0</td>\n",
       "      <td>51.0</td>\n",
       "    </tr>\n",
       "  </tbody>\n",
       "</table>\n",
       "</div>"
      ],
      "text/plain": [
       "is_fraud                                     0     1\n",
       "job                                                 \n",
       "Quantity surveyor                       8011.0  69.0\n",
       "Naval architect                        12368.0  66.0\n",
       "Materials engineer                     11649.0  62.0\n",
       "Audiological scientist                  8743.0  58.0\n",
       "Senior tax professional/tax inspector   5820.0  57.0\n",
       "Trading standards officer               6555.0  56.0\n",
       "Podiatrist                              9471.0  54.0\n",
       "Film/video editor                      13846.0  52.0\n",
       "Exhibition designer                    13116.0  51.0\n",
       "Colour technologist                     5095.0  51.0"
      ]
     },
     "execution_count": 44,
     "metadata": {},
     "output_type": "execute_result"
    }
   ],
   "source": [
    "# check the top 10 job categories of the customers which are more vulnerable towards fradulent transactions\n",
    "job_txn_piv[:10]"
   ]
  },
  {
   "cell_type": "code",
   "execution_count": null,
   "id": "f9375906",
   "metadata": {},
   "outputs": [],
   "source": [
    "# avg cost incurred to bank due to fraudulent transactions w.r.t. each customer job category\n",
    "job_txn_piv_2 = pd.pivot_table(data = df,\n",
    "                               index = 'job',\n",
    "                               columns = 'is_fraud',\n",
    "                               values= 'amt',\n",
    "                               aggfunc = np.mean)\n",
    "\n",
    "# check\n",
    "job_txn_piv_2"
   ]
  },
  {
   "cell_type": "code",
   "execution_count": null,
   "id": "d941bcaa",
   "metadata": {},
   "outputs": [],
   "source": [
    "# visualizing the top 10 job categories from high avg cost\n",
    "job_txn_piv_2.sort_values(by = 1, ascending = False, inplace = True)\n",
    "\n",
    "# check\n",
    "job_txn_piv_2[:10]"
   ]
  },
  {
   "cell_type": "code",
   "execution_count": null,
   "id": "ef194475",
   "metadata": {},
   "outputs": [],
   "source": [
    "plt.figure(figsize = (12,3))\n",
    "plt.title('Top 10 Job categories of the customers affected by the fraudulent transactions')\n",
    "sns.barplot(data = job_txn_piv_2, x = job_txn_piv_2.index.values[:10], y = job_txn_piv_2[1].values[:10])\n",
    "plt.xlabel('Job categories')\n",
    "plt.ylabel('Avg fraudulent transaction cost in $')\n",
    "plt.xticks(rotation = 45)\n",
    "plt.show()"
   ]
  },
  {
   "cell_type": "markdown",
   "id": "5f04dc6c",
   "metadata": {},
   "source": [
    "`Inferences:`Average cost incurred is highest for those customers who are Health promotion specialists. It is $920.25"
   ]
  },
  {
   "cell_type": "markdown",
   "id": "fe8beb7e",
   "metadata": {},
   "source": [
    "#### Top states having high average cost incurred to bank"
   ]
  },
  {
   "cell_type": "code",
   "execution_count": null,
   "id": "961f19b7",
   "metadata": {},
   "outputs": [],
   "source": [
    "state_piv = pd.pivot_table(data = df,\n",
    "                           index = 'state',\n",
    "                           columns = 'is_fraud',\n",
    "                           values = 'amt',\n",
    "                           aggfunc = np.mean)\n",
    "# check\n",
    "state_piv"
   ]
  },
  {
   "cell_type": "code",
   "execution_count": null,
   "id": "773fc5cd",
   "metadata": {},
   "outputs": [],
   "source": [
    "state_piv.sort_values(by = 1, ascending = False)"
   ]
  },
  {
   "cell_type": "markdown",
   "id": "1c9e226c",
   "metadata": {},
   "source": [
    "`Inferences:` Average cost per month incurred to bank is highest for those customers who belong to `Rhode Island` state, which is $732.98."
   ]
  },
  {
   "cell_type": "markdown",
   "id": "99b0a60e",
   "metadata": {},
   "source": [
    "#### How city population varies w.r.t. the Fraudulent transaction amount ?"
   ]
  },
  {
   "cell_type": "code",
   "execution_count": null,
   "id": "13cafaf4",
   "metadata": {
    "scrolled": false
   },
   "outputs": [],
   "source": [
    "plt.figure(figsize = (12,3))\n",
    "plt.title('Fraudulent Transaction amount w.r.t City population')\n",
    "sns.scatterplot(data = df[df['is_fraud'] == 1], x = df[df['is_fraud'] == 1]['city_pop'], y = df[df['is_fraud'] == 1]['amt'])\n",
    "plt.xlabel('City population')\n",
    "plt.ylabel('Transaction amount in $ (USD)')\n",
    "plt.show()"
   ]
  },
  {
   "cell_type": "markdown",
   "id": "62e282be",
   "metadata": {},
   "source": [
    "`Inferences:` There's no specific pattern observed."
   ]
  },
  {
   "cell_type": "code",
   "execution_count": null,
   "id": "4878efc6",
   "metadata": {},
   "outputs": [],
   "source": [
    "df.info()"
   ]
  },
  {
   "cell_type": "markdown",
   "id": "8ffeabe0",
   "metadata": {},
   "source": [
    "#### Top cities which are having high avg cost incurred to bank"
   ]
  },
  {
   "cell_type": "code",
   "execution_count": null,
   "id": "2af1b011",
   "metadata": {},
   "outputs": [],
   "source": [
    "# deriving a column containing city and its respective state\n",
    "df['city-state'] = df['city']+'-'+df['state']\n",
    "\n",
    "# check\n",
    "df['city-state']"
   ]
  },
  {
   "cell_type": "code",
   "execution_count": null,
   "id": "1db9285d",
   "metadata": {},
   "outputs": [],
   "source": [
    "# pivoting\n",
    "city_piv = pd.pivot_table(data = df,\n",
    "                          index = 'city-state',\n",
    "                          columns = 'is_fraud',\n",
    "                          values = 'amt',\n",
    "                          aggfunc = np.mean)\n",
    "\n",
    "# check\n",
    "city_piv"
   ]
  },
  {
   "cell_type": "code",
   "execution_count": null,
   "id": "b8fd323e",
   "metadata": {},
   "outputs": [],
   "source": [
    "# orderding the cost incurred due to fraudulent transactions in descending order\n",
    "city_piv.sort_values(by = 1, ascending = False, inplace = True)\n",
    "\n",
    "# check the top 10 cities\n",
    "city_piv[:10]"
   ]
  },
  {
   "cell_type": "markdown",
   "id": "25aa5865",
   "metadata": {},
   "source": [
    "`Inferences:` \n",
    "- Average cost per month incurred to bank is highest for those customers who belong to `De Lancey` city in `Newyork` state, which is `$926.15`.\n",
    "- Cities North East and Karns City, both belonging to Pennsylvania state have recorded only the Fraudulent transactions.  "
   ]
  },
  {
   "cell_type": "markdown",
   "id": "37ad1fb0",
   "metadata": {},
   "source": [
    "#### Let's plot on the map and see the pattern across various cities."
   ]
  },
  {
   "cell_type": "code",
   "execution_count": null,
   "id": "f6b8a334",
   "metadata": {},
   "outputs": [],
   "source": [
    "# installing plotly\n",
    "# !pip install plotly"
   ]
  },
  {
   "cell_type": "code",
   "execution_count": null,
   "id": "53d80a49",
   "metadata": {
    "scrolled": false
   },
   "outputs": [],
   "source": [
    "import plotly.graph_objects as go\n",
    "\n",
    "fig = go.Figure(data=go.Scattergeo(\n",
    "    lon = df[df['is_fraud'] == 1]['long'],  \n",
    "    lat = df[df['is_fraud'] == 1]['lat'],   \n",
    "    text = df[df['is_fraud'] == 1]['city-state'],     \n",
    "    marker = dict(\n",
    "        size = df[df['is_fraud'] == 1]['amt'],  \n",
    "        sizemode = 'area',\n",
    "        sizeref = 10,\n",
    "        sizemin = 8,\n",
    "        color = df[df['is_fraud'] == 1]['amt'], \n",
    "        colorbar = dict(\n",
    "            title = 'Fraduluent Transaction amount across various cities'\n",
    "        ),\n",
    "        colorscale = 'Viridis',\n",
    "        reversescale = True,\n",
    "        opacity = 0.7,\n",
    "        line = dict(\n",
    "            width = 0.5,\n",
    "            color = 'rgb(40,40,40)'\n",
    "        ),\n",
    "        cmin = 0\n",
    "    )\n",
    "))\n",
    "\n",
    "fig.update_layout(\n",
    "    title = 'Cities with Fraudulent transaction amount',\n",
    "    geo = dict(\n",
    "        scope = 'world',\n",
    "        showland = True,\n",
    "        landcolor = 'rgb(217, 217, 217)',\n",
    "        subunitcolor = 'rgb(255, 255, 255)',\n",
    "        countrycolor = 'rgb(255, 255, 255)',\n",
    "        showlakes = True,\n",
    "        lakecolor = 'rgb(255, 255, 255)',\n",
    "        showsubunits = True,\n",
    "        showcountries = True,\n",
    "        resolution = 50,\n",
    "        projection = dict(\n",
    "            type = 'equirectangular',\n",
    "            scale = 5\n",
    "        ),\n",
    "        lonaxis = dict(\n",
    "            showgrid = True,\n",
    "            gridwidth = 0.5,\n",
    "            range= [df[df['is_fraud'] == 1]['long'].min() - 5, df[df['is_fraud'] == 1]['long'].max() + 5]  # Adjust the range accordingly\n",
    "        ),\n",
    "        lataxis = dict(\n",
    "            showgrid = True,\n",
    "            gridwidth = 0.5,\n",
    "            range= [df[df['is_fraud'] == 1]['lat'].min() - 5, df[df['is_fraud'] == 1]['lat'].max() + 5]  # Adjust the range accordingly\n",
    "        )\n",
    "    )\n",
    ")\n",
    "\n",
    "fig.show()\n"
   ]
  },
  {
   "cell_type": "markdown",
   "id": "e81f17a1",
   "metadata": {},
   "source": [
    "`Inferences:` As we see, the concentration of Fraudulent transactions is more in Eastern USA."
   ]
  },
  {
   "cell_type": "markdown",
   "id": "3574630b",
   "metadata": {},
   "source": [
    "#### Top merchant categories which are targeted while performing fraudulent transactions in terms of average transaction amount."
   ]
  },
  {
   "cell_type": "code",
   "execution_count": null,
   "id": "e4ad5bed",
   "metadata": {},
   "outputs": [],
   "source": [
    "# df[df['is_fraud'] == 1].groupby('category')['amt'].mean().sort_values(ascending = False)\n",
    "merch_piv = pd.pivot_table(data = df,\n",
    "                           index = df['category'],\n",
    "                           columns = 'is_fraud',\n",
    "                           values = 'amt',\n",
    "                           aggfunc = np.mean)\n",
    "\n",
    "# check\n",
    "merch_piv"
   ]
  },
  {
   "cell_type": "code",
   "execution_count": null,
   "id": "bcc64a2d",
   "metadata": {},
   "outputs": [],
   "source": [
    "# Merchant categories which costed greater than or equal to the average fraudulent transaction cost\n",
    "merch_piv[merch_piv[1]>=530.66]"
   ]
  },
  {
   "cell_type": "code",
   "execution_count": null,
   "id": "fc6e933f",
   "metadata": {},
   "outputs": [],
   "source": [
    "plt.figure(figsize = (15,5))\n",
    "plt.title(\"Average transaction amount across all merchant categories\")\n",
    "sns.barplot(data = merch_piv,\n",
    "            x = merch_piv.index,\n",
    "            y = merch_piv[1])\n",
    "plt.axhline(y = 530.66, color = 'r', linestyle = '-', label = 'Avg amount per fraudulent transaction')\n",
    "plt.xticks(rotation = 45)\n",
    "plt.xlabel('Merchant categories')\n",
    "plt.ylabel('Average transaction amount in $')\n",
    "plt.legend()\n",
    "plt.grid()\n",
    "plt.show()"
   ]
  },
  {
   "cell_type": "markdown",
   "id": "8fa61862",
   "metadata": {},
   "source": [
    "`Inferences:` High value fraudulent transactions happened for the merchant category `shopping_net` which means online shopping."
   ]
  },
  {
   "cell_type": "markdown",
   "id": "8eff2254",
   "metadata": {},
   "source": [
    "#### How is the geographical distance between customer location to merchant location varies with respect to the fradulent transaction amount"
   ]
  },
  {
   "cell_type": "code",
   "execution_count": null,
   "id": "91d7d435",
   "metadata": {},
   "outputs": [],
   "source": [
    "# function to determine distance between two coordinates\n",
    "# link to this function: - https://www.geeksforgeeks.org/program-distance-two-points-earth/\n",
    "from math import radians, cos, sin, asin, sqrt\n",
    "def distance(df, lat1, lat2, lon1, lon2):\n",
    "     \n",
    "    # The math module contains a function named\n",
    "    # radians which converts from degrees to radians.\n",
    "    df['lon1'] = df[lon1].apply(lambda x: radians(x))\n",
    "    df['lon2'] = df[lon2].apply(lambda x: radians(x))\n",
    "    df['lat1'] = df[lat1].apply(lambda x: radians(x))\n",
    "    df['lat2'] = df[lat2].apply(lambda x: radians(x))\n",
    "      \n",
    "    # Haversine formula\n",
    "    df['dlon'] = df['lon2'] - df['lon1']\n",
    "    df['dlat'] = df['lat2'] - df['lat1']\n",
    "\n",
    "    df['a'] = df['dlat'].apply(lambda x: sin(x/2)**2) + df['lat1'].apply(lambda x: cos(x))*df['lat2'].apply(lambda x: cos(x))*df['dlon'].apply(lambda x: sin(x/2)**2)\n",
    " \n",
    "\n",
    "    df['c'] = df['a'].apply(lambda x: 2*asin(sqrt(x)))\n",
    "    \n",
    "    # Radius of earth in kilometers = 6371. Use 3956 for miles\n",
    "    r = 3956\n",
    "      \n",
    "    # calculate the result\n",
    "    return(df['c'] * r)"
   ]
  },
  {
   "cell_type": "code",
   "execution_count": null,
   "id": "ca2aab26",
   "metadata": {},
   "outputs": [],
   "source": [
    "df['distance_bw_cust_merch_in_miles'] = distance(df,lat1 = 'lat', lat2 = 'merch_lat', lon1 = 'long', lon2 = 'merch_long')\n",
    "\n",
    "# check\n",
    "df['distance_bw_cust_merch_in_miles']"
   ]
  },
  {
   "cell_type": "code",
   "execution_count": null,
   "id": "b95daba9",
   "metadata": {},
   "outputs": [],
   "source": [
    "# check 2\n",
    "df.head()"
   ]
  },
  {
   "cell_type": "code",
   "execution_count": null,
   "id": "962c3894",
   "metadata": {},
   "outputs": [],
   "source": [
    "# let's bucket the distance between customer and merchant\n",
    "df['distance_cust_merch'] = df['distance_bw_cust_merch_in_miles'].apply(lambda x: '< 20' if x>0 and x<=20 else('20-40' if x>20 and x<=40 else('40-60' if x>40 and x<=60 else('60-80' if x>60 and x<=80 else '> 80'))))\n",
    "\n",
    "# check\n",
    "df[['distance_bw_cust_merch_in_miles','distance_cust_merch']]"
   ]
  },
  {
   "cell_type": "code",
   "execution_count": null,
   "id": "c8f2ec91",
   "metadata": {},
   "outputs": [],
   "source": [
    "# let's see how w.r.t distance transaction amount varies\n",
    "dis_piv = pd.pivot_table(data = df,\n",
    "                         index = 'distance_cust_merch',\n",
    "                         columns = 'is_fraud',\n",
    "                         values = 'amt',\n",
    "                         aggfunc = np.mean)\n",
    "\n",
    "# check\n",
    "dis_piv"
   ]
  },
  {
   "cell_type": "code",
   "execution_count": null,
   "id": "13e8828d",
   "metadata": {},
   "outputs": [],
   "source": [
    "# now let's see how fraudulent transaction amount varies w.r.t. the distance between customer and merchant location\n",
    "plt.figure(figsize = (12,3))\n",
    "plt.title('Fraudulent Transaction amount w.r.t distance between customer and merchant')\n",
    "sns.barplot(data = dis_piv, x = dis_piv.index, y = dis_piv[1])\n",
    "plt.xlabel('Distance between customer and merchant in miles')\n",
    "plt.ylabel('Fraudulent transaction amount in $ (USD)')\n",
    "plt.show()"
   ]
  },
  {
   "cell_type": "markdown",
   "id": "8cea2dfa",
   "metadata": {},
   "source": [
    "`Inferences:` High average cost incurred to bank is from those customers who are just less than 20 miles away from their merchants. But still we are unable to identify the specific pattern w.r.t distance."
   ]
  },
  {
   "cell_type": "markdown",
   "id": "c31e06ea",
   "metadata": {},
   "source": [
    "#### How an average transaction amount varies w.r.t each month"
   ]
  },
  {
   "cell_type": "code",
   "execution_count": null,
   "id": "42a8d573",
   "metadata": {},
   "outputs": [],
   "source": [
    "time_series_piv = pd.pivot_table(data = df,\n",
    "                                 index = 'trans_year_month',\n",
    "                                 columns = 'is_fraud',\n",
    "                                 values = 'amt',\n",
    "                                 aggfunc = np.mean)\n",
    "\n",
    "# check\n",
    "time_series_piv"
   ]
  },
  {
   "cell_type": "code",
   "execution_count": null,
   "id": "49addde4",
   "metadata": {},
   "outputs": [],
   "source": [
    "# let's visualize this\n",
    "plt.figure(figsize = (12,3))\n",
    "plt.title('Avg transaction amount varying w.r.t. time')\n",
    "plt.plot(time_series_piv.index, time_series_piv[0], color = 'green', label = 'Non Fraudulent transaction')\n",
    "plt.plot(time_series_piv.index, time_series_piv[1], color = 'red', label = 'Fraudulent transaction')\n",
    "plt.grid()\n",
    "plt.xlabel('Months')\n",
    "plt.ylabel('Avg Transaction amount in $')\n",
    "plt.xticks(rotation = 45)\n",
    "plt.legend()\n",
    "plt.show()"
   ]
  },
  {
   "cell_type": "markdown",
   "id": "bb00e816",
   "metadata": {},
   "source": [
    "`Inferences:` It is irregular and there's no pattern w.r.t. time"
   ]
  },
  {
   "cell_type": "code",
   "execution_count": null,
   "id": "ad9d6da1",
   "metadata": {},
   "outputs": [],
   "source": [
    "#let's check the frequency of fraudulent transactions w.r.t month and year\n",
    "time_series_piv2 = pd.pivot_table(data = df[df['is_fraud'] == 1],\n",
    "                                 index = 'trans_year_month',\n",
    "                                 columns = 'is_fraud',\n",
    "                                 values = 'trans_num',\n",
    "                                 aggfunc = 'count')\n",
    "\n",
    "# check\n",
    "time_series_piv2"
   ]
  },
  {
   "cell_type": "code",
   "execution_count": null,
   "id": "9a94f5a5",
   "metadata": {},
   "outputs": [],
   "source": [
    "# let's visualize this\n",
    "plt.figure(figsize = (12,3))\n",
    "plt.title('Frequency of fraudulent transactions w.r.t. time')\n",
    "plt.plot(time_series_piv2.index, time_series_piv2[1], color = 'red', label = 'Fraudulent transaction')\n",
    "plt.grid()\n",
    "plt.xlabel('Months')\n",
    "plt.ylabel('Frequency of transactions')\n",
    "plt.xticks(rotation = 45)\n",
    "plt.legend()\n",
    "plt.show()"
   ]
  },
  {
   "cell_type": "code",
   "execution_count": null,
   "id": "174ecbe1",
   "metadata": {},
   "outputs": [],
   "source": [
    "# how transaction amount varies w.r.t unix time\n",
    "plt.figure(figsize = (12,3))\n",
    "plt.title('Transaction amount w.r.t unix time')\n",
    "sns.scatterplot(data = df, x = df['unix_time'],y = df['amt'])\n",
    "plt.show()"
   ]
  },
  {
   "cell_type": "markdown",
   "id": "9755d07f",
   "metadata": {},
   "source": [
    "`Inferences:` There's no specific pattern w.r.t. the unix time."
   ]
  },
  {
   "cell_type": "code",
   "execution_count": null,
   "id": "edf09009",
   "metadata": {},
   "outputs": [],
   "source": [
    "# deriving hours from the transaction date time column\n",
    "df['trans_hour'] = df['trans_date_trans_time'].dt.time.apply(lambda x: str(x)[:2])\n",
    "\n",
    "# check\n",
    "df['trans_hour']"
   ]
  },
  {
   "cell_type": "markdown",
   "id": "44daf79c",
   "metadata": {},
   "source": [
    "#### Let's figure out usually at what hour of the time, the frequency of fradulent transactions is high"
   ]
  },
  {
   "cell_type": "code",
   "execution_count": null,
   "id": "ec040736",
   "metadata": {},
   "outputs": [],
   "source": [
    "time_piv = pd.pivot_table(data = df,\n",
    "                          index = 'trans_hour',\n",
    "                          columns = ['is_fraud'],\n",
    "                          values = 'trans_num',\n",
    "                          aggfunc = 'count')\n",
    "\n",
    "# check\n",
    "time_piv"
   ]
  },
  {
   "cell_type": "code",
   "execution_count": null,
   "id": "3ff9817e",
   "metadata": {},
   "outputs": [],
   "source": [
    " # let's visualize\n",
    "plt.figure(figsize = (15,3))\n",
    "plt.title('Frequency of fraudulent transactions w.r.t Hour')\n",
    "sns.barplot(data = time_piv, x = time_piv.index, y = time_piv[1])\n",
    "plt.xlabel('Hours')\n",
    "plt.ylabel('Fraudulent transactions')\n",
    "plt.grid()\n",
    "plt.show()"
   ]
  },
  {
   "cell_type": "markdown",
   "id": "fe6e5e51",
   "metadata": {},
   "source": [
    "`Inferences:` In the two years span, high number of transactions happened during night time, i.e., from 10 PM to 3 AM."
   ]
  },
  {
   "cell_type": "markdown",
   "id": "0cf9095a",
   "metadata": {},
   "source": [
    "#### Let's figure out at what hour of the time, average cost incurred to bank is high"
   ]
  },
  {
   "cell_type": "code",
   "execution_count": null,
   "id": "04385f6e",
   "metadata": {},
   "outputs": [],
   "source": [
    "time_piv_amt = pd.pivot_table(data = df,\n",
    "                              index = 'trans_hour',\n",
    "                              columns = ['is_fraud'],\n",
    "                              values = 'amt',\n",
    "                              aggfunc = np.mean)\n",
    "\n",
    "# check\n",
    "time_piv_amt"
   ]
  },
  {
   "cell_type": "code",
   "execution_count": null,
   "id": "1ae31732",
   "metadata": {},
   "outputs": [],
   "source": [
    " # let's visualize\n",
    "plt.figure(figsize = (15,3))\n",
    "plt.title('Avg cost incurred due to fraudulent transactions w.r.t. each hour')\n",
    "sns.barplot(data = time_piv_amt, x = time_piv_amt.index, y = time_piv_amt[1])\n",
    "plt.axhline(y = 530.66, color = 'r', linestyle = '-', label = 'Avg amount per fraudulent transaction')\n",
    "plt.grid()\n",
    "plt.xlabel('Hours')\n",
    "plt.ylabel('Avg cost incurred in $')\n",
    "plt.legend()\n",
    "plt.show()"
   ]
  },
  {
   "cell_type": "markdown",
   "id": "2a307be8",
   "metadata": {},
   "source": [
    "`Inferences:` Average cost incurred to bank is highest during 2 PM, i.e., $ 709.07. "
   ]
  },
  {
   "cell_type": "markdown",
   "id": "fb92470b",
   "metadata": {},
   "source": [
    "It is in the range between $(600-750) from 12 PM to 11 PM."
   ]
  },
  {
   "cell_type": "code",
   "execution_count": null,
   "id": "66c886ef",
   "metadata": {},
   "outputs": [],
   "source": [
    "merch_txn_hr_piv = pd.pivot_table(data = df,\n",
    "                                  index = ['trans_hour','category'],\n",
    "                                  columns = 'is_fraud',\n",
    "                                  values = 'amt',\n",
    "                                  aggfunc = np.mean)\n",
    "\n",
    "# check\n",
    "merch_txn_hr_piv"
   ]
  },
  {
   "cell_type": "markdown",
   "id": "bc04bc76",
   "metadata": {},
   "source": [
    "Save this file to disk and visualize it in Power BI."
   ]
  },
  {
   "cell_type": "code",
   "execution_count": null,
   "id": "c2c4d203",
   "metadata": {},
   "outputs": [],
   "source": [
    "#merch_txn_hr_piv.to_csv('merchant_txn_hours.csv', index = True)"
   ]
  },
  {
   "cell_type": "markdown",
   "id": "2b9ff781",
   "metadata": {},
   "source": [
    "### For model building, let's remove all the redundant columns from the dataframe"
   ]
  },
  {
   "cell_type": "code",
   "execution_count": null,
   "id": "3a21d59b",
   "metadata": {},
   "outputs": [],
   "source": [
    "# all Columns\n",
    "df.columns"
   ]
  },
  {
   "cell_type": "code",
   "execution_count": null,
   "id": "2ea76426",
   "metadata": {},
   "outputs": [],
   "source": [
    "# columns to be dropped, except trans_num, which we will be dealing further\n",
    "drop_col = ['trans_date_trans_time', 'cc_num', 'merchant','first', 'last', 'street', 'city', 'state', 'lat',\n",
    "       'long','dob', 'unix_time', 'merch_lat',\n",
    "       'merch_long', 'trans_year_month', 'cust_age','city_pop',\n",
    "       'city-state', 'lon1', 'lon2', 'lat1', 'lat2', 'dlon',\n",
    "       'dlat', 'a', 'c', 'distance_bw_cust_merch_in_miles',\n",
    "       'distance_cust_merch']\n",
    "\n",
    "# dropping above columns from the dataframe\n",
    "df.drop(drop_col, axis = 1, inplace = True)\n",
    "\n",
    "# check\n",
    "df.head()"
   ]
  },
  {
   "cell_type": "markdown",
   "id": "38f4b6db",
   "metadata": {},
   "source": [
    "#### Let's convert the categorical columns (except gender) into numerical columns based on the avg fraudulent txn amount w.r.t. each category"
   ]
  },
  {
   "cell_type": "code",
   "execution_count": null,
   "id": "3578b265",
   "metadata": {},
   "outputs": [],
   "source": [
    "# let's label encode age column w.r.t the avg fraudulent txn amount\n",
    "age_piv_2.sort_values(by = 1, ascending = True, inplace = True)\n",
    "\n",
    "age_piv_2"
   ]
  },
  {
   "cell_type": "code",
   "execution_count": null,
   "id": "069f7e50",
   "metadata": {},
   "outputs": [],
   "source": [
    "# get dictionary\n",
    "age_dic = {k:v for (k,v) in zip(age_piv_2.index.values, age_piv_2.reset_index().index.values)}\n",
    "\n",
    "# check\n",
    "age_dic"
   ]
  },
  {
   "cell_type": "code",
   "execution_count": null,
   "id": "d6735a1c",
   "metadata": {},
   "outputs": [],
   "source": [
    "# label encoding the age groups column\n",
    "df['cust_age_groups'] = df['cust_age_groups'].map(age_dic)\n",
    "\n",
    "# check\n",
    "df['cust_age_groups']"
   ]
  },
  {
   "cell_type": "code",
   "execution_count": null,
   "id": "48621a39",
   "metadata": {},
   "outputs": [],
   "source": [
    "# now let's encode merchant category\n",
    "merch_cat = df[df['is_fraud'] == 1].groupby('category')['amt'].mean().sort_values(ascending = True)\n",
    "\n",
    "# check\n",
    "merch_cat"
   ]
  },
  {
   "cell_type": "code",
   "execution_count": null,
   "id": "9882daa3",
   "metadata": {},
   "outputs": [],
   "source": [
    "merch_cat_dic = {k:v for (k,v) in zip(merch_cat.index.values,merch_cat.reset_index().index.values)}\n",
    "\n",
    "# check\n",
    "merch_cat_dic"
   ]
  },
  {
   "cell_type": "code",
   "execution_count": null,
   "id": "d2be46c7",
   "metadata": {},
   "outputs": [],
   "source": [
    "# encoding the merchant_category column\n",
    "df['category'] = df['category'].map(merch_cat_dic)\n",
    "\n",
    "# check\n",
    "df['category']"
   ]
  },
  {
   "cell_type": "code",
   "execution_count": null,
   "id": "3cc577d0",
   "metadata": {},
   "outputs": [],
   "source": [
    "job_txn_piv_2.sort_values(by = 1, ascending = True, inplace = True)\n",
    "\n",
    "# check\n",
    "job_txn_piv_2"
   ]
  },
  {
   "cell_type": "code",
   "execution_count": null,
   "id": "7f104ef5",
   "metadata": {},
   "outputs": [],
   "source": [
    "job_txn_piv_2[1].fillna(0, inplace = True)\n",
    "\n",
    "# check\n",
    "job_txn_piv_2"
   ]
  },
  {
   "cell_type": "code",
   "execution_count": null,
   "id": "0f6c9872",
   "metadata": {},
   "outputs": [],
   "source": [
    "job_txn_piv_2.sort_values(by = 1, ascending = True, inplace = True)\n",
    "\n",
    "job_txn_piv_2"
   ]
  },
  {
   "cell_type": "code",
   "execution_count": null,
   "id": "0c3d1343",
   "metadata": {},
   "outputs": [],
   "source": [
    "# job categories\n",
    "job_cat_dic = {k:v for (k,v) in zip(job_txn_piv_2.index.values, job_txn_piv_2.reset_index().index.values)}\n",
    "\n",
    "# check\n",
    "job_cat_dic"
   ]
  },
  {
   "cell_type": "code",
   "execution_count": null,
   "id": "ab0e5adc",
   "metadata": {},
   "outputs": [],
   "source": [
    "# label encoding the job column\n",
    "df['job'] = df['job'].map(job_cat_dic)\n",
    "\n",
    "# check\n",
    "df['job']"
   ]
  },
  {
   "cell_type": "code",
   "execution_count": null,
   "id": "7f7200f7",
   "metadata": {},
   "outputs": [],
   "source": [
    "# check\n",
    "df.head()"
   ]
  },
  {
   "cell_type": "code",
   "execution_count": null,
   "id": "14ecd167",
   "metadata": {},
   "outputs": [],
   "source": [
    "# check 2\n",
    "df.info()"
   ]
  },
  {
   "cell_type": "code",
   "execution_count": null,
   "id": "1f18af8d",
   "metadata": {},
   "outputs": [],
   "source": [
    "# let's convert trans_hour into numerical format\n",
    "df['trans_hour'] = df['trans_hour'].astype('int')\n",
    "\n",
    "# check\n",
    "df['trans_hour']"
   ]
  },
  {
   "cell_type": "code",
   "execution_count": null,
   "id": "56189b66",
   "metadata": {},
   "outputs": [],
   "source": [
    "df.info()"
   ]
  },
  {
   "cell_type": "code",
   "execution_count": null,
   "id": "2f4b615d",
   "metadata": {},
   "outputs": [],
   "source": [
    "# create dummies for 'gender' column\n",
    "df = pd.get_dummies(data  = df, columns = ['gender'], drop_first = True, dtype = 'int')\n",
    "\n",
    "# check\n",
    "df.head()"
   ]
  },
  {
   "cell_type": "markdown",
   "id": "61d4b4cf",
   "metadata": {},
   "source": [
    "# 3. Train-Test split"
   ]
  },
  {
   "cell_type": "code",
   "execution_count": null,
   "id": "3bde25c8",
   "metadata": {},
   "outputs": [],
   "source": [
    "# visualizing class imbalance\n",
    "df['is_fraud'].value_counts()"
   ]
  },
  {
   "cell_type": "code",
   "execution_count": null,
   "id": "14f52509",
   "metadata": {},
   "outputs": [],
   "source": [
    "# let's split the dataset into train and test sets. \n",
    "# Use stratified approach as to preserve the same class distribution in both train and test sets \n",
    "from sklearn.model_selection import train_test_split\n",
    "\n",
    "train,test = train_test_split(df, test_size=0.33, random_state=42, stratify = df['is_fraud'])\n",
    "\n",
    "# check\n",
    "print(train.shape)\n",
    "print(test.shape)"
   ]
  },
  {
   "cell_type": "code",
   "execution_count": null,
   "id": "9b011034",
   "metadata": {},
   "outputs": [],
   "source": [
    "# check\n",
    "train.head()"
   ]
  },
  {
   "cell_type": "code",
   "execution_count": null,
   "id": "0af7b74e",
   "metadata": {},
   "outputs": [],
   "source": [
    "# check\n",
    "test.head()"
   ]
  },
  {
   "cell_type": "code",
   "execution_count": null,
   "id": "3eddcceb",
   "metadata": {},
   "outputs": [],
   "source": [
    "# check class proportions in train and test datasets\n",
    "print(train['is_fraud'].value_counts())\n",
    "print(test['is_fraud'].value_counts())"
   ]
  },
  {
   "cell_type": "code",
   "execution_count": null,
   "id": "9653a8f0",
   "metadata": {},
   "outputs": [],
   "source": [
    "# check for missing values in train data\n",
    "train.isna().sum()"
   ]
  },
  {
   "cell_type": "code",
   "execution_count": null,
   "id": "d6f1d49e",
   "metadata": {},
   "outputs": [],
   "source": [
    "# check for missing values in test data\n",
    "test.isna().sum()"
   ]
  },
  {
   "cell_type": "code",
   "execution_count": null,
   "id": "953f1ceb",
   "metadata": {},
   "outputs": [],
   "source": [
    "# storing the transaction numbers from both train and test data into separate dataframes respectively\n",
    "txn_train = pd.DataFrame(train[['trans_num','amt']].values, columns = ['txn_num','amt'])\n",
    "txn_test = pd.DataFrame(test[['trans_num','amt']].values, columns = ['txn_num','amt'])\n",
    "\n",
    "# check\n",
    "txn_train"
   ]
  },
  {
   "cell_type": "code",
   "execution_count": null,
   "id": "4d3d2989",
   "metadata": {},
   "outputs": [],
   "source": [
    "# check 2\n",
    "txn_test"
   ]
  },
  {
   "cell_type": "code",
   "execution_count": null,
   "id": "9510e74c",
   "metadata": {},
   "outputs": [],
   "source": [
    "# let's drop transaction number columns from both the training and testing data\n",
    "train.drop('trans_num',axis = 1, inplace = True)\n",
    "test.drop('trans_num',axis = 1, inplace = True)"
   ]
  },
  {
   "cell_type": "code",
   "execution_count": null,
   "id": "63ee3856",
   "metadata": {},
   "outputs": [],
   "source": [
    "# splitting data into dependent and independent features respectively\n",
    "y_train = train['is_fraud']\n",
    "X_train = train.drop('is_fraud',axis = 1)\n",
    "\n",
    "y_test = test['is_fraud']\n",
    "X_test = test.drop('is_fraud',axis = 1)\n",
    "\n",
    "print('Shape of training data: ',(X_train.shape,y_train.shape))\n",
    "print('Shape of testing data: ',(X_test.shape,y_test.shape))"
   ]
  },
  {
   "cell_type": "code",
   "execution_count": null,
   "id": "ac37c71d",
   "metadata": {},
   "outputs": [],
   "source": [
    "# let's delete all the reduntant data frames\n",
    "del df_train\n",
    "del df_test\n",
    "del age_piv\n",
    "del age_piv_2\n",
    "del age_gen_piv\n",
    "del job_txn_piv\n",
    "del job_txn_piv_2\n",
    "del state_piv\n",
    "del city_piv\n",
    "del time_series_piv"
   ]
  },
  {
   "cell_type": "code",
   "execution_count": null,
   "id": "e6209a30",
   "metadata": {},
   "outputs": [],
   "source": [
    "# let's see how the numerical columns are distributed\n",
    "sns.displot(X_train['amt'])"
   ]
  },
  {
   "cell_type": "code",
   "execution_count": null,
   "id": "f8e87b21",
   "metadata": {},
   "outputs": [],
   "source": [
    "# applying log transformations\n",
    "X_train['amt'] = np.log(X_train['amt']+1)\n",
    "X_test['amt'] = np.log(X_test['amt']+1)\n"
   ]
  },
  {
   "cell_type": "code",
   "execution_count": null,
   "id": "e60fcdd8",
   "metadata": {},
   "outputs": [],
   "source": [
    "# Visualizing for train data\n",
    "sns.distplot(X_train['amt'])"
   ]
  },
  {
   "cell_type": "code",
   "execution_count": null,
   "id": "35824fb9",
   "metadata": {},
   "outputs": [],
   "source": [
    "# visualizing for test data\n",
    "sns.distplot(X_test['amt'])"
   ]
  },
  {
   "cell_type": "code",
   "execution_count": null,
   "id": "f3b5f600",
   "metadata": {},
   "outputs": [],
   "source": [
    "# saving the train and test datasets to disk\n",
    "X_train.to_csv('X_train.csv', index = False)\n",
    "y_train.to_csv('y_train.csv',index = False)\n",
    "X_test.to_csv('X_test.csv', index = False)\n",
    "y_test.to_csv('y_test.csv',index = False)"
   ]
  },
  {
   "cell_type": "markdown",
   "id": "31d878b2",
   "metadata": {},
   "source": [
    "# 4. Model building and evaluation"
   ]
  },
  {
   "cell_type": "markdown",
   "id": "1b501e24",
   "metadata": {},
   "source": [
    "## A) Logistic regression"
   ]
  },
  {
   "cell_type": "code",
   "execution_count": null,
   "id": "0c0e5b90",
   "metadata": {},
   "outputs": [],
   "source": [
    "# let's scale the variables using standard scaler\n",
    "from sklearn.preprocessing import StandardScaler\n",
    "\n",
    "sc = StandardScaler()"
   ]
  },
  {
   "cell_type": "code",
   "execution_count": null,
   "id": "e2ebb369",
   "metadata": {},
   "outputs": [],
   "source": [
    "# scaling the training and testing data\n",
    "X_train_sc = sc.fit_transform(X_train)\n",
    "X_test_sc = sc.transform(X_test)"
   ]
  },
  {
   "cell_type": "code",
   "execution_count": null,
   "id": "f9a44d02",
   "metadata": {},
   "outputs": [],
   "source": [
    "# convert them into dataframes\n",
    "X_train_sc = pd.DataFrame(data = X_train_sc, columns = X_train.columns)\n",
    "X_test_sc = pd.DataFrame(data = X_test_sc, columns = X_test.columns)"
   ]
  },
  {
   "cell_type": "code",
   "execution_count": null,
   "id": "864135c3",
   "metadata": {},
   "outputs": [],
   "source": [
    "# check 1\n",
    "X_train_sc.head()"
   ]
  },
  {
   "cell_type": "code",
   "execution_count": null,
   "id": "f0d5b5f7",
   "metadata": {},
   "outputs": [],
   "source": [
    "# check 2\n",
    "X_test_sc.head()"
   ]
  },
  {
   "cell_type": "code",
   "execution_count": null,
   "id": "cf8d9828",
   "metadata": {},
   "outputs": [],
   "source": [
    "# check correlation among all the independent features in train data\n",
    "plt.figure(figsize = (10,3))\n",
    "plt.title(\"Check Correlation among all the independent features\")\n",
    "sns.heatmap(X_train_sc.corr(),annot = True, cmap = 'Greens')\n",
    "plt.xticks(rotation = 45)\n",
    "plt.show()\n"
   ]
  },
  {
   "cell_type": "markdown",
   "id": "8b588768",
   "metadata": {},
   "source": [
    "`Inferences:` `job` feature is correlated to `cust_age_groups` and `gender_M` features of about 25% and 24% respectively. Rest all features have very less correlation among themselves."
   ]
  },
  {
   "cell_type": "markdown",
   "id": "661ec0be",
   "metadata": {},
   "source": [
    "`Reference:` https://www.analyticsvidhya.com/blog/2020/10/improve-class-imbalance-class-weights/"
   ]
  },
  {
   "cell_type": "code",
   "execution_count": null,
   "id": "3ca0e2dc",
   "metadata": {},
   "outputs": [],
   "source": [
    "# let's build our first logistic regression model with class weight = 'balanced' since we have highly imbalanced data.\n",
    "from sklearn.linear_model import LogisticRegression\n",
    "from sklearn.metrics import accuracy_score, auc, precision_score, recall_score, roc_auc_score, roc_curve\n",
    "\n",
    "lr = LogisticRegression(class_weight = 'balanced')"
   ]
  },
  {
   "cell_type": "code",
   "execution_count": null,
   "id": "7dd54262",
   "metadata": {},
   "outputs": [],
   "source": [
    "# fitting on the training data\n",
    "lr.fit(X_train_sc,y_train)\n",
    "\n",
    "# predictions on the training data\n",
    "y_pred_train = lr.predict(X_train_sc)\n",
    "\n",
    "# check\n",
    "y_pred_train"
   ]
  },
  {
   "cell_type": "code",
   "execution_count": null,
   "id": "26194d23",
   "metadata": {},
   "outputs": [],
   "source": [
    "# predictions on the test data\n",
    "y_pred_test = lr.predict(X_test_sc)\n",
    "\n",
    "# check\n",
    "y_pred_test"
   ]
  },
  {
   "cell_type": "code",
   "execution_count": null,
   "id": "3389a825",
   "metadata": {},
   "outputs": [],
   "source": [
    "# let's check the evaluation metrics, import confusion matrix\n",
    "from sklearn.metrics import confusion_matrix\n",
    "\n",
    "# for train data\n",
    "## TN FP\n",
    "## FN TP\n",
    "print(confusion_matrix(y_train, y_pred_train))"
   ]
  },
  {
   "cell_type": "markdown",
   "id": "ae6f3496",
   "metadata": {},
   "source": [
    "`Inferences:` We got TP = 5009, FN = 1457 on train data"
   ]
  },
  {
   "cell_type": "code",
   "execution_count": null,
   "id": "77ba0230",
   "metadata": {},
   "outputs": [],
   "source": [
    "# test data\n",
    "print(confusion_matrix(y_test, y_pred_test))"
   ]
  },
  {
   "cell_type": "code",
   "execution_count": null,
   "id": "9a00a2a9",
   "metadata": {},
   "outputs": [],
   "source": [
    "# roc_auc score\n",
    "print(f'ROC_AUC score on train data is {roc_auc_score(y_train,y_pred_train)} and on test data is {roc_auc_score(y_test,y_pred_test)}')"
   ]
  },
  {
   "cell_type": "code",
   "execution_count": null,
   "id": "42c19507",
   "metadata": {},
   "outputs": [],
   "source": [
    "# accuracy score\n",
    "print(f'Accuracy on train data is {accuracy_score(y_train,y_pred_train)} and on test data is {accuracy_score(y_test,y_pred_test)}')"
   ]
  },
  {
   "cell_type": "code",
   "execution_count": null,
   "id": "65bd11d1",
   "metadata": {},
   "outputs": [],
   "source": [
    "# recall score on train and test data\n",
    "print(f'Recall score on train data = {recall_score(y_train, y_pred_train)}')\n",
    "\n",
    "print(f'Recall score on test data = {recall_score(y_test, y_pred_test)}')"
   ]
  },
  {
   "cell_type": "markdown",
   "id": "a2232959",
   "metadata": {},
   "source": [
    "Let's try to improve the recall score by trying different thresholds or cut-offs."
   ]
  },
  {
   "cell_type": "code",
   "execution_count": null,
   "id": "3a831e9b",
   "metadata": {},
   "outputs": [],
   "source": [
    "# let's get predicted probabilites for train data\n",
    "y_pred_train_proba = lr.predict_proba(X_train_sc)\n",
    "\n",
    "# check\n",
    "y_pred_train_proba"
   ]
  },
  {
   "cell_type": "code",
   "execution_count": null,
   "id": "ed2034db",
   "metadata": {},
   "outputs": [],
   "source": [
    "# let's get predicted probabilities for test data\n",
    "y_pred_test_proba = lr.predict_proba(X_test_sc)\n",
    "\n",
    "# check\n",
    "y_pred_test_proba"
   ]
  },
  {
   "cell_type": "code",
   "execution_count": null,
   "id": "24de4bf0",
   "metadata": {},
   "outputs": [],
   "source": [
    "y_train_results = pd.DataFrame(y_pred_train_proba, columns = ['pred_not_fraud','pred_fraud'])\n",
    "\n",
    "# check\n",
    "y_train_results"
   ]
  },
  {
   "cell_type": "code",
   "execution_count": null,
   "id": "58eec8ac",
   "metadata": {},
   "outputs": [],
   "source": [
    "y_train_results['y_train_actual'] = y_train.values\n",
    "\n",
    "# check\n",
    "y_train_results"
   ]
  },
  {
   "cell_type": "code",
   "execution_count": null,
   "id": "cb221ea2",
   "metadata": {},
   "outputs": [],
   "source": [
    "# check the range of probabilities of getting fraud.\n",
    "y_train_results[y_train_results['y_train_actual'] == 1]['pred_fraud'].plot(kind = 'hist', title = 'Range of probabilities of getting fraud')"
   ]
  },
  {
   "cell_type": "code",
   "execution_count": null,
   "id": "e0202e22",
   "metadata": {},
   "outputs": [],
   "source": [
    "y_test_results = pd.DataFrame(y_pred_test_proba, columns = ['pred_not_fraud','pred_fraud'])\n",
    "\n",
    "# check\n",
    "y_test_results"
   ]
  },
  {
   "cell_type": "code",
   "execution_count": null,
   "id": "0ac2b261",
   "metadata": {},
   "outputs": [],
   "source": [
    "y_test_results['y_test_actual'] = y_test.values\n",
    "\n",
    "# check\n",
    "y_test_results"
   ]
  },
  {
   "cell_type": "markdown",
   "id": "66b8b721",
   "metadata": {},
   "source": [
    "#### Let's find an optimal threshold point to classify whether it is a fraudulent transaction or not fraudulent transaction."
   ]
  },
  {
   "cell_type": "code",
   "execution_count": null,
   "id": "fa72523a",
   "metadata": {},
   "outputs": [],
   "source": [
    "# Let's create columns with different probability cutoffs \n",
    "numbers = [0.1,0.15,0.2,0.3,0.4,0.5,0.6,0.7,0.8,0.9]\n",
    "for i in numbers:\n",
    "    y_train_results[i]= y_train_results.pred_fraud.map(lambda x: 1 if x > i else 0)\n",
    "y_train_results.head()"
   ]
  },
  {
   "cell_type": "code",
   "execution_count": null,
   "id": "5448319c",
   "metadata": {},
   "outputs": [],
   "source": [
    "# Now let's calculate recall scores for various probability cutoffs.\n",
    "cutoff_df = pd.DataFrame( columns = ['prob','recall_score'])\n",
    "\n",
    "# TP = confusion[1,1] # true positive \n",
    "# TN = confusion[0,0] # true negatives\n",
    "# FP = confusion[0,1] # false positives\n",
    "# FN = confusion[1,0] # false negatives\n",
    "\n",
    "for i in numbers:\n",
    "    cm1 = confusion_matrix(y_train_results['y_train_actual'], y_train_results[i])\n",
    "    total1=sum(sum(cm1))\n",
    "    \n",
    "    recall_score = cm1[1,1]/(cm1[1,0]+cm1[1,1])\n",
    "    \n",
    "    cutoff_df.loc[i] =[ i, recall_score]\n",
    "print(cutoff_df)"
   ]
  },
  {
   "cell_type": "code",
   "execution_count": null,
   "id": "1b202652",
   "metadata": {},
   "outputs": [],
   "source": [
    "plt.figure(figsize = (7,3))\n",
    "plt.title('Finding optimum threshold classification boundary on train data')\n",
    "plt.plot(cutoff_df.prob, cutoff_df.recall_score)\n",
    "plt.grid()\n",
    "plt.show()"
   ]
  },
  {
   "cell_type": "markdown",
   "id": "9d3cd461",
   "metadata": {},
   "source": [
    "#### let's consider 0.15 as an optimal threshold point"
   ]
  },
  {
   "cell_type": "code",
   "execution_count": null,
   "id": "60e95890",
   "metadata": {},
   "outputs": [],
   "source": [
    "# applying on test data\n",
    "y_test_results['pred_final'] = y_test_results['pred_fraud'].apply(lambda x: 1 if x>0.15 else 0)\n",
    "\n",
    "# check\n",
    "y_test_results.head()"
   ]
  },
  {
   "cell_type": "code",
   "execution_count": null,
   "id": "e56514fa",
   "metadata": {},
   "outputs": [],
   "source": [
    "y_test_results.info()"
   ]
  },
  {
   "cell_type": "code",
   "execution_count": null,
   "id": "49fd96fd",
   "metadata": {},
   "outputs": [],
   "source": [
    "# confusion matrix\n",
    "## TN FP\n",
    "## FN TP\n",
    "cm = confusion_matrix(y_test_results['y_test_actual'],y_test_results['pred_final'] )\n",
    "TP = cm[1,1]\n",
    "TN = cm[0,0]\n",
    "FP = cm[0,1]\n",
    "FN = cm[1,0]\n",
    "print(cm)"
   ]
  },
  {
   "cell_type": "code",
   "execution_count": null,
   "id": "f0c5f138",
   "metadata": {},
   "outputs": [],
   "source": [
    "# computing recall score\n",
    "print(f'Recall score of the model on test data = {TP/(TP+FN)}')"
   ]
  },
  {
   "cell_type": "code",
   "execution_count": null,
   "id": "978ab6d6",
   "metadata": {},
   "outputs": [],
   "source": [
    "np.array(y_test_results['y_test_actual'])"
   ]
  },
  {
   "cell_type": "markdown",
   "id": "b64714a0",
   "metadata": {},
   "source": [
    "#### We have a matching recall scores between both training and testing data. Based on these predictions, let's do cost benefit analyis."
   ]
  },
  {
   "cell_type": "code",
   "execution_count": null,
   "id": "4599b1ff",
   "metadata": {},
   "outputs": [],
   "source": [
    "arr1 = y_train_results[['y_train_actual',0.15]].values\n",
    "arr2 = y_test_results[['y_test_actual','pred_final']].values\n",
    "\n",
    "arr_f = np.concatenate((arr1, arr2), axis=0)\n",
    "\n",
    "arr_f"
   ]
  },
  {
   "cell_type": "code",
   "execution_count": null,
   "id": "c9a0698c",
   "metadata": {},
   "outputs": [],
   "source": [
    "arr_f.shape"
   ]
  },
  {
   "cell_type": "code",
   "execution_count": null,
   "id": "afc23ef2",
   "metadata": {},
   "outputs": [],
   "source": [
    "lr_results = pd.DataFrame(arr_f, columns = ['is_f_actual','is_f_pred'])\n",
    "\n",
    "# check\n",
    "lr_results"
   ]
  },
  {
   "cell_type": "code",
   "execution_count": null,
   "id": "424635b9",
   "metadata": {},
   "outputs": [],
   "source": [
    "txn_train"
   ]
  },
  {
   "cell_type": "code",
   "execution_count": null,
   "id": "418ac5be",
   "metadata": {},
   "outputs": [],
   "source": [
    "txn_test"
   ]
  },
  {
   "cell_type": "code",
   "execution_count": null,
   "id": "de5af085",
   "metadata": {},
   "outputs": [],
   "source": [
    "# Adding transaction num and transaction amt columns\n",
    "lr_results['txn_amt'] = pd.concat([txn_train,txn_test])['amt'].values\n",
    "lr_results['txn_num'] = pd.concat([txn_train,txn_test])['txn_num'].values\n",
    "\n",
    "# check\n",
    "lr_results"
   ]
  },
  {
   "cell_type": "markdown",
   "id": "dd46c9de",
   "metadata": {},
   "source": [
    "#### Average number of transactions per month detected as fraudulent by the model (TF)"
   ]
  },
  {
   "cell_type": "code",
   "execution_count": null,
   "id": "dcaaab93",
   "metadata": {},
   "outputs": [],
   "source": [
    "print('Average number of transactions per month detected as fraudulent by the model = ',len(lr_results[lr_results['is_f_pred'] == 1]['txn_num'].unique())/24)"
   ]
  },
  {
   "cell_type": "markdown",
   "id": "09a10ce1",
   "metadata": {},
   "source": [
    "#### Total cost of providing customer support per month for fraudulent transactions detected by the model (TF * $1.5)"
   ]
  },
  {
   "cell_type": "code",
   "execution_count": null,
   "id": "2629a0c0",
   "metadata": {},
   "outputs": [],
   "source": [
    "55921.29*1.5"
   ]
  },
  {
   "cell_type": "markdown",
   "id": "52ccd63e",
   "metadata": {},
   "source": [
    "#### Average number of transactions per month that are fraudulent but not detected by the model (FN)"
   ]
  },
  {
   "cell_type": "code",
   "execution_count": null,
   "id": "eef2a7ca",
   "metadata": {},
   "outputs": [],
   "source": [
    "print('Average number of transactions per month that are fraudulent but not detected by the model = ',len(lr_results[(lr_results['is_f_actual'] == 1) & (lr_results['is_f_pred'] == 0)]['txn_num'].unique())/24)"
   ]
  },
  {
   "cell_type": "markdown",
   "id": "9dbe5369",
   "metadata": {},
   "source": [
    "#### Cost incurred due to fraudulent transactions left undetected by the model (FN*c)"
   ]
  },
  {
   "cell_type": "code",
   "execution_count": null,
   "id": "8d3dba1b",
   "metadata": {},
   "outputs": [],
   "source": [
    "print('Cost incurred due to fraudulent transactions left undetected by the model = $',26.54*530.6614)"
   ]
  },
  {
   "cell_type": "markdown",
   "id": "de4c170c",
   "metadata": {},
   "source": [
    "#### Cost incurred per month after the model is built and deployed (TP)"
   ]
  },
  {
   "cell_type": "code",
   "execution_count": null,
   "id": "37b797ff",
   "metadata": {},
   "outputs": [],
   "source": [
    "print(f'Cost incurred per month after the model is built and deployed = ${round(83881.935+14083.753,2)}')"
   ]
  },
  {
   "cell_type": "markdown",
   "id": "05c55b10",
   "metadata": {},
   "source": [
    "#### Final Savings = Cost incurred before model deployment - Cost incurred after model deployment"
   ]
  },
  {
   "cell_type": "code",
   "execution_count": null,
   "id": "55081e94",
   "metadata": {},
   "outputs": [],
   "source": [
    "print('Final savings = $',213392.22-97965.69)"
   ]
  },
  {
   "cell_type": "code",
   "execution_count": null,
   "id": "999f7e5d",
   "metadata": {},
   "outputs": [],
   "source": [
    "# saving the model results into a dataframe\n",
    "model_results = pd.DataFrame(columns = ['model','train_recall_score','test_recall_score','Cost saved by the model per month'])\n",
    "\n",
    "model_results.loc[len(model_results)] = ['Logistic Regression model', 0.93, 0.93, '$115,538.03']\n",
    "\n",
    "# check\n",
    "model_results"
   ]
  },
  {
   "cell_type": "code",
   "execution_count": null,
   "id": "b2c41bcc",
   "metadata": {},
   "outputs": [],
   "source": [
    "# save this data frame to disk as .csv file\n",
    "model_results.to_csv('model_results.csv', index = False)"
   ]
  },
  {
   "cell_type": "code",
   "execution_count": null,
   "id": "f91b54e5",
   "metadata": {},
   "outputs": [],
   "source": [
    "# saving the logistic regression model as well.\n",
    "import joblib\n",
    "joblib.dump(value = lr, filename = r'models\\logistic_reg_model_2.pkl' )"
   ]
  },
  {
   "cell_type": "code",
   "execution_count": null,
   "id": "fb45497f",
   "metadata": {},
   "outputs": [],
   "source": [
    "# check whether the model is saved properly\n",
    "lr = joblib.load(r'models\\logistic_reg_model_2.pkl')"
   ]
  },
  {
   "cell_type": "code",
   "execution_count": null,
   "id": "caeebbbc",
   "metadata": {},
   "outputs": [],
   "source": [
    "lr.feature_names_in_"
   ]
  },
  {
   "cell_type": "code",
   "execution_count": null,
   "id": "e0031ae1",
   "metadata": {},
   "outputs": [],
   "source": [
    "lr.class_weight"
   ]
  },
  {
   "cell_type": "code",
   "execution_count": null,
   "id": "82cd1ea5",
   "metadata": {},
   "outputs": [],
   "source": [
    "lr.get_params()"
   ]
  },
  {
   "cell_type": "markdown",
   "id": "2fdcdd02",
   "metadata": {},
   "source": [
    "### Our Logistic regression model is successful in saving the costs per month upto $115,426.53"
   ]
  },
  {
   "cell_type": "markdown",
   "id": "61fa6fb1",
   "metadata": {},
   "source": [
    "## B) Random Forest Classifier"
   ]
  },
  {
   "cell_type": "code",
   "execution_count": null,
   "id": "d073ff25",
   "metadata": {},
   "outputs": [],
   "source": [
    "# instantiating random forest classifier with class weights\n",
    "from sklearn.ensemble import RandomForestClassifier\n",
    "from sklearn.model_selection import RandomizedSearchCV, GridSearchCV\n",
    "\n",
    "rf = RandomForestClassifier(class_weight = 'balanced')"
   ]
  },
  {
   "cell_type": "code",
   "execution_count": null,
   "id": "a63aa743",
   "metadata": {},
   "outputs": [],
   "source": [
    "# fitting on the training data\n",
    "rf.fit(X_train,y_train)\n",
    "\n",
    "# predictions on the training data\n",
    "y_pred_train_rf = rf.predict(X_train)\n",
    "\n",
    "# predictions on the test data\n",
    "y_pred_test_rf = rf.predict(X_test)"
   ]
  },
  {
   "cell_type": "code",
   "execution_count": null,
   "id": "f27ef2d5",
   "metadata": {},
   "outputs": [],
   "source": [
    "# check predictions on train data\n",
    "y_pred_train_rf"
   ]
  },
  {
   "cell_type": "code",
   "execution_count": null,
   "id": "e9ef482d",
   "metadata": {},
   "outputs": [],
   "source": [
    "# check predictions on test data\n",
    "y_pred_test_rf"
   ]
  },
  {
   "cell_type": "code",
   "execution_count": null,
   "id": "ce5ae6fb",
   "metadata": {},
   "outputs": [],
   "source": [
    "# check confusion matrix on both train and test data\n",
    "\n",
    "## TN FP\n",
    "## FN TP\n",
    "cm_train = confusion_matrix(y_train,y_pred_train_rf)\n",
    "cm_test = confusion_matrix(y_test,y_pred_test_rf)\n",
    "print('Training data:',cm_train)\n",
    "print()\n",
    "print('Testing data:', cm_test)"
   ]
  },
  {
   "cell_type": "code",
   "execution_count": null,
   "id": "3cae51eb",
   "metadata": {},
   "outputs": [],
   "source": [
    "# check recall scores on train data\n",
    "print(f'Recall score of the model on train data: {cm_train[1][1]/(cm_train[1][1]+cm_train[1][0])}')"
   ]
  },
  {
   "cell_type": "code",
   "execution_count": null,
   "id": "0fc5475c",
   "metadata": {},
   "outputs": [],
   "source": [
    "# check recall scores on test data\n",
    "print(f'Recall score of the model on test data: {cm_test[1][1]/(cm_test[1][1]+cm_test[1][0])}')"
   ]
  },
  {
   "cell_type": "code",
   "execution_count": null,
   "id": "389254c1",
   "metadata": {},
   "outputs": [],
   "source": [
    "# get the parameters of the model\n",
    "rf.get_params()"
   ]
  },
  {
   "cell_type": "markdown",
   "id": "c5d8c99f",
   "metadata": {},
   "source": [
    "`Inferences:` Model overfit"
   ]
  },
  {
   "cell_type": "code",
   "execution_count": null,
   "id": "46172257",
   "metadata": {},
   "outputs": [],
   "source": [
    "# importing randomized search cv to do hyperparameter tuning\n",
    "from sklearn.model_selection import RandomizedSearchCV\n",
    "\n",
    "rf = RandomForestClassifier(class_weight = 'balanced')\n",
    "params = {'n_estimators':[5,10,20,40,80,100,200],\n",
    "          'criterion':['gini','entropy','log_loss'],\n",
    "          'max_depth':[2,5,10,20],\n",
    "          'min_samples_split':[2,4,8,12],\n",
    "          'min_samples_leaf':[2,4,6,8,10],\n",
    "          'oob_score': [True]}\n",
    "\n",
    "\n",
    "#randomized search cv\n",
    "rcv = RandomizedSearchCV(estimator = rf, param_distributions = params, n_iter = 10, scoring = 'recall', cv = 10, verbose=5, \n",
    "                                random_state=42, n_jobs=-1, return_train_score=True)\n",
    "rcv.fit(X_train,y_train)"
   ]
  },
  {
   "cell_type": "code",
   "execution_count": null,
   "id": "eb5976eb",
   "metadata": {},
   "outputs": [],
   "source": [
    "# best estimator\n",
    "rcv.best_estimator_"
   ]
  },
  {
   "cell_type": "code",
   "execution_count": null,
   "id": "68be0a95",
   "metadata": {},
   "outputs": [],
   "source": [
    "# best score\n",
    "rcv.best_score_"
   ]
  },
  {
   "cell_type": "code",
   "execution_count": null,
   "id": "7386d954",
   "metadata": {},
   "outputs": [],
   "source": [
    "# let's re build random forest model\n",
    "rf = rcv.best_estimator_\n",
    "\n",
    "# fitting on train data\n",
    "rf.fit(X_train,y_train)"
   ]
  },
  {
   "cell_type": "code",
   "execution_count": null,
   "id": "cd8e31e4",
   "metadata": {},
   "outputs": [],
   "source": [
    "# predictions on train data\n",
    "y_train_pred_rf = rf.predict(X_train)\n",
    "\n",
    "# predictions on test data\n",
    "y_test_pred_rf = rf.predict(X_test)"
   ]
  },
  {
   "cell_type": "code",
   "execution_count": null,
   "id": "af4f3e5e",
   "metadata": {},
   "outputs": [],
   "source": [
    "# check confusion matrix on both train and test data\n",
    "## TN FP\n",
    "## FN TP\n",
    "cm_train = confusion_matrix(y_train,y_train_pred_rf)\n",
    "cm_test = confusion_matrix(y_test,y_test_pred_rf)\n",
    "print('Training data:',cm_train)\n",
    "print()\n",
    "print('Testing data:', cm_test)"
   ]
  },
  {
   "cell_type": "code",
   "execution_count": null,
   "id": "206a418b",
   "metadata": {},
   "outputs": [],
   "source": [
    "# check recall scores on train data\n",
    "print(f'Recall score of the model on train data: {cm_train[1][1]/(cm_train[1][1]+cm_train[1][0])}')\n",
    "# check recall scores on test data\n",
    "print(f'Recall score of the model on test data: {cm_test[1][1]/(cm_test[1][1]+cm_test[1][0])}')"
   ]
  },
  {
   "cell_type": "code",
   "execution_count": null,
   "id": "0de31ab3",
   "metadata": {},
   "outputs": [],
   "source": [
    "# feature importances\n",
    "feature_imp_rf = pd.DataFrame(index = X_train.columns, data = rf.feature_importances_*100, columns = ['feature_importance_%'])\n",
    "\n",
    "# check\n",
    "feature_imp_rf"
   ]
  },
  {
   "cell_type": "code",
   "execution_count": null,
   "id": "0db2d525",
   "metadata": {},
   "outputs": [],
   "source": [
    "plt.title('Feature importances by Random Forest Classifier')\n",
    "plt.pie(x = feature_imp_rf['feature_importance_%'], labels = feature_imp_rf.index, rotatelabels = True)\n",
    "plt.show()"
   ]
  },
  {
   "cell_type": "markdown",
   "id": "b94c4bbb",
   "metadata": {},
   "source": [
    "`Inferences:` As per the random forest model, the top 3 significant features are `Transaction_amount`, `Transaction_hour` and `Merchant category`. "
   ]
  },
  {
   "cell_type": "code",
   "execution_count": null,
   "id": "acdff9f8",
   "metadata": {},
   "outputs": [],
   "source": [
    "# let's drop the remaining features which are redundant and re train the model\n",
    "X_train_final = X_train[['amt','trans_hour','category']]\n",
    "X_test_final = X_test[['amt','trans_hour','category']]\n"
   ]
  },
  {
   "cell_type": "code",
   "execution_count": null,
   "id": "694be80c",
   "metadata": {},
   "outputs": [],
   "source": [
    "# initializing random forest model\n",
    "rf = rcv.best_estimator_\n",
    "\n",
    "# fitting\n",
    "rf.fit(X_train_final,y_train)"
   ]
  },
  {
   "cell_type": "code",
   "execution_count": null,
   "id": "5eddd2e3",
   "metadata": {},
   "outputs": [],
   "source": [
    "# predictions on train data\n",
    "y_train_pred_rf = rf.predict(X_train_final)\n",
    "\n",
    "# predictions on test data\n",
    "y_test_pred_rf = rf.predict(X_test_final)"
   ]
  },
  {
   "cell_type": "code",
   "execution_count": null,
   "id": "b9c1c09d",
   "metadata": {},
   "outputs": [],
   "source": [
    "# check confusion matrix on both train and test data\n",
    "## TN FP\n",
    "## FN TP\n",
    "cm_train = confusion_matrix(y_train,y_train_pred_rf)\n",
    "cm_test = confusion_matrix(y_test,y_test_pred_rf)\n",
    "print('Training data:',cm_train)\n",
    "print()\n",
    "print('Testing data:', cm_test)"
   ]
  },
  {
   "cell_type": "code",
   "execution_count": null,
   "id": "0d0c6e1d",
   "metadata": {},
   "outputs": [],
   "source": [
    "# check recall scores on train data\n",
    "print(f'Recall score of the model on train data: {cm_train[1][1]/(cm_train[1][1]+cm_train[1][0])}')\n",
    "# check recall scores on test data\n",
    "print(f'Recall score of the model on test data: {cm_test[1][1]/(cm_test[1][1]+cm_test[1][0])}')"
   ]
  },
  {
   "cell_type": "code",
   "execution_count": null,
   "id": "c0ba0c7d",
   "metadata": {},
   "outputs": [],
   "source": [
    "# feature importances\n",
    "feature_imp_rf = pd.DataFrame(index = X_train_final.columns, data = rf.feature_importances_*100, columns = ['feature_importance_%'])\n",
    "\n",
    "# check\n",
    "feature_imp_rf"
   ]
  },
  {
   "cell_type": "code",
   "execution_count": null,
   "id": "424559a6",
   "metadata": {},
   "outputs": [],
   "source": [
    "plt.title('Feature importances by Random Forest Classifier')\n",
    "plt.pie(x = feature_imp_rf['feature_importance_%'], labels = feature_imp_rf.index, rotatelabels = True)\n",
    "plt.show()"
   ]
  },
  {
   "cell_type": "markdown",
   "id": "ea567c73",
   "metadata": {},
   "source": [
    "#### Let's perform cost benefit analysis using the Random forest classifier model."
   ]
  },
  {
   "cell_type": "code",
   "execution_count": null,
   "id": "9d4cedfb",
   "metadata": {},
   "outputs": [],
   "source": [
    "# creating a dataframe\n",
    "rf_results = pd.DataFrame()"
   ]
  },
  {
   "cell_type": "code",
   "execution_count": null,
   "id": "69d1e1ba",
   "metadata": {},
   "outputs": [],
   "source": [
    "rf_results['txn_num'] = pd.concat([txn_train,txn_test])['txn_num'].values\n",
    "rf_results['amt'] = pd.concat([txn_train,txn_test])['amt'].values\n",
    "rf_results['fraud_act'] = np.concatenate([y_train,y_test],axis = 0)\n",
    "rf_results['fraud_pred'] = np.concatenate([y_train_pred_rf,y_test_pred_rf],axis = 0)\n",
    "\n",
    "# check\n",
    "rf_results"
   ]
  },
  {
   "cell_type": "markdown",
   "id": "5324125a",
   "metadata": {},
   "source": [
    "#### Average number of transactions per month detected as fraudulent by the model (TF)"
   ]
  },
  {
   "cell_type": "code",
   "execution_count": null,
   "id": "b7b78549",
   "metadata": {},
   "outputs": [],
   "source": [
    "f_txns = round(len(rf_results[rf_results['fraud_pred'] == 1]['txn_num'].unique())/24)\n",
    "\n",
    "print(f_txns)"
   ]
  },
  {
   "cell_type": "code",
   "execution_count": null,
   "id": "a70132ab",
   "metadata": {},
   "outputs": [],
   "source": [
    "print(f'Total cost of providing customer support per month for fraudulent transactions detected by the model = {f_txns*1.5}')"
   ]
  },
  {
   "cell_type": "markdown",
   "id": "db2dfe7c",
   "metadata": {},
   "source": [
    "#### Average number of transactions per month that are fraudulent but not detected by the model"
   ]
  },
  {
   "cell_type": "code",
   "execution_count": null,
   "id": "5f22db96",
   "metadata": {},
   "outputs": [],
   "source": [
    "f_txns_tn = round(len(rf_results[(rf_results['fraud_act'] == 1) & (rf_results['fraud_pred'] == 0)]['txn_num'].unique())/24)\n",
    "\n",
    "print(f_txns_tn)"
   ]
  },
  {
   "cell_type": "code",
   "execution_count": null,
   "id": "355813d2",
   "metadata": {},
   "outputs": [],
   "source": [
    "print(f'Cost incurred due to fraudulent transactions left undetected by the model = {f_txns_tn*530.66}')"
   ]
  },
  {
   "cell_type": "code",
   "execution_count": null,
   "id": "0e20924d",
   "metadata": {},
   "outputs": [],
   "source": [
    "print(f'Cost incurred per month after the model is built and deployed = {2115+7429.24}')"
   ]
  },
  {
   "cell_type": "markdown",
   "id": "a05f51a6",
   "metadata": {},
   "source": [
    "#### Final savings = Cost incurred before - Cost incurred after"
   ]
  },
  {
   "cell_type": "code",
   "execution_count": null,
   "id": "c81ce8d1",
   "metadata": {},
   "outputs": [],
   "source": [
    "print(f'Final savings = $ {213325.32 - 9544.24}')"
   ]
  },
  {
   "cell_type": "code",
   "execution_count": null,
   "id": "f47ee717",
   "metadata": {},
   "outputs": [],
   "source": [
    "model_results"
   ]
  },
  {
   "cell_type": "code",
   "execution_count": null,
   "id": "277b945b",
   "metadata": {},
   "outputs": [],
   "source": [
    "# saving the results\n",
    "model_results.loc[len(model_results)] = ['Random Forest Clasifier model', 0.97,0.95,'$203,781.08']\n",
    "\n",
    "# check\n",
    "model_results"
   ]
  },
  {
   "cell_type": "markdown",
   "id": "1a306e04",
   "metadata": {},
   "source": [
    "### Our Random forest classifier model saved almost 96% of the cost per month to the bank, it performed far better than the Logistic regression model."
   ]
  },
  {
   "cell_type": "code",
   "execution_count": null,
   "id": "8dfbfd81",
   "metadata": {},
   "outputs": [],
   "source": [
    "# save these results to disk\n",
    "model_results.to_csv('model_results.csv', index = False)"
   ]
  },
  {
   "cell_type": "code",
   "execution_count": null,
   "id": "0ada0934",
   "metadata": {},
   "outputs": [],
   "source": [
    "# saving the Randomforest model as well\n",
    "joblib.dump(rf, filename = r'models\\randomforest_model_f.pkl')"
   ]
  },
  {
   "cell_type": "code",
   "execution_count": null,
   "id": "a914539a",
   "metadata": {},
   "outputs": [],
   "source": [
    "X_train_final.columns"
   ]
  }
 ],
 "metadata": {
  "kernelspec": {
   "display_name": ".venv",
   "language": "python",
   "name": "python3"
  },
  "language_info": {
   "codemirror_mode": {
    "name": "ipython",
    "version": 3
   },
   "file_extension": ".py",
   "mimetype": "text/x-python",
   "name": "python",
   "nbconvert_exporter": "python",
   "pygments_lexer": "ipython3",
   "version": "3.10.12"
  }
 },
 "nbformat": 4,
 "nbformat_minor": 5
}
